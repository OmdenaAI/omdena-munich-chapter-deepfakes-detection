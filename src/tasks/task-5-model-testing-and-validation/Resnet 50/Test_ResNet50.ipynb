{
  "cells": [
    {
      "cell_type": "code",
      "execution_count": 30,
      "metadata": {
        "id": "Py3DcgiTKW_G"
      },
      "outputs": [],
      "source": [
        "import os\n",
        "import numpy as np\n",
        "import pandas as pd\n",
        "from PIL import Image\n",
        "import tensorflow as tf\n",
        "from tensorflow.keras.models import load_model\n",
        "from tensorflow.keras.preprocessing.image import ImageDataGenerator\n",
        "from tensorflow.keras.applications import ResNet50"
      ]
    },
    {
      "cell_type": "code",
      "execution_count": 31,
      "metadata": {
        "colab": {
          "base_uri": "https://localhost:8080/"
        },
        "id": "YXPi9OC7MlYD",
        "outputId": "f133a1e2-a943-457f-a789-50e988998971"
      },
      "outputs": [
        {
          "output_type": "stream",
          "name": "stdout",
          "text": [
            "Drive already mounted at /content/drive; to attempt to forcibly remount, call drive.mount(\"/content/drive\", force_remount=True).\n"
          ]
        }
      ],
      "source": [
        "from google.colab import drive\n",
        "drive.mount('/content/drive')"
      ]
    },
    {
      "cell_type": "code",
      "execution_count": 32,
      "metadata": {
        "id": "h-b9Jy2nMwvy"
      },
      "outputs": [],
      "source": [
        "directory_path = \"/content/drive/MyDrive/Omdena Deep Fake test/test-task1/\"\n",
        "# Load the labels from the Word file\n",
        "labels_file = open(\"/content/drive/MyDrive/Omdena Deep Fake test/labels.txt\", \"r\")\n",
        "label_list = []\n",
        "for line in labels_file:\n",
        "    label = int(line.strip())\n",
        "    label_list.append(label)\n",
        "labels_file.close()"
      ]
    },
    {
      "cell_type": "code",
      "execution_count": 33,
      "metadata": {
        "id": "T5le1Jh2ys1d"
      },
      "outputs": [],
      "source": [
        "from keras.models import load_model\n",
        "model = load_model('/content/drive/MyDrive/Omdena Deep Fake test/ResNet50.h5')"
      ]
    },
    {
      "cell_type": "code",
      "execution_count": 34,
      "metadata": {
        "colab": {
          "base_uri": "https://localhost:8080/"
        },
        "id": "W_aJkDuBM49y",
        "outputId": "5b447d22-d66d-408d-c9bc-666078e3ca2d"
      },
      "outputs": [
        {
          "output_type": "stream",
          "name": "stdout",
          "text": [
            "Found 7000 files belonging to 2 classes.\n"
          ]
        }
      ],
      "source": [
        "from tensorflow.keras.applications.resnet50 import preprocess_input\n",
        "\n",
        "\n",
        "test_ds = tf.keras.utils.image_dataset_from_directory(\n",
        "  directory_path,\n",
        "  labels=label_list,\n",
        "  image_size=(160, 160),\n",
        "  batch_size=16)\n",
        "\n",
        "# test_ds = test_ds.map(lambda x, y: (preprocess_input(x), y))\n"
      ]
    },
    {
      "cell_type": "code",
      "source": [
        "test_ds = test_ds.map(lambda x, y: (tf.keras.applications.resnet50.preprocess_input(x), y))\n"
      ],
      "metadata": {
        "id": "iBRaHzExCZoH"
      },
      "execution_count": 35,
      "outputs": []
    },
    {
      "cell_type": "code",
      "source": [
        "y_true = np.array(label_list)"
      ],
      "metadata": {
        "id": "PAGwnS80DHCx"
      },
      "execution_count": 36,
      "outputs": []
    },
    {
      "cell_type": "code",
      "source": [
        "predicted_labels = model.predict(test_ds)"
      ],
      "metadata": {
        "colab": {
          "base_uri": "https://localhost:8080/"
        },
        "outputId": "3a68b6f8-e1f0-4fc0-93ac-71d6e2dd3b20",
        "id": "tqjqL1j6DHDJ"
      },
      "execution_count": 37,
      "outputs": [
        {
          "output_type": "stream",
          "name": "stdout",
          "text": [
            "438/438 [==============================] - 40s 77ms/step\n"
          ]
        }
      ]
    },
    {
      "cell_type": "code",
      "source": [
        "predicted_labels[predicted_labels<0.5]=0\n",
        "predicted_labels[predicted_labels>=0.5]=1\n"
      ],
      "metadata": {
        "id": "Vb_4MG5kDHDK"
      },
      "execution_count": 38,
      "outputs": []
    },
    {
      "cell_type": "code",
      "source": [
        "correct_labels = np.array(y_true)\n",
        "correct_labels = 1- correct_labels\n"
      ],
      "metadata": {
        "id": "2FkMta9uDHDK"
      },
      "execution_count": 39,
      "outputs": []
    },
    {
      "cell_type": "code",
      "source": [
        "from sklearn.metrics import classification_report\n",
        "print(classification_report(correct_labels, predicted_labels.flatten()))\n"
      ],
      "metadata": {
        "colab": {
          "base_uri": "https://localhost:8080/"
        },
        "id": "_MiYQTyiIM2y",
        "outputId": "3a281615-04f6-44a6-c553-492a082122df"
      },
      "execution_count": 40,
      "outputs": [
        {
          "output_type": "stream",
          "name": "stdout",
          "text": [
            "              precision    recall  f1-score   support\n",
            "\n",
            "           0       0.71      0.86      0.78      5000\n",
            "           1       0.27      0.14      0.18      2000\n",
            "\n",
            "    accuracy                           0.65      7000\n",
            "   macro avg       0.49      0.50      0.48      7000\n",
            "weighted avg       0.59      0.65      0.61      7000\n",
            "\n"
          ]
        }
      ]
    },
    {
      "cell_type": "code",
      "source": [
        "from sklearn.metrics import confusion_matrix\n",
        "\n",
        "cm = confusion_matrix(correct_labels, predicted_labels.flatten())\n",
        "\n",
        "# print the confusion matrix\n",
        "print('Confusion matrix:')\n",
        "print(cm)"
      ],
      "metadata": {
        "id": "tNlugseWTXh3",
        "colab": {
          "base_uri": "https://localhost:8080/"
        },
        "outputId": "8cce4c94-1745-43c1-b295-83c721e067be"
      },
      "execution_count": 29,
      "outputs": [
        {
          "output_type": "stream",
          "name": "stdout",
          "text": [
            "Confusion matrix:\n",
            "[[4283  717]\n",
            " [1725  275]]\n"
          ]
        }
      ]
    }
  ],
  "metadata": {
    "accelerator": "GPU",
    "colab": {
      "provenance": []
    },
    "gpuClass": "standard",
    "kernelspec": {
      "display_name": "Python 3",
      "name": "python3"
    },
    "language_info": {
      "name": "python"
    }
  },
  "nbformat": 4,
  "nbformat_minor": 0
}