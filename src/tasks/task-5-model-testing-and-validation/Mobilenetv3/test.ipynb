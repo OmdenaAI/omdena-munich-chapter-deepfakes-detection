{
 "cells": [
  {
   "cell_type": "code",
   "execution_count": null,
   "id": "2bcaf1a1",
   "metadata": {
    "papermill": {
     "duration": 0.008469,
     "end_time": "2023-04-08T19:31:08.852461",
     "exception": false,
     "start_time": "2023-04-08T19:31:08.843992",
     "status": "completed"
    },
    "tags": []
   },
   "outputs": [],
   "source": []
  },
  {
   "cell_type": "markdown",
   "id": "e2fd98f2",
   "metadata": {
    "papermill": {
     "duration": 0.00704,
     "end_time": "2023-04-08T19:31:08.866959",
     "exception": false,
     "start_time": "2023-04-08T19:31:08.859919",
     "status": "completed"
    },
    "tags": []
   },
   "source": [
    "# Import Libraries"
   ]
  },
  {
   "cell_type": "code",
   "execution_count": 1,
   "id": "8784e112",
   "metadata": {
    "execution": {
     "iopub.execute_input": "2023-04-08T19:31:08.883781Z",
     "iopub.status.busy": "2023-04-08T19:31:08.882725Z",
     "iopub.status.idle": "2023-04-08T19:31:30.256709Z",
     "shell.execute_reply": "2023-04-08T19:31:30.255345Z"
    },
    "papermill": {
     "duration": 21.385362,
     "end_time": "2023-04-08T19:31:30.259548",
     "exception": false,
     "start_time": "2023-04-08T19:31:08.874186",
     "status": "completed"
    },
    "tags": []
   },
   "outputs": [
    {
     "name": "stdout",
     "output_type": "stream",
     "text": [
      "Collecting keras-cv-attention-models\r\n",
      "  Downloading keras_cv_attention_models-1.3.13-py3-none-any.whl (618 kB)\r\n",
      "\u001b[2K     \u001b[90m━━━━━━━━━━━━━━━━━━━━━━━━━━━━━━━━━━━━━━\u001b[0m \u001b[32m618.3/618.3 kB\u001b[0m \u001b[31m14.3 MB/s\u001b[0m eta \u001b[36m0:00:00\u001b[0m\r\n",
      "\u001b[?25hRequirement already satisfied: tensorflow in /opt/conda/lib/python3.7/site-packages (from keras-cv-attention-models) (2.11.0)\r\n",
      "Requirement already satisfied: tensorflow-datasets in /opt/conda/lib/python3.7/site-packages (from keras-cv-attention-models) (4.8.2)\r\n",
      "Requirement already satisfied: tensorflow-addons in /opt/conda/lib/python3.7/site-packages (from keras-cv-attention-models) (0.19.0)\r\n",
      "Requirement already satisfied: grpcio<2.0,>=1.24.3 in /opt/conda/lib/python3.7/site-packages (from tensorflow->keras-cv-attention-models) (1.51.1)\r\n",
      "Requirement already satisfied: gast<=0.4.0,>=0.2.1 in /opt/conda/lib/python3.7/site-packages (from tensorflow->keras-cv-attention-models) (0.4.0)\r\n",
      "Requirement already satisfied: termcolor>=1.1.0 in /opt/conda/lib/python3.7/site-packages (from tensorflow->keras-cv-attention-models) (2.2.0)\r\n",
      "Requirement already satisfied: packaging in /opt/conda/lib/python3.7/site-packages (from tensorflow->keras-cv-attention-models) (23.0)\r\n",
      "Requirement already satisfied: wrapt>=1.11.0 in /opt/conda/lib/python3.7/site-packages (from tensorflow->keras-cv-attention-models) (1.14.1)\r\n",
      "Requirement already satisfied: setuptools in /opt/conda/lib/python3.7/site-packages (from tensorflow->keras-cv-attention-models) (59.8.0)\r\n",
      "Requirement already satisfied: libclang>=13.0.0 in /opt/conda/lib/python3.7/site-packages (from tensorflow->keras-cv-attention-models) (15.0.6.1)\r\n",
      "Requirement already satisfied: tensorflow-io-gcs-filesystem>=0.23.1 in /opt/conda/lib/python3.7/site-packages (from tensorflow->keras-cv-attention-models) (0.29.0)\r\n",
      "Requirement already satisfied: keras<2.12,>=2.11.0 in /opt/conda/lib/python3.7/site-packages (from tensorflow->keras-cv-attention-models) (2.11.0)\r\n",
      "Collecting protobuf<3.20,>=3.9.2\r\n",
      "  Downloading protobuf-3.19.6-cp37-cp37m-manylinux_2_17_x86_64.manylinux2014_x86_64.whl (1.1 MB)\r\n",
      "\u001b[2K     \u001b[90m━━━━━━━━━━━━━━━━━━━━━━━━━━━━━━━━━━━━━━━━\u001b[0m \u001b[32m1.1/1.1 MB\u001b[0m \u001b[31m48.2 MB/s\u001b[0m eta \u001b[36m0:00:00\u001b[0m\r\n",
      "\u001b[?25hRequirement already satisfied: google-pasta>=0.1.1 in /opt/conda/lib/python3.7/site-packages (from tensorflow->keras-cv-attention-models) (0.2.0)\r\n",
      "Requirement already satisfied: h5py>=2.9.0 in /opt/conda/lib/python3.7/site-packages (from tensorflow->keras-cv-attention-models) (3.8.0)\r\n",
      "Requirement already satisfied: typing-extensions>=3.6.6 in /opt/conda/lib/python3.7/site-packages (from tensorflow->keras-cv-attention-models) (4.4.0)\r\n",
      "Requirement already satisfied: tensorflow-estimator<2.12,>=2.11.0 in /opt/conda/lib/python3.7/site-packages (from tensorflow->keras-cv-attention-models) (2.11.0)\r\n",
      "Requirement already satisfied: flatbuffers>=2.0 in /opt/conda/lib/python3.7/site-packages (from tensorflow->keras-cv-attention-models) (23.1.21)\r\n",
      "Requirement already satisfied: absl-py>=1.0.0 in /opt/conda/lib/python3.7/site-packages (from tensorflow->keras-cv-attention-models) (1.4.0)\r\n",
      "Requirement already satisfied: astunparse>=1.6.0 in /opt/conda/lib/python3.7/site-packages (from tensorflow->keras-cv-attention-models) (1.6.3)\r\n",
      "Requirement already satisfied: six>=1.12.0 in /opt/conda/lib/python3.7/site-packages (from tensorflow->keras-cv-attention-models) (1.16.0)\r\n",
      "Requirement already satisfied: tensorboard<2.12,>=2.11 in /opt/conda/lib/python3.7/site-packages (from tensorflow->keras-cv-attention-models) (2.11.2)\r\n",
      "Requirement already satisfied: opt-einsum>=2.3.2 in /opt/conda/lib/python3.7/site-packages (from tensorflow->keras-cv-attention-models) (3.3.0)\r\n",
      "Requirement already satisfied: numpy>=1.20 in /opt/conda/lib/python3.7/site-packages (from tensorflow->keras-cv-attention-models) (1.21.6)\r\n",
      "Requirement already satisfied: typeguard>=2.7 in /opt/conda/lib/python3.7/site-packages (from tensorflow-addons->keras-cv-attention-models) (2.13.3)\r\n",
      "Requirement already satisfied: psutil in /opt/conda/lib/python3.7/site-packages (from tensorflow-datasets->keras-cv-attention-models) (5.9.3)\r\n",
      "Requirement already satisfied: tensorflow-metadata in /opt/conda/lib/python3.7/site-packages (from tensorflow-datasets->keras-cv-attention-models) (1.12.0)\r\n",
      "Requirement already satisfied: etils[enp,epath]>=0.9.0 in /opt/conda/lib/python3.7/site-packages (from tensorflow-datasets->keras-cv-attention-models) (0.9.0)\r\n",
      "Requirement already satisfied: dm-tree in /opt/conda/lib/python3.7/site-packages (from tensorflow-datasets->keras-cv-attention-models) (0.1.8)\r\n",
      "Requirement already satisfied: click in /opt/conda/lib/python3.7/site-packages (from tensorflow-datasets->keras-cv-attention-models) (8.1.3)\r\n",
      "Requirement already satisfied: requests>=2.19.0 in /opt/conda/lib/python3.7/site-packages (from tensorflow-datasets->keras-cv-attention-models) (2.28.2)\r\n",
      "Requirement already satisfied: promise in /opt/conda/lib/python3.7/site-packages (from tensorflow-datasets->keras-cv-attention-models) (2.3)\r\n",
      "Requirement already satisfied: dill in /opt/conda/lib/python3.7/site-packages (from tensorflow-datasets->keras-cv-attention-models) (0.3.6)\r\n",
      "Requirement already satisfied: importlib-resources in /opt/conda/lib/python3.7/site-packages (from tensorflow-datasets->keras-cv-attention-models) (5.10.2)\r\n",
      "Requirement already satisfied: toml in /opt/conda/lib/python3.7/site-packages (from tensorflow-datasets->keras-cv-attention-models) (0.10.2)\r\n",
      "Requirement already satisfied: tqdm in /opt/conda/lib/python3.7/site-packages (from tensorflow-datasets->keras-cv-attention-models) (4.64.1)\r\n",
      "Requirement already satisfied: wheel<1.0,>=0.23.0 in /opt/conda/lib/python3.7/site-packages (from astunparse>=1.6.0->tensorflow->keras-cv-attention-models) (0.38.4)\r\n",
      "Requirement already satisfied: zipp in /opt/conda/lib/python3.7/site-packages (from etils[enp,epath]>=0.9.0->tensorflow-datasets->keras-cv-attention-models) (3.11.0)\r\n",
      "Requirement already satisfied: charset-normalizer<4,>=2 in /opt/conda/lib/python3.7/site-packages (from requests>=2.19.0->tensorflow-datasets->keras-cv-attention-models) (2.1.1)\r\n",
      "Requirement already satisfied: urllib3<1.27,>=1.21.1 in /opt/conda/lib/python3.7/site-packages (from requests>=2.19.0->tensorflow-datasets->keras-cv-attention-models) (1.26.14)\r\n",
      "Requirement already satisfied: certifi>=2017.4.17 in /opt/conda/lib/python3.7/site-packages (from requests>=2.19.0->tensorflow-datasets->keras-cv-attention-models) (2022.12.7)\r\n",
      "Requirement already satisfied: idna<4,>=2.5 in /opt/conda/lib/python3.7/site-packages (from requests>=2.19.0->tensorflow-datasets->keras-cv-attention-models) (3.4)\r\n",
      "Requirement already satisfied: google-auth<3,>=1.6.3 in /opt/conda/lib/python3.7/site-packages (from tensorboard<2.12,>=2.11->tensorflow->keras-cv-attention-models) (1.35.0)\r\n",
      "Requirement already satisfied: markdown>=2.6.8 in /opt/conda/lib/python3.7/site-packages (from tensorboard<2.12,>=2.11->tensorflow->keras-cv-attention-models) (3.4.1)\r\n",
      "Requirement already satisfied: tensorboard-data-server<0.7.0,>=0.6.0 in /opt/conda/lib/python3.7/site-packages (from tensorboard<2.12,>=2.11->tensorflow->keras-cv-attention-models) (0.6.1)\r\n",
      "Requirement already satisfied: google-auth-oauthlib<0.5,>=0.4.1 in /opt/conda/lib/python3.7/site-packages (from tensorboard<2.12,>=2.11->tensorflow->keras-cv-attention-models) (0.4.6)\r\n",
      "Requirement already satisfied: werkzeug>=1.0.1 in /opt/conda/lib/python3.7/site-packages (from tensorboard<2.12,>=2.11->tensorflow->keras-cv-attention-models) (2.2.3)\r\n",
      "Requirement already satisfied: tensorboard-plugin-wit>=1.6.0 in /opt/conda/lib/python3.7/site-packages (from tensorboard<2.12,>=2.11->tensorflow->keras-cv-attention-models) (1.8.1)\r\n",
      "Requirement already satisfied: importlib-metadata in /opt/conda/lib/python3.7/site-packages (from click->tensorflow-datasets->keras-cv-attention-models) (4.11.4)\r\n",
      "Requirement already satisfied: googleapis-common-protos<2,>=1.52.0 in /opt/conda/lib/python3.7/site-packages (from tensorflow-metadata->tensorflow-datasets->keras-cv-attention-models) (1.58.0)\r\n",
      "Requirement already satisfied: pyasn1-modules>=0.2.1 in /opt/conda/lib/python3.7/site-packages (from google-auth<3,>=1.6.3->tensorboard<2.12,>=2.11->tensorflow->keras-cv-attention-models) (0.2.8)\r\n",
      "Requirement already satisfied: rsa<5,>=3.1.4 in /opt/conda/lib/python3.7/site-packages (from google-auth<3,>=1.6.3->tensorboard<2.12,>=2.11->tensorflow->keras-cv-attention-models) (4.9)\r\n",
      "Requirement already satisfied: cachetools<5.0,>=2.0.0 in /opt/conda/lib/python3.7/site-packages (from google-auth<3,>=1.6.3->tensorboard<2.12,>=2.11->tensorflow->keras-cv-attention-models) (4.2.4)\r\n",
      "Requirement already satisfied: requests-oauthlib>=0.7.0 in /opt/conda/lib/python3.7/site-packages (from google-auth-oauthlib<0.5,>=0.4.1->tensorboard<2.12,>=2.11->tensorflow->keras-cv-attention-models) (1.3.1)\r\n",
      "Requirement already satisfied: MarkupSafe>=2.1.1 in /opt/conda/lib/python3.7/site-packages (from werkzeug>=1.0.1->tensorboard<2.12,>=2.11->tensorflow->keras-cv-attention-models) (2.1.1)\r\n",
      "Requirement already satisfied: pyasn1<0.5.0,>=0.4.6 in /opt/conda/lib/python3.7/site-packages (from pyasn1-modules>=0.2.1->google-auth<3,>=1.6.3->tensorboard<2.12,>=2.11->tensorflow->keras-cv-attention-models) (0.4.8)\r\n",
      "Requirement already satisfied: oauthlib>=3.0.0 in /opt/conda/lib/python3.7/site-packages (from requests-oauthlib>=0.7.0->google-auth-oauthlib<0.5,>=0.4.1->tensorboard<2.12,>=2.11->tensorflow->keras-cv-attention-models) (3.2.2)\r\n",
      "Installing collected packages: protobuf, keras-cv-attention-models\r\n",
      "  Attempting uninstall: protobuf\r\n",
      "    Found existing installation: protobuf 3.20.3\r\n",
      "    Uninstalling protobuf-3.20.3:\r\n",
      "      Successfully uninstalled protobuf-3.20.3\r\n",
      "\u001b[31mERROR: pip's dependency resolver does not currently take into account all the packages that are installed. This behaviour is the source of the following dependency conflicts.\r\n",
      "cudf 21.12.2 requires cupy-cuda115, which is not installed.\r\n",
      "tfx-bsl 1.12.0 requires google-api-python-client<2,>=1.7.11, but you have google-api-python-client 2.79.0 which is incompatible.\r\n",
      "tfx-bsl 1.12.0 requires pyarrow<7,>=6, but you have pyarrow 5.0.0 which is incompatible.\r\n",
      "tensorflow-transform 1.12.0 requires pyarrow<7,>=6, but you have pyarrow 5.0.0 which is incompatible.\r\n",
      "onnx 1.13.1 requires protobuf<4,>=3.20.2, but you have protobuf 3.19.6 which is incompatible.\r\n",
      "apache-beam 2.44.0 requires dill<0.3.2,>=0.3.1.1, but you have dill 0.3.6 which is incompatible.\u001b[0m\u001b[31m\r\n",
      "\u001b[0mSuccessfully installed keras-cv-attention-models-1.3.13 protobuf-3.19.6\r\n",
      "\u001b[33mWARNING: Running pip as the 'root' user can result in broken permissions and conflicting behaviour with the system package manager. It is recommended to use a virtual environment instead: https://pip.pypa.io/warnings/venv\u001b[0m\u001b[33m\r\n",
      "\u001b[0m"
     ]
    }
   ],
   "source": [
    "!pip install keras-cv-attention-models"
   ]
  },
  {
   "cell_type": "code",
   "execution_count": 2,
   "id": "95600743",
   "metadata": {
    "execution": {
     "iopub.execute_input": "2023-04-08T19:31:30.279792Z",
     "iopub.status.busy": "2023-04-08T19:31:30.278734Z",
     "iopub.status.idle": "2023-04-08T19:31:38.721955Z",
     "shell.execute_reply": "2023-04-08T19:31:38.719828Z"
    },
    "papermill": {
     "duration": 8.455909,
     "end_time": "2023-04-08T19:31:38.724390",
     "exception": false,
     "start_time": "2023-04-08T19:31:30.268481",
     "status": "completed"
    },
    "tags": []
   },
   "outputs": [
    {
     "name": "stdout",
     "output_type": "stream",
     "text": [
      "Tensorflow Version: 2.11.0\n",
      "Python Version: 3.7.12 | packaged by conda-forge | (default, Oct 26 2021, 06:08:53) \n",
      "[GCC 9.4.0]\n"
     ]
    }
   ],
   "source": [
    "import numpy as np\n",
    "import pandas as pd\n",
    "import tensorflow as tf\n",
    "import tensorflow_addons as tfa\n",
    "import matplotlib.pyplot as plt\n",
    "import matplotlib as mpl\n",
    "\n",
    "from tqdm.notebook import tqdm\n",
    "from multiprocessing import cpu_count\n",
    "from kaggle_datasets import KaggleDatasets\n",
    "from sklearn.model_selection import train_test_split\n",
    "from keras_cv_attention_models import convnext\n",
    "\n",
    "\n",
    "import numpy as np\n",
    "import os\n",
    "import PIL\n",
    "import PIL.Image\n",
    "import tensorflow as tf\n",
    "import tensorflow_datasets as tfds\n",
    "\n",
    "import os\n",
    "import time\n",
    "import pickle\n",
    "import math\n",
    "import random\n",
    "import sys\n",
    "import cv2\n",
    "import gc\n",
    "import datetime\n",
    "\n",
    "print(f'Tensorflow Version: {tf.__version__}')\n",
    "print(f'Python Version: {sys.version}')"
   ]
  },
  {
   "cell_type": "code",
   "execution_count": 3,
   "id": "7b8a91cf",
   "metadata": {
    "execution": {
     "iopub.execute_input": "2023-04-08T19:31:38.743104Z",
     "iopub.status.busy": "2023-04-08T19:31:38.742579Z",
     "iopub.status.idle": "2023-04-08T19:31:38.748003Z",
     "shell.execute_reply": "2023-04-08T19:31:38.747049Z"
    },
    "papermill": {
     "duration": 0.016952,
     "end_time": "2023-04-08T19:31:38.750019",
     "exception": false,
     "start_time": "2023-04-08T19:31:38.733067",
     "status": "completed"
    },
    "tags": []
   },
   "outputs": [],
   "source": [
    "now = datetime.datetime.now().strftime(\"%d-%b-%Y %H-%M-%S\")\n",
    "np.save(now, np.array([now]))"
   ]
  },
  {
   "cell_type": "markdown",
   "id": "b4b04c17",
   "metadata": {
    "papermill": {
     "duration": 0.008394,
     "end_time": "2023-04-08T19:31:38.766723",
     "exception": false,
     "start_time": "2023-04-08T19:31:38.758329",
     "status": "completed"
    },
    "tags": []
   },
   "source": [
    "## MP policy"
   ]
  },
  {
   "cell_type": "code",
   "execution_count": 4,
   "id": "b78d3229",
   "metadata": {
    "execution": {
     "iopub.execute_input": "2023-04-08T19:31:38.785296Z",
     "iopub.status.busy": "2023-04-08T19:31:38.785006Z",
     "iopub.status.idle": "2023-04-08T19:31:38.789432Z",
     "shell.execute_reply": "2023-04-08T19:31:38.788390Z"
    },
    "papermill": {
     "duration": 0.015845,
     "end_time": "2023-04-08T19:31:38.791491",
     "exception": false,
     "start_time": "2023-04-08T19:31:38.775646",
     "status": "completed"
    },
    "tags": []
   },
   "outputs": [],
   "source": [
    "# # float32 or mixed_float16 (mixed precision: compute float16, variable float32)\n",
    "# # TPU is fast enough and has enough memory to use float32\n",
    "# policy = tf.keras.mixed_precision.Policy('float32')\n",
    "# tf.keras.mixed_precision.set_global_policy(policy)\n",
    "\n",
    "# print(f'Compute dtype: {tf.keras.mixed_precision.global_policy().compute_dtype}')\n",
    "# print(f'Variable dtype: {tf.keras.mixed_precision.global_policy().variable_dtype}')"
   ]
  },
  {
   "cell_type": "markdown",
   "id": "838e3370",
   "metadata": {
    "papermill": {
     "duration": 0.008155,
     "end_time": "2023-04-08T19:31:38.808089",
     "exception": false,
     "start_time": "2023-04-08T19:31:38.799934",
     "status": "completed"
    },
    "tags": []
   },
   "source": [
    "## Matplotlib Config¶\n"
   ]
  },
  {
   "cell_type": "code",
   "execution_count": 5,
   "id": "099b4dfd",
   "metadata": {
    "execution": {
     "iopub.execute_input": "2023-04-08T19:31:38.826023Z",
     "iopub.status.busy": "2023-04-08T19:31:38.825720Z",
     "iopub.status.idle": "2023-04-08T19:31:38.832009Z",
     "shell.execute_reply": "2023-04-08T19:31:38.830999Z"
    },
    "papermill": {
     "duration": 0.017599,
     "end_time": "2023-04-08T19:31:38.834044",
     "exception": false,
     "start_time": "2023-04-08T19:31:38.816445",
     "status": "completed"
    },
    "tags": []
   },
   "outputs": [],
   "source": [
    "# MatplotLib Global Settings\n",
    "mpl.rcParams.update(mpl.rcParamsDefault)\n",
    "mpl.rcParams['xtick.labelsize'] = 16\n",
    "mpl.rcParams['ytick.labelsize'] = 16\n",
    "mpl.rcParams['axes.labelsize'] = 18\n",
    "mpl.rcParams['axes.titlesize'] = 24"
   ]
  },
  {
   "cell_type": "markdown",
   "id": "e0f74b8e",
   "metadata": {
    "papermill": {
     "duration": 0.008109,
     "end_time": "2023-04-08T19:31:38.850757",
     "exception": false,
     "start_time": "2023-04-08T19:31:38.842648",
     "status": "completed"
    },
    "tags": []
   },
   "source": [
    "## Config"
   ]
  },
  {
   "cell_type": "code",
   "execution_count": 6,
   "id": "55046848",
   "metadata": {
    "execution": {
     "iopub.execute_input": "2023-04-08T19:31:38.869077Z",
     "iopub.status.busy": "2023-04-08T19:31:38.868794Z",
     "iopub.status.idle": "2023-04-08T19:31:38.872770Z",
     "shell.execute_reply": "2023-04-08T19:31:38.871787Z"
    },
    "papermill": {
     "duration": 0.015368,
     "end_time": "2023-04-08T19:31:38.874846",
     "exception": false,
     "start_time": "2023-04-08T19:31:38.859478",
     "status": "completed"
    },
    "tags": []
   },
   "outputs": [],
   "source": [
    "# gpu_devices = tf.config.experimental.list_physical_devices('GPU')\n",
    "# for device in gpu_devices:\n",
    "#     tf.config.experimental.set_memory_growth(device, True)"
   ]
  },
  {
   "cell_type": "markdown",
   "id": "d4aa9c7a",
   "metadata": {
    "papermill": {
     "duration": 0.008184,
     "end_time": "2023-04-08T19:31:38.891344",
     "exception": false,
     "start_time": "2023-04-08T19:31:38.883160",
     "status": "completed"
    },
    "tags": []
   },
   "source": [
    "## Load Data"
   ]
  },
  {
   "cell_type": "code",
   "execution_count": 7,
   "id": "0d59b69c",
   "metadata": {
    "execution": {
     "iopub.execute_input": "2023-04-08T19:31:38.909748Z",
     "iopub.status.busy": "2023-04-08T19:31:38.908843Z",
     "iopub.status.idle": "2023-04-08T19:31:48.391856Z",
     "shell.execute_reply": "2023-04-08T19:31:48.390836Z"
    },
    "papermill": {
     "duration": 9.494612,
     "end_time": "2023-04-08T19:31:48.394324",
     "exception": false,
     "start_time": "2023-04-08T19:31:38.899712",
     "status": "completed"
    },
    "tags": []
   },
   "outputs": [
    {
     "name": "stdout",
     "output_type": "stream",
     "text": [
      "Found 7000 files belonging to 1 classes.\n"
     ]
    }
   ],
   "source": [
    "test_ds = tf.keras.utils.image_dataset_from_directory(\n",
    "  '/kaggle/input/fake-images-detecttion-dataset/test-task1/test-task1',\n",
    "  seed=0,\n",
    "  image_size=(160, 160),\n",
    "  batch_size=8,\n",
    "  labels=None,\n",
    "  shuffle=False)"
   ]
  },
  {
   "cell_type": "markdown",
   "id": "2e2ef8dc",
   "metadata": {
    "papermill": {
     "duration": 0.008349,
     "end_time": "2023-04-08T19:31:48.411560",
     "exception": false,
     "start_time": "2023-04-08T19:31:48.403211",
     "status": "completed"
    },
    "tags": []
   },
   "source": [
    "# Model"
   ]
  },
  {
   "cell_type": "code",
   "execution_count": 8,
   "id": "fb52dd61",
   "metadata": {
    "execution": {
     "iopub.execute_input": "2023-04-08T19:31:48.430081Z",
     "iopub.status.busy": "2023-04-08T19:31:48.429743Z",
     "iopub.status.idle": "2023-04-08T19:31:48.435632Z",
     "shell.execute_reply": "2023-04-08T19:31:48.434549Z"
    },
    "papermill": {
     "duration": 0.017705,
     "end_time": "2023-04-08T19:31:48.437789",
     "exception": false,
     "start_time": "2023-04-08T19:31:48.420084",
     "status": "completed"
    },
    "tags": []
   },
   "outputs": [],
   "source": [
    "# Seed all random number generators\n",
    "def seed_everything(seed=0):\n",
    "    os.environ['PYTHONHASHSEED'] = str(seed)\n",
    "    random.seed(seed)\n",
    "    np.random.seed(seed)\n",
    "    tf.random.set_seed(seed)\n",
    "\n",
    "seed_everything()\n"
   ]
  },
  {
   "cell_type": "code",
   "execution_count": 9,
   "id": "34f3eca1",
   "metadata": {
    "execution": {
     "iopub.execute_input": "2023-04-08T19:31:48.457046Z",
     "iopub.status.busy": "2023-04-08T19:31:48.455957Z",
     "iopub.status.idle": "2023-04-08T19:31:48.461993Z",
     "shell.execute_reply": "2023-04-08T19:31:48.461088Z"
    },
    "papermill": {
     "duration": 0.017842,
     "end_time": "2023-04-08T19:31:48.464152",
     "exception": false,
     "start_time": "2023-04-08T19:31:48.446310",
     "status": "completed"
    },
    "tags": []
   },
   "outputs": [],
   "source": [
    "def normalize(image):\n",
    "#     # Repeat channels to create 3 channel images required by pretrained ConvNextV2 models\n",
    "#     image = tf.repeat(image, repeats=3, axis=3)\n",
    "    # Cast to float 32\n",
    "    image = tf.cast(image, tf.float32)\n",
    "    # Normalize with respect to ImageNet mean/std\n",
    "    image = tf.keras.applications.imagenet_utils.preprocess_input(image, mode='torch')\n",
    "\n",
    "    return image"
   ]
  },
  {
   "cell_type": "code",
   "execution_count": 10,
   "id": "18a3974f",
   "metadata": {
    "execution": {
     "iopub.execute_input": "2023-04-08T19:31:48.482873Z",
     "iopub.status.busy": "2023-04-08T19:31:48.482061Z",
     "iopub.status.idle": "2023-04-08T19:31:48.497860Z",
     "shell.execute_reply": "2023-04-08T19:31:48.496952Z"
    },
    "papermill": {
     "duration": 0.027597,
     "end_time": "2023-04-08T19:31:48.500296",
     "exception": false,
     "start_time": "2023-04-08T19:31:48.472699",
     "status": "completed"
    },
    "tags": []
   },
   "outputs": [],
   "source": [
    "STRATEGY = tf.distribute.MirroredStrategy() # default distribution strategy in Tensorflow. Works on CPU and single GPU.\n",
    "\n",
    "N_REPLICAS = STRATEGY.num_replicas_in_sync"
   ]
  },
  {
   "cell_type": "code",
   "execution_count": 11,
   "id": "776ea1cb",
   "metadata": {
    "execution": {
     "iopub.execute_input": "2023-04-08T19:31:48.519158Z",
     "iopub.status.busy": "2023-04-08T19:31:48.518867Z",
     "iopub.status.idle": "2023-04-08T19:31:48.525972Z",
     "shell.execute_reply": "2023-04-08T19:31:48.524947Z"
    },
    "papermill": {
     "duration": 0.018569,
     "end_time": "2023-04-08T19:31:48.528047",
     "exception": false,
     "start_time": "2023-04-08T19:31:48.509478",
     "status": "completed"
    },
    "tags": []
   },
   "outputs": [
    {
     "data": {
      "text/plain": [
       "1"
      ]
     },
     "execution_count": 11,
     "metadata": {},
     "output_type": "execute_result"
    }
   ],
   "source": [
    "N_REPLICAS"
   ]
  },
  {
   "cell_type": "code",
   "execution_count": 12,
   "id": "9d554d8b",
   "metadata": {
    "execution": {
     "iopub.execute_input": "2023-04-08T19:31:48.546816Z",
     "iopub.status.busy": "2023-04-08T19:31:48.546016Z",
     "iopub.status.idle": "2023-04-08T19:31:48.550793Z",
     "shell.execute_reply": "2023-04-08T19:31:48.549895Z"
    },
    "papermill": {
     "duration": 0.016029,
     "end_time": "2023-04-08T19:31:48.552708",
     "exception": false,
     "start_time": "2023-04-08T19:31:48.536679",
     "status": "completed"
    },
    "tags": []
   },
   "outputs": [],
   "source": [
    "from keras_cv_attention_models import mobilenetv3"
   ]
  },
  {
   "cell_type": "code",
   "execution_count": 13,
   "id": "7ea224d5",
   "metadata": {
    "execution": {
     "iopub.execute_input": "2023-04-08T19:31:48.571760Z",
     "iopub.status.busy": "2023-04-08T19:31:48.570928Z",
     "iopub.status.idle": "2023-04-08T19:31:48.578500Z",
     "shell.execute_reply": "2023-04-08T19:31:48.577572Z"
    },
    "papermill": {
     "duration": 0.019088,
     "end_time": "2023-04-08T19:31:48.580556",
     "exception": false,
     "start_time": "2023-04-08T19:31:48.561468",
     "status": "completed"
    },
    "tags": []
   },
   "outputs": [],
   "source": [
    "def get_model(path):\n",
    "    # Inputs, note the names are equal to the dictionary keys in the dataset\n",
    "    image = tf.keras.layers.Input((160, 160, 3), name='image', dtype=tf.uint8)\n",
    "\n",
    "    # Normalize Input\n",
    "    image_norm = normalize(image)\n",
    "\n",
    "    # CNN Prediction in range [0,1]\n",
    "    x = mobilenetv3.MobileNetV3Large075(\n",
    "        input_shape=(160, 160, 3),\n",
    "        pretrained='imagenet',\n",
    "        num_classes=0,\n",
    "    )(image_norm)\n",
    "\n",
    "    # Average Pooling BxHxWxC -> BxC\n",
    "    x = tf.keras.layers.GlobalAveragePooling2D()(x)\n",
    "    # Dropout to prevent Overfitting\n",
    "    x = tf.keras.layers.Dropout(0.1)(x)\n",
    "    # Output value between [0, 1] using Sigmoid function\n",
    "    outputs = tf.keras.layers.Dense(1, activation='sigmoid')(x)\n",
    "\n",
    "    # Define model with inputs and outputs\n",
    "    model = tf.keras.models.Model(inputs=image, outputs=outputs)\n",
    "\n",
    "    # Load pretrained Model Weights\n",
    "    model.load_weights(path)\n",
    "\n",
    "    # Set model non-trainable\n",
    "    model.trainable = False\n",
    "\n",
    "    # Compile model\n",
    "    model.compile()\n",
    "\n",
    "    return model"
   ]
  },
  {
   "cell_type": "code",
   "execution_count": 14,
   "id": "0eba575c",
   "metadata": {
    "execution": {
     "iopub.execute_input": "2023-04-08T19:31:48.599489Z",
     "iopub.status.busy": "2023-04-08T19:31:48.598581Z",
     "iopub.status.idle": "2023-04-08T19:31:51.923903Z",
     "shell.execute_reply": "2023-04-08T19:31:51.922884Z"
    },
    "papermill": {
     "duration": 3.33753,
     "end_time": "2023-04-08T19:31:51.926599",
     "exception": false,
     "start_time": "2023-04-08T19:31:48.589069",
     "status": "completed"
    },
    "tags": []
   },
   "outputs": [
    {
     "name": "stdout",
     "output_type": "stream",
     "text": [
      "Downloading data from https://github.com/leondgarse/keras_cv_attention_models/releases/download/mobilenetv3_family/mobilenetv3_large_075_imagenet.h5\n",
      "16621424/16621424 [==============================] - 0s 0us/step\n",
      ">>>> Load pretrained from: /root/.keras/models/mobilenetv3_large_075_imagenet.h5\n"
     ]
    }
   ],
   "source": [
    "model = get_model('/kaggle/input/deep-fake-models-trial1/model_mobilenet_class_weights_more_epochs.h5')\n",
    "\n",
    "    "
   ]
  },
  {
   "cell_type": "markdown",
   "id": "0701fabe",
   "metadata": {
    "papermill": {
     "duration": 0.009033,
     "end_time": "2023-04-08T19:31:51.945180",
     "exception": false,
     "start_time": "2023-04-08T19:31:51.936147",
     "status": "completed"
    },
    "tags": []
   },
   "source": [
    "# Test"
   ]
  },
  {
   "cell_type": "code",
   "execution_count": 15,
   "id": "7cd8836f",
   "metadata": {
    "execution": {
     "iopub.execute_input": "2023-04-08T19:31:51.964673Z",
     "iopub.status.busy": "2023-04-08T19:31:51.964322Z",
     "iopub.status.idle": "2023-04-08T19:31:51.981041Z",
     "shell.execute_reply": "2023-04-08T19:31:51.980125Z"
    },
    "papermill": {
     "duration": 0.028851,
     "end_time": "2023-04-08T19:31:51.983201",
     "exception": false,
     "start_time": "2023-04-08T19:31:51.954350",
     "status": "completed"
    },
    "tags": []
   },
   "outputs": [],
   "source": [
    "y_true=[]\n",
    "with open('/kaggle/input/fake-images-detecttion-dataset/label-task1.txt') as f:\n",
    "    labels = f.readlines()\n",
    "# for line in lines:\n",
    "#     splitted_line=line.split(' ')\n",
    "#     y_true.append(int(splitted_line[1].strip('\\n')))\n",
    "    \n",
    "    "
   ]
  },
  {
   "cell_type": "code",
   "execution_count": 16,
   "id": "884ec435",
   "metadata": {
    "execution": {
     "iopub.execute_input": "2023-04-08T19:31:52.002579Z",
     "iopub.status.busy": "2023-04-08T19:31:52.002284Z",
     "iopub.status.idle": "2023-04-08T19:31:52.025778Z",
     "shell.execute_reply": "2023-04-08T19:31:52.024850Z"
    },
    "papermill": {
     "duration": 0.035671,
     "end_time": "2023-04-08T19:31:52.027929",
     "exception": false,
     "start_time": "2023-04-08T19:31:51.992258",
     "status": "completed"
    },
    "tags": []
   },
   "outputs": [],
   "source": [
    "import glob\n",
    "image_path = glob.glob('/kaggle/input/fake-images-detecttion-dataset/test-task1/test-task1/*jpg')"
   ]
  },
  {
   "cell_type": "code",
   "execution_count": 17,
   "id": "06e0c6b6",
   "metadata": {
    "execution": {
     "iopub.execute_input": "2023-04-08T19:31:52.047184Z",
     "iopub.status.busy": "2023-04-08T19:31:52.046895Z",
     "iopub.status.idle": "2023-04-08T19:31:52.052381Z",
     "shell.execute_reply": "2023-04-08T19:31:52.051480Z"
    },
    "papermill": {
     "duration": 0.017417,
     "end_time": "2023-04-08T19:31:52.054396",
     "exception": false,
     "start_time": "2023-04-08T19:31:52.036979",
     "status": "completed"
    },
    "tags": []
   },
   "outputs": [],
   "source": [
    "parh_len=len('/kaggle/input/fake-images-detecttion-dataset/test-task1/test-task1/')\n"
   ]
  },
  {
   "cell_type": "code",
   "execution_count": 18,
   "id": "4a9ac29b",
   "metadata": {
    "execution": {
     "iopub.execute_input": "2023-04-08T19:31:52.073878Z",
     "iopub.status.busy": "2023-04-08T19:31:52.073093Z",
     "iopub.status.idle": "2023-04-08T19:31:52.078603Z",
     "shell.execute_reply": "2023-04-08T19:31:52.077664Z"
    },
    "papermill": {
     "duration": 0.01746,
     "end_time": "2023-04-08T19:31:52.080854",
     "exception": false,
     "start_time": "2023-04-08T19:31:52.063394",
     "status": "completed"
    },
    "tags": []
   },
   "outputs": [],
   "source": [
    "import cv2"
   ]
  },
  {
   "cell_type": "code",
   "execution_count": 19,
   "id": "e4190096",
   "metadata": {
    "execution": {
     "iopub.execute_input": "2023-04-08T19:31:52.100389Z",
     "iopub.status.busy": "2023-04-08T19:31:52.099496Z",
     "iopub.status.idle": "2023-04-08T19:32:52.607051Z",
     "shell.execute_reply": "2023-04-08T19:32:52.605994Z"
    },
    "papermill": {
     "duration": 60.520295,
     "end_time": "2023-04-08T19:32:52.610137",
     "exception": false,
     "start_time": "2023-04-08T19:31:52.089842",
     "status": "completed"
    },
    "tags": []
   },
   "outputs": [],
   "source": [
    "y_true = []  # store true labels\n",
    "images_to_predict=[]\n",
    "\n",
    "# iterate over the dataset\n",
    "for img_path in image_path:   \n",
    "    for label in labels:\n",
    "        if img_path[parh_len:] in label:\n",
    "            splitted_label=label.split(' ')\n",
    "            y_true.append(int(splitted_label[1].strip('\\n')))\n",
    "            break\n",
    "\n",
    "    img = cv2.imread(img_path)\n",
    "    img  = cv2.resize(img, (160, 160))\n",
    "    img = cv2.cvtColor(img, cv2.COLOR_BGR2RGB)\n",
    "    images_to_predict.append(img)\n"
   ]
  },
  {
   "cell_type": "code",
   "execution_count": 20,
   "id": "ccabdd7d",
   "metadata": {
    "execution": {
     "iopub.execute_input": "2023-04-08T19:32:52.630877Z",
     "iopub.status.busy": "2023-04-08T19:32:52.630527Z",
     "iopub.status.idle": "2023-04-08T19:32:52.796329Z",
     "shell.execute_reply": "2023-04-08T19:32:52.795272Z"
    },
    "papermill": {
     "duration": 0.178691,
     "end_time": "2023-04-08T19:32:52.798788",
     "exception": false,
     "start_time": "2023-04-08T19:32:52.620097",
     "status": "completed"
    },
    "tags": []
   },
   "outputs": [],
   "source": [
    "images_to_predict = np.array(images_to_predict)\n",
    "y_true = np.array(y_true)"
   ]
  },
  {
   "cell_type": "code",
   "execution_count": null,
   "id": "cb5a1ee8",
   "metadata": {
    "execution": {
     "iopub.execute_input": "2023-04-08T19:24:06.396245Z",
     "iopub.status.busy": "2023-04-08T19:24:06.395615Z",
     "iopub.status.idle": "2023-04-08T19:24:06.402328Z",
     "shell.execute_reply": "2023-04-08T19:24:06.401187Z",
     "shell.execute_reply.started": "2023-04-08T19:24:06.396207Z"
    },
    "papermill": {
     "duration": 0.008784,
     "end_time": "2023-04-08T19:32:52.816794",
     "exception": false,
     "start_time": "2023-04-08T19:32:52.808010",
     "status": "completed"
    },
    "tags": []
   },
   "outputs": [],
   "source": []
  },
  {
   "cell_type": "code",
   "execution_count": 21,
   "id": "8700dc66",
   "metadata": {
    "execution": {
     "iopub.execute_input": "2023-04-08T19:32:52.837497Z",
     "iopub.status.busy": "2023-04-08T19:32:52.837173Z",
     "iopub.status.idle": "2023-04-08T19:32:52.843226Z",
     "shell.execute_reply": "2023-04-08T19:32:52.842258Z"
    },
    "papermill": {
     "duration": 0.018052,
     "end_time": "2023-04-08T19:32:52.845263",
     "exception": false,
     "start_time": "2023-04-08T19:32:52.827211",
     "status": "completed"
    },
    "tags": []
   },
   "outputs": [
    {
     "data": {
      "text/plain": [
       "(7000, 160, 160, 3)"
      ]
     },
     "execution_count": 21,
     "metadata": {},
     "output_type": "execute_result"
    }
   ],
   "source": [
    "images_to_predict.shape"
   ]
  },
  {
   "cell_type": "code",
   "execution_count": 22,
   "id": "558c3a28",
   "metadata": {
    "execution": {
     "iopub.execute_input": "2023-04-08T19:32:52.864792Z",
     "iopub.status.busy": "2023-04-08T19:32:52.863987Z",
     "iopub.status.idle": "2023-04-08T19:32:52.870641Z",
     "shell.execute_reply": "2023-04-08T19:32:52.869553Z"
    },
    "papermill": {
     "duration": 0.018924,
     "end_time": "2023-04-08T19:32:52.873155",
     "exception": false,
     "start_time": "2023-04-08T19:32:52.854231",
     "status": "completed"
    },
    "tags": []
   },
   "outputs": [
    {
     "data": {
      "text/plain": [
       "(7000,)"
      ]
     },
     "execution_count": 22,
     "metadata": {},
     "output_type": "execute_result"
    }
   ],
   "source": [
    "y_true.shape"
   ]
  },
  {
   "cell_type": "code",
   "execution_count": 23,
   "id": "8e31cd08",
   "metadata": {
    "execution": {
     "iopub.execute_input": "2023-04-08T19:32:52.892379Z",
     "iopub.status.busy": "2023-04-08T19:32:52.892108Z",
     "iopub.status.idle": "2023-04-08T19:33:05.229562Z",
     "shell.execute_reply": "2023-04-08T19:33:05.228419Z"
    },
    "papermill": {
     "duration": 12.35019,
     "end_time": "2023-04-08T19:33:05.232446",
     "exception": false,
     "start_time": "2023-04-08T19:32:52.882256",
     "status": "completed"
    },
    "tags": []
   },
   "outputs": [
    {
     "name": "stdout",
     "output_type": "stream",
     "text": [
      "219/219 [==============================] - 8s 14ms/step\n"
     ]
    }
   ],
   "source": [
    "predicted_labels = model.predict(images_to_predict)"
   ]
  },
  {
   "cell_type": "code",
   "execution_count": 24,
   "id": "fd5b86a1",
   "metadata": {
    "execution": {
     "iopub.execute_input": "2023-04-08T19:33:05.258957Z",
     "iopub.status.busy": "2023-04-08T19:33:05.258639Z",
     "iopub.status.idle": "2023-04-08T19:33:05.263728Z",
     "shell.execute_reply": "2023-04-08T19:33:05.262701Z"
    },
    "papermill": {
     "duration": 0.020979,
     "end_time": "2023-04-08T19:33:05.265968",
     "exception": false,
     "start_time": "2023-04-08T19:33:05.244989",
     "status": "completed"
    },
    "tags": []
   },
   "outputs": [],
   "source": [
    "predicted_labels[predicted_labels<0.5]=0\n",
    "predicted_labels[predicted_labels>=0.5]=1"
   ]
  },
  {
   "cell_type": "code",
   "execution_count": 25,
   "id": "90c94d51",
   "metadata": {
    "execution": {
     "iopub.execute_input": "2023-04-08T19:33:05.291441Z",
     "iopub.status.busy": "2023-04-08T19:33:05.291159Z",
     "iopub.status.idle": "2023-04-08T19:33:05.708042Z",
     "shell.execute_reply": "2023-04-08T19:33:05.706984Z"
    },
    "papermill": {
     "duration": 0.43263,
     "end_time": "2023-04-08T19:33:05.710874",
     "exception": false,
     "start_time": "2023-04-08T19:33:05.278244",
     "status": "completed"
    },
    "tags": []
   },
   "outputs": [],
   "source": [
    "import matplotlib.pyplot as plt\n",
    "import seaborn as sns\n"
   ]
  },
  {
   "cell_type": "code",
   "execution_count": 26,
   "id": "a222af06",
   "metadata": {
    "execution": {
     "iopub.execute_input": "2023-04-08T19:33:05.738087Z",
     "iopub.status.busy": "2023-04-08T19:33:05.736243Z",
     "iopub.status.idle": "2023-04-08T19:33:05.741637Z",
     "shell.execute_reply": "2023-04-08T19:33:05.740588Z"
    },
    "papermill": {
     "duration": 0.020766,
     "end_time": "2023-04-08T19:33:05.743870",
     "exception": false,
     "start_time": "2023-04-08T19:33:05.723104",
     "status": "completed"
    },
    "tags": []
   },
   "outputs": [],
   "source": [
    "# original test set labels (0 if the image is real; 1 if the image is Deepfake), However here we have it inverted"
   ]
  },
  {
   "cell_type": "code",
   "execution_count": 27,
   "id": "61686ad9",
   "metadata": {
    "execution": {
     "iopub.execute_input": "2023-04-08T19:33:05.769330Z",
     "iopub.status.busy": "2023-04-08T19:33:05.769016Z",
     "iopub.status.idle": "2023-04-08T19:33:05.773709Z",
     "shell.execute_reply": "2023-04-08T19:33:05.772699Z"
    },
    "papermill": {
     "duration": 0.019787,
     "end_time": "2023-04-08T19:33:05.775712",
     "exception": false,
     "start_time": "2023-04-08T19:33:05.755925",
     "status": "completed"
    },
    "tags": []
   },
   "outputs": [],
   "source": [
    "correct_labels = np.array(y_true)\n"
   ]
  },
  {
   "cell_type": "code",
   "execution_count": 28,
   "id": "0c905750",
   "metadata": {
    "execution": {
     "iopub.execute_input": "2023-04-08T19:33:05.801740Z",
     "iopub.status.busy": "2023-04-08T19:33:05.800927Z",
     "iopub.status.idle": "2023-04-08T19:33:05.805700Z",
     "shell.execute_reply": "2023-04-08T19:33:05.804702Z"
    },
    "papermill": {
     "duration": 0.019668,
     "end_time": "2023-04-08T19:33:05.807798",
     "exception": false,
     "start_time": "2023-04-08T19:33:05.788130",
     "status": "completed"
    },
    "tags": []
   },
   "outputs": [],
   "source": [
    "correct_labels = 1- correct_labels"
   ]
  },
  {
   "cell_type": "code",
   "execution_count": 29,
   "id": "1ace86ba",
   "metadata": {
    "execution": {
     "iopub.execute_input": "2023-04-08T19:33:05.832468Z",
     "iopub.status.busy": "2023-04-08T19:33:05.832202Z",
     "iopub.status.idle": "2023-04-08T19:33:05.840304Z",
     "shell.execute_reply": "2023-04-08T19:33:05.839124Z"
    },
    "papermill": {
     "duration": 0.022858,
     "end_time": "2023-04-08T19:33:05.842391",
     "exception": false,
     "start_time": "2023-04-08T19:33:05.819533",
     "status": "completed"
    },
    "tags": []
   },
   "outputs": [
    {
     "data": {
      "text/plain": [
       "(7000,)"
      ]
     },
     "execution_count": 29,
     "metadata": {},
     "output_type": "execute_result"
    }
   ],
   "source": [
    "correct_labels.shape"
   ]
  },
  {
   "cell_type": "code",
   "execution_count": 30,
   "id": "6e5be5da",
   "metadata": {
    "execution": {
     "iopub.execute_input": "2023-04-08T19:33:05.867895Z",
     "iopub.status.busy": "2023-04-08T19:33:05.867121Z",
     "iopub.status.idle": "2023-04-08T19:33:05.873894Z",
     "shell.execute_reply": "2023-04-08T19:33:05.872843Z"
    },
    "papermill": {
     "duration": 0.021619,
     "end_time": "2023-04-08T19:33:05.875989",
     "exception": false,
     "start_time": "2023-04-08T19:33:05.854370",
     "status": "completed"
    },
    "tags": []
   },
   "outputs": [
    {
     "data": {
      "text/plain": [
       "(7000, 1)"
      ]
     },
     "execution_count": 30,
     "metadata": {},
     "output_type": "execute_result"
    }
   ],
   "source": [
    "predicted_labels.shape"
   ]
  },
  {
   "cell_type": "code",
   "execution_count": 31,
   "id": "561cf2d5",
   "metadata": {
    "execution": {
     "iopub.execute_input": "2023-04-08T19:33:05.902086Z",
     "iopub.status.busy": "2023-04-08T19:33:05.901276Z",
     "iopub.status.idle": "2023-04-08T19:33:05.922160Z",
     "shell.execute_reply": "2023-04-08T19:33:05.920805Z"
    },
    "papermill": {
     "duration": 0.036148,
     "end_time": "2023-04-08T19:33:05.924265",
     "exception": false,
     "start_time": "2023-04-08T19:33:05.888117",
     "status": "completed"
    },
    "tags": []
   },
   "outputs": [
    {
     "name": "stdout",
     "output_type": "stream",
     "text": [
      "              precision    recall  f1-score   support\n",
      "\n",
      "           0       0.79      0.94      0.86      5000\n",
      "           1       0.72      0.39      0.51      2000\n",
      "\n",
      "    accuracy                           0.78      7000\n",
      "   macro avg       0.76      0.66      0.68      7000\n",
      "weighted avg       0.77      0.78      0.76      7000\n",
      "\n"
     ]
    }
   ],
   "source": [
    "from sklearn.metrics import classification_report\n",
    "print(classification_report(correct_labels, predicted_labels.flatten()))"
   ]
  }
 ],
 "metadata": {
  "kernelspec": {
   "display_name": "Python 3",
   "language": "python",
   "name": "python3"
  },
  "language_info": {
   "codemirror_mode": {
    "name": "ipython",
    "version": 3
   },
   "file_extension": ".py",
   "mimetype": "text/x-python",
   "name": "python",
   "nbconvert_exporter": "python",
   "pygments_lexer": "ipython3",
   "version": "3.7.12"
  },
  "papermill": {
   "default_parameters": {},
   "duration": 129.843934,
   "end_time": "2023-04-08T19:33:09.546507",
   "environment_variables": {},
   "exception": null,
   "input_path": "__notebook__.ipynb",
   "output_path": "__notebook__.ipynb",
   "parameters": {},
   "start_time": "2023-04-08T19:30:59.702573",
   "version": "2.4.0"
  }
 },
 "nbformat": 4,
 "nbformat_minor": 5
}
