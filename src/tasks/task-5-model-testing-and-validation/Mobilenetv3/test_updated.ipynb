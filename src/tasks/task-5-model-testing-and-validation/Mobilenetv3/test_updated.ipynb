{
 "cells": [
  {
   "cell_type": "code",
   "execution_count": null,
   "id": "67a41758",
   "metadata": {
    "papermill": {
     "duration": 0.008662,
     "end_time": "2023-04-11T11:05:16.129258",
     "exception": false,
     "start_time": "2023-04-11T11:05:16.120596",
     "status": "completed"
    },
    "tags": []
   },
   "outputs": [],
   "source": []
  },
  {
   "cell_type": "markdown",
   "id": "730e44f6",
   "metadata": {
    "papermill": {
     "duration": 0.007033,
     "end_time": "2023-04-11T11:05:16.143895",
     "exception": false,
     "start_time": "2023-04-11T11:05:16.136862",
     "status": "completed"
    },
    "tags": []
   },
   "source": [
    "# Import Libraries"
   ]
  },
  {
   "cell_type": "code",
   "execution_count": 1,
   "id": "4102bd26",
   "metadata": {
    "execution": {
     "iopub.execute_input": "2023-04-11T11:05:16.161931Z",
     "iopub.status.busy": "2023-04-11T11:05:16.160718Z",
     "iopub.status.idle": "2023-04-11T11:05:37.838852Z",
     "shell.execute_reply": "2023-04-11T11:05:37.837639Z"
    },
    "papermill": {
     "duration": 21.689908,
     "end_time": "2023-04-11T11:05:37.841475",
     "exception": false,
     "start_time": "2023-04-11T11:05:16.151567",
     "status": "completed"
    },
    "tags": []
   },
   "outputs": [
    {
     "name": "stdout",
     "output_type": "stream",
     "text": [
      "Collecting keras-cv-attention-models\r\n",
      "  Downloading keras_cv_attention_models-1.3.13-py3-none-any.whl (618 kB)\r\n",
      "\u001b[2K     \u001b[90m━━━━━━━━━━━━━━━━━━━━━━━━━━━━━━━━━━━━━━\u001b[0m \u001b[32m618.3/618.3 kB\u001b[0m \u001b[31m23.5 MB/s\u001b[0m eta \u001b[36m0:00:00\u001b[0m\r\n",
      "\u001b[?25hRequirement already satisfied: tensorflow-addons in /opt/conda/lib/python3.7/site-packages (from keras-cv-attention-models) (0.19.0)\r\n",
      "Requirement already satisfied: tensorflow in /opt/conda/lib/python3.7/site-packages (from keras-cv-attention-models) (2.11.0)\r\n",
      "Requirement already satisfied: tensorflow-datasets in /opt/conda/lib/python3.7/site-packages (from keras-cv-attention-models) (4.8.2)\r\n",
      "Requirement already satisfied: opt-einsum>=2.3.2 in /opt/conda/lib/python3.7/site-packages (from tensorflow->keras-cv-attention-models) (3.3.0)\r\n",
      "Requirement already satisfied: grpcio<2.0,>=1.24.3 in /opt/conda/lib/python3.7/site-packages (from tensorflow->keras-cv-attention-models) (1.51.1)\r\n",
      "Requirement already satisfied: tensorboard<2.12,>=2.11 in /opt/conda/lib/python3.7/site-packages (from tensorflow->keras-cv-attention-models) (2.11.2)\r\n",
      "Requirement already satisfied: numpy>=1.20 in /opt/conda/lib/python3.7/site-packages (from tensorflow->keras-cv-attention-models) (1.21.6)\r\n",
      "Requirement already satisfied: six>=1.12.0 in /opt/conda/lib/python3.7/site-packages (from tensorflow->keras-cv-attention-models) (1.16.0)\r\n",
      "Collecting protobuf<3.20,>=3.9.2\r\n",
      "  Downloading protobuf-3.19.6-cp37-cp37m-manylinux_2_17_x86_64.manylinux2014_x86_64.whl (1.1 MB)\r\n",
      "\u001b[2K     \u001b[90m━━━━━━━━━━━━━━━━━━━━━━━━━━━━━━━━━━━━━━━━\u001b[0m \u001b[32m1.1/1.1 MB\u001b[0m \u001b[31m55.1 MB/s\u001b[0m eta \u001b[36m0:00:00\u001b[0m\r\n",
      "\u001b[?25hRequirement already satisfied: typing-extensions>=3.6.6 in /opt/conda/lib/python3.7/site-packages (from tensorflow->keras-cv-attention-models) (4.4.0)\r\n",
      "Requirement already satisfied: wrapt>=1.11.0 in /opt/conda/lib/python3.7/site-packages (from tensorflow->keras-cv-attention-models) (1.14.1)\r\n",
      "Requirement already satisfied: packaging in /opt/conda/lib/python3.7/site-packages (from tensorflow->keras-cv-attention-models) (23.0)\r\n",
      "Requirement already satisfied: termcolor>=1.1.0 in /opt/conda/lib/python3.7/site-packages (from tensorflow->keras-cv-attention-models) (2.2.0)\r\n",
      "Requirement already satisfied: flatbuffers>=2.0 in /opt/conda/lib/python3.7/site-packages (from tensorflow->keras-cv-attention-models) (23.1.21)\r\n",
      "Requirement already satisfied: astunparse>=1.6.0 in /opt/conda/lib/python3.7/site-packages (from tensorflow->keras-cv-attention-models) (1.6.3)\r\n",
      "Requirement already satisfied: absl-py>=1.0.0 in /opt/conda/lib/python3.7/site-packages (from tensorflow->keras-cv-attention-models) (1.4.0)\r\n",
      "Requirement already satisfied: tensorflow-estimator<2.12,>=2.11.0 in /opt/conda/lib/python3.7/site-packages (from tensorflow->keras-cv-attention-models) (2.11.0)\r\n",
      "Requirement already satisfied: h5py>=2.9.0 in /opt/conda/lib/python3.7/site-packages (from tensorflow->keras-cv-attention-models) (3.8.0)\r\n",
      "Requirement already satisfied: keras<2.12,>=2.11.0 in /opt/conda/lib/python3.7/site-packages (from tensorflow->keras-cv-attention-models) (2.11.0)\r\n",
      "Requirement already satisfied: google-pasta>=0.1.1 in /opt/conda/lib/python3.7/site-packages (from tensorflow->keras-cv-attention-models) (0.2.0)\r\n",
      "Requirement already satisfied: tensorflow-io-gcs-filesystem>=0.23.1 in /opt/conda/lib/python3.7/site-packages (from tensorflow->keras-cv-attention-models) (0.29.0)\r\n",
      "Requirement already satisfied: setuptools in /opt/conda/lib/python3.7/site-packages (from tensorflow->keras-cv-attention-models) (59.8.0)\r\n",
      "Requirement already satisfied: libclang>=13.0.0 in /opt/conda/lib/python3.7/site-packages (from tensorflow->keras-cv-attention-models) (15.0.6.1)\r\n",
      "Requirement already satisfied: gast<=0.4.0,>=0.2.1 in /opt/conda/lib/python3.7/site-packages (from tensorflow->keras-cv-attention-models) (0.4.0)\r\n",
      "Requirement already satisfied: typeguard>=2.7 in /opt/conda/lib/python3.7/site-packages (from tensorflow-addons->keras-cv-attention-models) (2.13.3)\r\n",
      "Requirement already satisfied: etils[enp,epath]>=0.9.0 in /opt/conda/lib/python3.7/site-packages (from tensorflow-datasets->keras-cv-attention-models) (0.9.0)\r\n",
      "Requirement already satisfied: tensorflow-metadata in /opt/conda/lib/python3.7/site-packages (from tensorflow-datasets->keras-cv-attention-models) (1.12.0)\r\n",
      "Requirement already satisfied: tqdm in /opt/conda/lib/python3.7/site-packages (from tensorflow-datasets->keras-cv-attention-models) (4.64.1)\r\n",
      "Requirement already satisfied: dill in /opt/conda/lib/python3.7/site-packages (from tensorflow-datasets->keras-cv-attention-models) (0.3.6)\r\n",
      "Requirement already satisfied: click in /opt/conda/lib/python3.7/site-packages (from tensorflow-datasets->keras-cv-attention-models) (8.1.3)\r\n",
      "Requirement already satisfied: requests>=2.19.0 in /opt/conda/lib/python3.7/site-packages (from tensorflow-datasets->keras-cv-attention-models) (2.28.2)\r\n",
      "Requirement already satisfied: importlib-resources in /opt/conda/lib/python3.7/site-packages (from tensorflow-datasets->keras-cv-attention-models) (5.10.2)\r\n",
      "Requirement already satisfied: dm-tree in /opt/conda/lib/python3.7/site-packages (from tensorflow-datasets->keras-cv-attention-models) (0.1.8)\r\n",
      "Requirement already satisfied: promise in /opt/conda/lib/python3.7/site-packages (from tensorflow-datasets->keras-cv-attention-models) (2.3)\r\n",
      "Requirement already satisfied: psutil in /opt/conda/lib/python3.7/site-packages (from tensorflow-datasets->keras-cv-attention-models) (5.9.3)\r\n",
      "Requirement already satisfied: toml in /opt/conda/lib/python3.7/site-packages (from tensorflow-datasets->keras-cv-attention-models) (0.10.2)\r\n",
      "Requirement already satisfied: wheel<1.0,>=0.23.0 in /opt/conda/lib/python3.7/site-packages (from astunparse>=1.6.0->tensorflow->keras-cv-attention-models) (0.38.4)\r\n",
      "Requirement already satisfied: zipp in /opt/conda/lib/python3.7/site-packages (from etils[enp,epath]>=0.9.0->tensorflow-datasets->keras-cv-attention-models) (3.11.0)\r\n",
      "Requirement already satisfied: urllib3<1.27,>=1.21.1 in /opt/conda/lib/python3.7/site-packages (from requests>=2.19.0->tensorflow-datasets->keras-cv-attention-models) (1.26.14)\r\n",
      "Requirement already satisfied: idna<4,>=2.5 in /opt/conda/lib/python3.7/site-packages (from requests>=2.19.0->tensorflow-datasets->keras-cv-attention-models) (3.4)\r\n",
      "Requirement already satisfied: certifi>=2017.4.17 in /opt/conda/lib/python3.7/site-packages (from requests>=2.19.0->tensorflow-datasets->keras-cv-attention-models) (2022.12.7)\r\n",
      "Requirement already satisfied: charset-normalizer<4,>=2 in /opt/conda/lib/python3.7/site-packages (from requests>=2.19.0->tensorflow-datasets->keras-cv-attention-models) (2.1.1)\r\n",
      "Requirement already satisfied: google-auth-oauthlib<0.5,>=0.4.1 in /opt/conda/lib/python3.7/site-packages (from tensorboard<2.12,>=2.11->tensorflow->keras-cv-attention-models) (0.4.6)\r\n",
      "Requirement already satisfied: google-auth<3,>=1.6.3 in /opt/conda/lib/python3.7/site-packages (from tensorboard<2.12,>=2.11->tensorflow->keras-cv-attention-models) (1.35.0)\r\n",
      "Requirement already satisfied: werkzeug>=1.0.1 in /opt/conda/lib/python3.7/site-packages (from tensorboard<2.12,>=2.11->tensorflow->keras-cv-attention-models) (2.2.3)\r\n",
      "Requirement already satisfied: markdown>=2.6.8 in /opt/conda/lib/python3.7/site-packages (from tensorboard<2.12,>=2.11->tensorflow->keras-cv-attention-models) (3.4.1)\r\n",
      "Requirement already satisfied: tensorboard-data-server<0.7.0,>=0.6.0 in /opt/conda/lib/python3.7/site-packages (from tensorboard<2.12,>=2.11->tensorflow->keras-cv-attention-models) (0.6.1)\r\n",
      "Requirement already satisfied: tensorboard-plugin-wit>=1.6.0 in /opt/conda/lib/python3.7/site-packages (from tensorboard<2.12,>=2.11->tensorflow->keras-cv-attention-models) (1.8.1)\r\n",
      "Requirement already satisfied: importlib-metadata in /opt/conda/lib/python3.7/site-packages (from click->tensorflow-datasets->keras-cv-attention-models) (4.11.4)\r\n",
      "Requirement already satisfied: googleapis-common-protos<2,>=1.52.0 in /opt/conda/lib/python3.7/site-packages (from tensorflow-metadata->tensorflow-datasets->keras-cv-attention-models) (1.58.0)\r\n",
      "Requirement already satisfied: pyasn1-modules>=0.2.1 in /opt/conda/lib/python3.7/site-packages (from google-auth<3,>=1.6.3->tensorboard<2.12,>=2.11->tensorflow->keras-cv-attention-models) (0.2.8)\r\n",
      "Requirement already satisfied: rsa<5,>=3.1.4 in /opt/conda/lib/python3.7/site-packages (from google-auth<3,>=1.6.3->tensorboard<2.12,>=2.11->tensorflow->keras-cv-attention-models) (4.9)\r\n",
      "Requirement already satisfied: cachetools<5.0,>=2.0.0 in /opt/conda/lib/python3.7/site-packages (from google-auth<3,>=1.6.3->tensorboard<2.12,>=2.11->tensorflow->keras-cv-attention-models) (4.2.4)\r\n",
      "Requirement already satisfied: requests-oauthlib>=0.7.0 in /opt/conda/lib/python3.7/site-packages (from google-auth-oauthlib<0.5,>=0.4.1->tensorboard<2.12,>=2.11->tensorflow->keras-cv-attention-models) (1.3.1)\r\n",
      "Requirement already satisfied: MarkupSafe>=2.1.1 in /opt/conda/lib/python3.7/site-packages (from werkzeug>=1.0.1->tensorboard<2.12,>=2.11->tensorflow->keras-cv-attention-models) (2.1.1)\r\n",
      "Requirement already satisfied: pyasn1<0.5.0,>=0.4.6 in /opt/conda/lib/python3.7/site-packages (from pyasn1-modules>=0.2.1->google-auth<3,>=1.6.3->tensorboard<2.12,>=2.11->tensorflow->keras-cv-attention-models) (0.4.8)\r\n",
      "Requirement already satisfied: oauthlib>=3.0.0 in /opt/conda/lib/python3.7/site-packages (from requests-oauthlib>=0.7.0->google-auth-oauthlib<0.5,>=0.4.1->tensorboard<2.12,>=2.11->tensorflow->keras-cv-attention-models) (3.2.2)\r\n",
      "Installing collected packages: protobuf, keras-cv-attention-models\r\n",
      "  Attempting uninstall: protobuf\r\n",
      "    Found existing installation: protobuf 3.20.3\r\n",
      "    Uninstalling protobuf-3.20.3:\r\n",
      "      Successfully uninstalled protobuf-3.20.3\r\n",
      "\u001b[31mERROR: pip's dependency resolver does not currently take into account all the packages that are installed. This behaviour is the source of the following dependency conflicts.\r\n",
      "cudf 21.12.2 requires cupy-cuda115, which is not installed.\r\n",
      "tfx-bsl 1.12.0 requires google-api-python-client<2,>=1.7.11, but you have google-api-python-client 2.79.0 which is incompatible.\r\n",
      "tfx-bsl 1.12.0 requires pyarrow<7,>=6, but you have pyarrow 5.0.0 which is incompatible.\r\n",
      "tensorflow-transform 1.12.0 requires pyarrow<7,>=6, but you have pyarrow 5.0.0 which is incompatible.\r\n",
      "onnx 1.13.1 requires protobuf<4,>=3.20.2, but you have protobuf 3.19.6 which is incompatible.\r\n",
      "apache-beam 2.44.0 requires dill<0.3.2,>=0.3.1.1, but you have dill 0.3.6 which is incompatible.\u001b[0m\u001b[31m\r\n",
      "\u001b[0mSuccessfully installed keras-cv-attention-models-1.3.13 protobuf-3.19.6\r\n",
      "\u001b[33mWARNING: Running pip as the 'root' user can result in broken permissions and conflicting behaviour with the system package manager. It is recommended to use a virtual environment instead: https://pip.pypa.io/warnings/venv\u001b[0m\u001b[33m\r\n",
      "\u001b[0m"
     ]
    }
   ],
   "source": [
    "!pip install keras-cv-attention-models"
   ]
  },
  {
   "cell_type": "code",
   "execution_count": 2,
   "id": "70aaa0e1",
   "metadata": {
    "execution": {
     "iopub.execute_input": "2023-04-11T11:05:37.860869Z",
     "iopub.status.busy": "2023-04-11T11:05:37.860516Z",
     "iopub.status.idle": "2023-04-11T11:05:46.856253Z",
     "shell.execute_reply": "2023-04-11T11:05:46.854247Z"
    },
    "papermill": {
     "duration": 9.007855,
     "end_time": "2023-04-11T11:05:46.858502",
     "exception": false,
     "start_time": "2023-04-11T11:05:37.850647",
     "status": "completed"
    },
    "tags": []
   },
   "outputs": [
    {
     "name": "stdout",
     "output_type": "stream",
     "text": [
      "Tensorflow Version: 2.11.0\n",
      "Python Version: 3.7.12 | packaged by conda-forge | (default, Oct 26 2021, 06:08:53) \n",
      "[GCC 9.4.0]\n"
     ]
    }
   ],
   "source": [
    "import numpy as np\n",
    "import pandas as pd\n",
    "import tensorflow as tf\n",
    "import tensorflow_addons as tfa\n",
    "import matplotlib.pyplot as plt\n",
    "import matplotlib as mpl\n",
    "\n",
    "from tqdm.notebook import tqdm\n",
    "from multiprocessing import cpu_count\n",
    "from kaggle_datasets import KaggleDatasets\n",
    "from sklearn.model_selection import train_test_split\n",
    "from keras_cv_attention_models import convnext\n",
    "\n",
    "\n",
    "import numpy as np\n",
    "import os\n",
    "import PIL\n",
    "import PIL.Image\n",
    "import tensorflow as tf\n",
    "import tensorflow_datasets as tfds\n",
    "\n",
    "import os\n",
    "import time\n",
    "import pickle\n",
    "import math\n",
    "import random\n",
    "import sys\n",
    "import cv2\n",
    "import gc\n",
    "import datetime\n",
    "\n",
    "print(f'Tensorflow Version: {tf.__version__}')\n",
    "print(f'Python Version: {sys.version}')"
   ]
  },
  {
   "cell_type": "code",
   "execution_count": 3,
   "id": "e2d5fd32",
   "metadata": {
    "execution": {
     "iopub.execute_input": "2023-04-11T11:05:46.877425Z",
     "iopub.status.busy": "2023-04-11T11:05:46.876880Z",
     "iopub.status.idle": "2023-04-11T11:05:46.882401Z",
     "shell.execute_reply": "2023-04-11T11:05:46.881519Z"
    },
    "papermill": {
     "duration": 0.017308,
     "end_time": "2023-04-11T11:05:46.884552",
     "exception": false,
     "start_time": "2023-04-11T11:05:46.867244",
     "status": "completed"
    },
    "tags": []
   },
   "outputs": [],
   "source": [
    "now = datetime.datetime.now().strftime(\"%d-%b-%Y %H-%M-%S\")\n",
    "np.save(now, np.array([now]))"
   ]
  },
  {
   "cell_type": "markdown",
   "id": "2c070b6e",
   "metadata": {
    "papermill": {
     "duration": 0.008264,
     "end_time": "2023-04-11T11:05:46.901302",
     "exception": false,
     "start_time": "2023-04-11T11:05:46.893038",
     "status": "completed"
    },
    "tags": []
   },
   "source": [
    "## MP policy"
   ]
  },
  {
   "cell_type": "code",
   "execution_count": 4,
   "id": "6005b7ab",
   "metadata": {
    "execution": {
     "iopub.execute_input": "2023-04-11T11:05:46.920081Z",
     "iopub.status.busy": "2023-04-11T11:05:46.919754Z",
     "iopub.status.idle": "2023-04-11T11:05:46.924194Z",
     "shell.execute_reply": "2023-04-11T11:05:46.923154Z"
    },
    "papermill": {
     "duration": 0.016655,
     "end_time": "2023-04-11T11:05:46.926491",
     "exception": false,
     "start_time": "2023-04-11T11:05:46.909836",
     "status": "completed"
    },
    "tags": []
   },
   "outputs": [],
   "source": [
    "# # float32 or mixed_float16 (mixed precision: compute float16, variable float32)\n",
    "# # TPU is fast enough and has enough memory to use float32\n",
    "# policy = tf.keras.mixed_precision.Policy('float32')\n",
    "# tf.keras.mixed_precision.set_global_policy(policy)\n",
    "\n",
    "# print(f'Compute dtype: {tf.keras.mixed_precision.global_policy().compute_dtype}')\n",
    "# print(f'Variable dtype: {tf.keras.mixed_precision.global_policy().variable_dtype}')"
   ]
  },
  {
   "cell_type": "markdown",
   "id": "02ce73a0",
   "metadata": {
    "papermill": {
     "duration": 0.008285,
     "end_time": "2023-04-11T11:05:46.943156",
     "exception": false,
     "start_time": "2023-04-11T11:05:46.934871",
     "status": "completed"
    },
    "tags": []
   },
   "source": [
    "## Matplotlib Config¶\n"
   ]
  },
  {
   "cell_type": "code",
   "execution_count": 5,
   "id": "f64fe3e9",
   "metadata": {
    "execution": {
     "iopub.execute_input": "2023-04-11T11:05:46.961455Z",
     "iopub.status.busy": "2023-04-11T11:05:46.961140Z",
     "iopub.status.idle": "2023-04-11T11:05:46.967951Z",
     "shell.execute_reply": "2023-04-11T11:05:46.966867Z"
    },
    "papermill": {
     "duration": 0.018486,
     "end_time": "2023-04-11T11:05:46.970043",
     "exception": false,
     "start_time": "2023-04-11T11:05:46.951557",
     "status": "completed"
    },
    "tags": []
   },
   "outputs": [],
   "source": [
    "# MatplotLib Global Settings\n",
    "mpl.rcParams.update(mpl.rcParamsDefault)\n",
    "mpl.rcParams['xtick.labelsize'] = 16\n",
    "mpl.rcParams['ytick.labelsize'] = 16\n",
    "mpl.rcParams['axes.labelsize'] = 18\n",
    "mpl.rcParams['axes.titlesize'] = 24"
   ]
  },
  {
   "cell_type": "markdown",
   "id": "32ce7a15",
   "metadata": {
    "papermill": {
     "duration": 0.008396,
     "end_time": "2023-04-11T11:05:46.986820",
     "exception": false,
     "start_time": "2023-04-11T11:05:46.978424",
     "status": "completed"
    },
    "tags": []
   },
   "source": [
    "## Config"
   ]
  },
  {
   "cell_type": "code",
   "execution_count": 6,
   "id": "c80989bc",
   "metadata": {
    "execution": {
     "iopub.execute_input": "2023-04-11T11:05:47.006583Z",
     "iopub.status.busy": "2023-04-11T11:05:47.004746Z",
     "iopub.status.idle": "2023-04-11T11:05:47.009887Z",
     "shell.execute_reply": "2023-04-11T11:05:47.008928Z"
    },
    "papermill": {
     "duration": 0.016707,
     "end_time": "2023-04-11T11:05:47.011928",
     "exception": false,
     "start_time": "2023-04-11T11:05:46.995221",
     "status": "completed"
    },
    "tags": []
   },
   "outputs": [],
   "source": [
    "# gpu_devices = tf.config.experimental.list_physical_devices('GPU')\n",
    "# for device in gpu_devices:\n",
    "#     tf.config.experimental.set_memory_growth(device, True)"
   ]
  },
  {
   "cell_type": "markdown",
   "id": "1921e9e3",
   "metadata": {
    "papermill": {
     "duration": 0.008278,
     "end_time": "2023-04-11T11:05:47.028567",
     "exception": false,
     "start_time": "2023-04-11T11:05:47.020289",
     "status": "completed"
    },
    "tags": []
   },
   "source": [
    "## Load Data"
   ]
  },
  {
   "cell_type": "code",
   "execution_count": 7,
   "id": "018c553b",
   "metadata": {
    "execution": {
     "iopub.execute_input": "2023-04-11T11:05:47.047936Z",
     "iopub.status.busy": "2023-04-11T11:05:47.046346Z",
     "iopub.status.idle": "2023-04-11T11:06:09.316800Z",
     "shell.execute_reply": "2023-04-11T11:06:09.315800Z"
    },
    "papermill": {
     "duration": 22.282498,
     "end_time": "2023-04-11T11:06:09.319395",
     "exception": false,
     "start_time": "2023-04-11T11:05:47.036897",
     "status": "completed"
    },
    "tags": []
   },
   "outputs": [
    {
     "name": "stdout",
     "output_type": "stream",
     "text": [
      "Found 7000 files belonging to 1 classes.\n"
     ]
    }
   ],
   "source": [
    "test_ds = tf.keras.utils.image_dataset_from_directory(\n",
    "  '/kaggle/input/fake-images-detecttion-dataset/test-task1/test-task1',\n",
    "  seed=0,\n",
    "  image_size=(160, 160),\n",
    "  batch_size=8,\n",
    "  labels=None,\n",
    "  shuffle=False)"
   ]
  },
  {
   "cell_type": "markdown",
   "id": "6fd8d765",
   "metadata": {
    "papermill": {
     "duration": 0.008494,
     "end_time": "2023-04-11T11:06:09.337011",
     "exception": false,
     "start_time": "2023-04-11T11:06:09.328517",
     "status": "completed"
    },
    "tags": []
   },
   "source": [
    "# Model"
   ]
  },
  {
   "cell_type": "code",
   "execution_count": 8,
   "id": "e0162881",
   "metadata": {
    "execution": {
     "iopub.execute_input": "2023-04-11T11:06:09.355474Z",
     "iopub.status.busy": "2023-04-11T11:06:09.355154Z",
     "iopub.status.idle": "2023-04-11T11:06:09.360866Z",
     "shell.execute_reply": "2023-04-11T11:06:09.359805Z"
    },
    "papermill": {
     "duration": 0.017532,
     "end_time": "2023-04-11T11:06:09.363096",
     "exception": false,
     "start_time": "2023-04-11T11:06:09.345564",
     "status": "completed"
    },
    "tags": []
   },
   "outputs": [],
   "source": [
    "# Seed all random number generators\n",
    "def seed_everything(seed=0):\n",
    "    os.environ['PYTHONHASHSEED'] = str(seed)\n",
    "    random.seed(seed)\n",
    "    np.random.seed(seed)\n",
    "    tf.random.set_seed(seed)\n",
    "\n",
    "seed_everything()\n"
   ]
  },
  {
   "cell_type": "code",
   "execution_count": 9,
   "id": "eec3908e",
   "metadata": {
    "execution": {
     "iopub.execute_input": "2023-04-11T11:06:09.396985Z",
     "iopub.status.busy": "2023-04-11T11:06:09.396585Z",
     "iopub.status.idle": "2023-04-11T11:06:09.402208Z",
     "shell.execute_reply": "2023-04-11T11:06:09.401110Z"
    },
    "papermill": {
     "duration": 0.023747,
     "end_time": "2023-04-11T11:06:09.404657",
     "exception": false,
     "start_time": "2023-04-11T11:06:09.380910",
     "status": "completed"
    },
    "tags": []
   },
   "outputs": [],
   "source": [
    "def normalize(image):\n",
    "#     # Repeat channels to create 3 channel images required by pretrained ConvNextV2 models\n",
    "#     image = tf.repeat(image, repeats=3, axis=3)\n",
    "    # Cast to float 32\n",
    "    image = tf.cast(image, tf.float32)\n",
    "    # Normalize with respect to ImageNet mean/std\n",
    "    image = tf.keras.applications.imagenet_utils.preprocess_input(image, mode='torch')\n",
    "\n",
    "    return image"
   ]
  },
  {
   "cell_type": "code",
   "execution_count": 10,
   "id": "2fe2c2c4",
   "metadata": {
    "execution": {
     "iopub.execute_input": "2023-04-11T11:06:09.422938Z",
     "iopub.status.busy": "2023-04-11T11:06:09.422640Z",
     "iopub.status.idle": "2023-04-11T11:06:09.437034Z",
     "shell.execute_reply": "2023-04-11T11:06:09.436131Z"
    },
    "papermill": {
     "duration": 0.025859,
     "end_time": "2023-04-11T11:06:09.439123",
     "exception": false,
     "start_time": "2023-04-11T11:06:09.413264",
     "status": "completed"
    },
    "tags": []
   },
   "outputs": [],
   "source": [
    "STRATEGY = tf.distribute.MirroredStrategy() # default distribution strategy in Tensorflow. Works on CPU and single GPU.\n",
    "\n",
    "N_REPLICAS = STRATEGY.num_replicas_in_sync"
   ]
  },
  {
   "cell_type": "code",
   "execution_count": 11,
   "id": "5492263d",
   "metadata": {
    "execution": {
     "iopub.execute_input": "2023-04-11T11:06:09.457312Z",
     "iopub.status.busy": "2023-04-11T11:06:09.457042Z",
     "iopub.status.idle": "2023-04-11T11:06:09.464841Z",
     "shell.execute_reply": "2023-04-11T11:06:09.463833Z"
    },
    "papermill": {
     "duration": 0.019323,
     "end_time": "2023-04-11T11:06:09.466951",
     "exception": false,
     "start_time": "2023-04-11T11:06:09.447628",
     "status": "completed"
    },
    "tags": []
   },
   "outputs": [
    {
     "data": {
      "text/plain": [
       "1"
      ]
     },
     "execution_count": 11,
     "metadata": {},
     "output_type": "execute_result"
    }
   ],
   "source": [
    "N_REPLICAS"
   ]
  },
  {
   "cell_type": "code",
   "execution_count": 12,
   "id": "bb75087e",
   "metadata": {
    "execution": {
     "iopub.execute_input": "2023-04-11T11:06:09.485206Z",
     "iopub.status.busy": "2023-04-11T11:06:09.484942Z",
     "iopub.status.idle": "2023-04-11T11:06:09.489136Z",
     "shell.execute_reply": "2023-04-11T11:06:09.488160Z"
    },
    "papermill": {
     "duration": 0.015681,
     "end_time": "2023-04-11T11:06:09.491199",
     "exception": false,
     "start_time": "2023-04-11T11:06:09.475518",
     "status": "completed"
    },
    "tags": []
   },
   "outputs": [],
   "source": [
    "from keras_cv_attention_models import mobilenetv3"
   ]
  },
  {
   "cell_type": "code",
   "execution_count": 13,
   "id": "21f28056",
   "metadata": {
    "execution": {
     "iopub.execute_input": "2023-04-11T11:06:09.510164Z",
     "iopub.status.busy": "2023-04-11T11:06:09.509379Z",
     "iopub.status.idle": "2023-04-11T11:06:09.517023Z",
     "shell.execute_reply": "2023-04-11T11:06:09.516116Z"
    },
    "papermill": {
     "duration": 0.019126,
     "end_time": "2023-04-11T11:06:09.519109",
     "exception": false,
     "start_time": "2023-04-11T11:06:09.499983",
     "status": "completed"
    },
    "tags": []
   },
   "outputs": [],
   "source": [
    "def get_model(path):\n",
    "    # Inputs, note the names are equal to the dictionary keys in the dataset\n",
    "    image = tf.keras.layers.Input((160, 160, 3), name='image', dtype=tf.uint8)\n",
    "\n",
    "    # Normalize Input\n",
    "    image_norm = normalize(image)\n",
    "\n",
    "    # CNN Prediction in range [0,1]\n",
    "    x = mobilenetv3.MobileNetV3Large075(\n",
    "        input_shape=(160, 160, 3),\n",
    "        pretrained='imagenet',\n",
    "        num_classes=0,\n",
    "    )(image_norm)\n",
    "\n",
    "    # Average Pooling BxHxWxC -> BxC\n",
    "    x = tf.keras.layers.GlobalAveragePooling2D()(x)\n",
    "    # Dropout to prevent Overfitting\n",
    "    x = tf.keras.layers.Dropout(0.1)(x)\n",
    "    # Output value between [0, 1] using Sigmoid function\n",
    "    outputs = tf.keras.layers.Dense(1, activation='sigmoid')(x)\n",
    "\n",
    "    # Define model with inputs and outputs\n",
    "    model = tf.keras.models.Model(inputs=image, outputs=outputs)\n",
    "\n",
    "    # Load pretrained Model Weights\n",
    "    model.load_weights(path)\n",
    "\n",
    "    # Set model non-trainable\n",
    "    model.trainable = False\n",
    "\n",
    "    # Compile model\n",
    "    model.compile()\n",
    "\n",
    "    return model"
   ]
  },
  {
   "cell_type": "code",
   "execution_count": 14,
   "id": "585863d5",
   "metadata": {
    "execution": {
     "iopub.execute_input": "2023-04-11T11:06:09.538095Z",
     "iopub.status.busy": "2023-04-11T11:06:09.537241Z",
     "iopub.status.idle": "2023-04-11T11:06:12.809701Z",
     "shell.execute_reply": "2023-04-11T11:06:12.808666Z"
    },
    "papermill": {
     "duration": 3.284646,
     "end_time": "2023-04-11T11:06:12.812306",
     "exception": false,
     "start_time": "2023-04-11T11:06:09.527660",
     "status": "completed"
    },
    "tags": []
   },
   "outputs": [
    {
     "name": "stdout",
     "output_type": "stream",
     "text": [
      "Downloading data from https://github.com/leondgarse/keras_cv_attention_models/releases/download/mobilenetv3_family/mobilenetv3_large_075_imagenet.h5\n",
      "16621424/16621424 [==============================] - 0s 0us/step\n",
      ">>>> Load pretrained from: /root/.keras/models/mobilenetv3_large_075_imagenet.h5\n"
     ]
    }
   ],
   "source": [
    "model = get_model('/kaggle/input/train/model.h5')\n",
    "\n",
    "    "
   ]
  },
  {
   "cell_type": "markdown",
   "id": "b849dff1",
   "metadata": {
    "papermill": {
     "duration": 0.010037,
     "end_time": "2023-04-11T11:06:12.834058",
     "exception": false,
     "start_time": "2023-04-11T11:06:12.824021",
     "status": "completed"
    },
    "tags": []
   },
   "source": [
    "# Test"
   ]
  },
  {
   "cell_type": "code",
   "execution_count": 15,
   "id": "e0cf05ca",
   "metadata": {
    "execution": {
     "iopub.execute_input": "2023-04-11T11:06:12.853699Z",
     "iopub.status.busy": "2023-04-11T11:06:12.853378Z",
     "iopub.status.idle": "2023-04-11T11:06:12.870949Z",
     "shell.execute_reply": "2023-04-11T11:06:12.870017Z"
    },
    "papermill": {
     "duration": 0.029938,
     "end_time": "2023-04-11T11:06:12.873138",
     "exception": false,
     "start_time": "2023-04-11T11:06:12.843200",
     "status": "completed"
    },
    "tags": []
   },
   "outputs": [],
   "source": [
    "y_true=[]\n",
    "with open('/kaggle/input/fake-images-detecttion-dataset/label-task1.txt') as f:\n",
    "    labels = f.readlines()\n",
    "# for line in lines:\n",
    "#     splitted_line=line.split(' ')\n",
    "#     y_true.append(int(splitted_line[1].strip('\\n')))\n",
    "    \n",
    "    "
   ]
  },
  {
   "cell_type": "code",
   "execution_count": 16,
   "id": "e4119d19",
   "metadata": {
    "execution": {
     "iopub.execute_input": "2023-04-11T11:06:12.892540Z",
     "iopub.status.busy": "2023-04-11T11:06:12.892235Z",
     "iopub.status.idle": "2023-04-11T11:06:12.915761Z",
     "shell.execute_reply": "2023-04-11T11:06:12.914846Z"
    },
    "papermill": {
     "duration": 0.035956,
     "end_time": "2023-04-11T11:06:12.918143",
     "exception": false,
     "start_time": "2023-04-11T11:06:12.882187",
     "status": "completed"
    },
    "tags": []
   },
   "outputs": [],
   "source": [
    "import glob\n",
    "image_path = glob.glob('/kaggle/input/fake-images-detecttion-dataset/test-task1/test-task1/*jpg')"
   ]
  },
  {
   "cell_type": "code",
   "execution_count": 17,
   "id": "2fb6ae0e",
   "metadata": {
    "execution": {
     "iopub.execute_input": "2023-04-11T11:06:12.937454Z",
     "iopub.status.busy": "2023-04-11T11:06:12.937158Z",
     "iopub.status.idle": "2023-04-11T11:06:12.942707Z",
     "shell.execute_reply": "2023-04-11T11:06:12.941801Z"
    },
    "papermill": {
     "duration": 0.017531,
     "end_time": "2023-04-11T11:06:12.944739",
     "exception": false,
     "start_time": "2023-04-11T11:06:12.927208",
     "status": "completed"
    },
    "tags": []
   },
   "outputs": [],
   "source": [
    "parh_len=len('/kaggle/input/fake-images-detecttion-dataset/test-task1/test-task1/')\n"
   ]
  },
  {
   "cell_type": "code",
   "execution_count": 18,
   "id": "22da3141",
   "metadata": {
    "execution": {
     "iopub.execute_input": "2023-04-11T11:06:12.964656Z",
     "iopub.status.busy": "2023-04-11T11:06:12.964343Z",
     "iopub.status.idle": "2023-04-11T11:06:12.968670Z",
     "shell.execute_reply": "2023-04-11T11:06:12.967665Z"
    },
    "papermill": {
     "duration": 0.016532,
     "end_time": "2023-04-11T11:06:12.970770",
     "exception": false,
     "start_time": "2023-04-11T11:06:12.954238",
     "status": "completed"
    },
    "tags": []
   },
   "outputs": [],
   "source": [
    "import cv2"
   ]
  },
  {
   "cell_type": "code",
   "execution_count": 19,
   "id": "9d172e2c",
   "metadata": {
    "execution": {
     "iopub.execute_input": "2023-04-11T11:06:12.990938Z",
     "iopub.status.busy": "2023-04-11T11:06:12.990069Z",
     "iopub.status.idle": "2023-04-11T11:07:44.510705Z",
     "shell.execute_reply": "2023-04-11T11:07:44.505440Z"
    },
    "papermill": {
     "duration": 91.536504,
     "end_time": "2023-04-11T11:07:44.516356",
     "exception": false,
     "start_time": "2023-04-11T11:06:12.979852",
     "status": "completed"
    },
    "tags": []
   },
   "outputs": [],
   "source": [
    "y_true = []  # store true labels\n",
    "images_to_predict=[]\n",
    "\n",
    "# iterate over the dataset\n",
    "for img_path in image_path:   \n",
    "    for label in labels:\n",
    "        if img_path[parh_len:] in label:\n",
    "            splitted_label=label.split(' ')\n",
    "            y_true.append(int(splitted_label[1].strip('\\n')))\n",
    "            break\n",
    "\n",
    "    img = cv2.imread(img_path)\n",
    "    img  = cv2.resize(img, (160, 160))\n",
    "    img = cv2.cvtColor(img, cv2.COLOR_BGR2RGB)\n",
    "    images_to_predict.append(img)\n"
   ]
  },
  {
   "cell_type": "code",
   "execution_count": 20,
   "id": "dfaf6428",
   "metadata": {
    "execution": {
     "iopub.execute_input": "2023-04-11T11:07:44.541089Z",
     "iopub.status.busy": "2023-04-11T11:07:44.540736Z",
     "iopub.status.idle": "2023-04-11T11:07:44.706325Z",
     "shell.execute_reply": "2023-04-11T11:07:44.705251Z"
    },
    "papermill": {
     "duration": 0.178885,
     "end_time": "2023-04-11T11:07:44.708962",
     "exception": false,
     "start_time": "2023-04-11T11:07:44.530077",
     "status": "completed"
    },
    "tags": []
   },
   "outputs": [],
   "source": [
    "images_to_predict = np.array(images_to_predict)\n",
    "y_true = np.array(y_true)"
   ]
  },
  {
   "cell_type": "code",
   "execution_count": null,
   "id": "f52438e9",
   "metadata": {
    "execution": {
     "iopub.execute_input": "2023-04-08T19:24:06.396245Z",
     "iopub.status.busy": "2023-04-08T19:24:06.395615Z",
     "iopub.status.idle": "2023-04-08T19:24:06.402328Z",
     "shell.execute_reply": "2023-04-08T19:24:06.401187Z",
     "shell.execute_reply.started": "2023-04-08T19:24:06.396207Z"
    },
    "papermill": {
     "duration": 0.009085,
     "end_time": "2023-04-11T11:07:44.727410",
     "exception": false,
     "start_time": "2023-04-11T11:07:44.718325",
     "status": "completed"
    },
    "tags": []
   },
   "outputs": [],
   "source": []
  },
  {
   "cell_type": "code",
   "execution_count": 21,
   "id": "51857757",
   "metadata": {
    "execution": {
     "iopub.execute_input": "2023-04-11T11:07:44.746891Z",
     "iopub.status.busy": "2023-04-11T11:07:44.746554Z",
     "iopub.status.idle": "2023-04-11T11:07:44.752633Z",
     "shell.execute_reply": "2023-04-11T11:07:44.751632Z"
    },
    "papermill": {
     "duration": 0.018213,
     "end_time": "2023-04-11T11:07:44.754621",
     "exception": false,
     "start_time": "2023-04-11T11:07:44.736408",
     "status": "completed"
    },
    "tags": []
   },
   "outputs": [
    {
     "data": {
      "text/plain": [
       "(7000, 160, 160, 3)"
      ]
     },
     "execution_count": 21,
     "metadata": {},
     "output_type": "execute_result"
    }
   ],
   "source": [
    "images_to_predict.shape"
   ]
  },
  {
   "cell_type": "code",
   "execution_count": 22,
   "id": "772380fa",
   "metadata": {
    "execution": {
     "iopub.execute_input": "2023-04-11T11:07:44.774840Z",
     "iopub.status.busy": "2023-04-11T11:07:44.774029Z",
     "iopub.status.idle": "2023-04-11T11:07:44.780452Z",
     "shell.execute_reply": "2023-04-11T11:07:44.779379Z"
    },
    "papermill": {
     "duration": 0.019394,
     "end_time": "2023-04-11T11:07:44.782967",
     "exception": false,
     "start_time": "2023-04-11T11:07:44.763573",
     "status": "completed"
    },
    "tags": []
   },
   "outputs": [
    {
     "data": {
      "text/plain": [
       "(7000,)"
      ]
     },
     "execution_count": 22,
     "metadata": {},
     "output_type": "execute_result"
    }
   ],
   "source": [
    "y_true.shape"
   ]
  },
  {
   "cell_type": "code",
   "execution_count": 23,
   "id": "b86eb774",
   "metadata": {
    "execution": {
     "iopub.execute_input": "2023-04-11T11:07:44.802549Z",
     "iopub.status.busy": "2023-04-11T11:07:44.802256Z",
     "iopub.status.idle": "2023-04-11T11:07:57.175381Z",
     "shell.execute_reply": "2023-04-11T11:07:57.174234Z"
    },
    "papermill": {
     "duration": 12.386216,
     "end_time": "2023-04-11T11:07:57.178308",
     "exception": false,
     "start_time": "2023-04-11T11:07:44.792092",
     "status": "completed"
    },
    "tags": []
   },
   "outputs": [
    {
     "name": "stdout",
     "output_type": "stream",
     "text": [
      "219/219 [==============================] - 9s 14ms/step\n"
     ]
    }
   ],
   "source": [
    "predicted_labels = model.predict(images_to_predict)"
   ]
  },
  {
   "cell_type": "code",
   "execution_count": 24,
   "id": "a0b08dea",
   "metadata": {
    "execution": {
     "iopub.execute_input": "2023-04-11T11:07:57.205693Z",
     "iopub.status.busy": "2023-04-11T11:07:57.204749Z",
     "iopub.status.idle": "2023-04-11T11:07:57.210460Z",
     "shell.execute_reply": "2023-04-11T11:07:57.209371Z"
    },
    "papermill": {
     "duration": 0.021191,
     "end_time": "2023-04-11T11:07:57.212592",
     "exception": false,
     "start_time": "2023-04-11T11:07:57.191401",
     "status": "completed"
    },
    "tags": []
   },
   "outputs": [],
   "source": [
    "predicted_labels[predicted_labels<0.5]=0\n",
    "predicted_labels[predicted_labels>=0.5]=1"
   ]
  },
  {
   "cell_type": "code",
   "execution_count": 25,
   "id": "528a3292",
   "metadata": {
    "execution": {
     "iopub.execute_input": "2023-04-11T11:07:57.238369Z",
     "iopub.status.busy": "2023-04-11T11:07:57.238062Z",
     "iopub.status.idle": "2023-04-11T11:07:57.396942Z",
     "shell.execute_reply": "2023-04-11T11:07:57.395926Z"
    },
    "papermill": {
     "duration": 0.17461,
     "end_time": "2023-04-11T11:07:57.399510",
     "exception": false,
     "start_time": "2023-04-11T11:07:57.224900",
     "status": "completed"
    },
    "tags": []
   },
   "outputs": [],
   "source": [
    "import matplotlib.pyplot as plt\n",
    "import seaborn as sns\n"
   ]
  },
  {
   "cell_type": "code",
   "execution_count": 26,
   "id": "f674d838",
   "metadata": {
    "execution": {
     "iopub.execute_input": "2023-04-11T11:07:57.425657Z",
     "iopub.status.busy": "2023-04-11T11:07:57.425333Z",
     "iopub.status.idle": "2023-04-11T11:07:57.430071Z",
     "shell.execute_reply": "2023-04-11T11:07:57.428951Z"
    },
    "papermill": {
     "duration": 0.020689,
     "end_time": "2023-04-11T11:07:57.432656",
     "exception": false,
     "start_time": "2023-04-11T11:07:57.411967",
     "status": "completed"
    },
    "tags": []
   },
   "outputs": [],
   "source": [
    "from sklearn.metrics import confusion_matrix"
   ]
  },
  {
   "cell_type": "code",
   "execution_count": 27,
   "id": "296c450b",
   "metadata": {
    "execution": {
     "iopub.execute_input": "2023-04-11T11:07:57.458395Z",
     "iopub.status.busy": "2023-04-11T11:07:57.458100Z",
     "iopub.status.idle": "2023-04-11T11:07:57.462703Z",
     "shell.execute_reply": "2023-04-11T11:07:57.461728Z"
    },
    "papermill": {
     "duration": 0.020089,
     "end_time": "2023-04-11T11:07:57.464969",
     "exception": false,
     "start_time": "2023-04-11T11:07:57.444880",
     "status": "completed"
    },
    "tags": []
   },
   "outputs": [],
   "source": [
    "# original test set labels (0 if the image is real; 1 if the image is Deepfake), However here we have it inverted"
   ]
  },
  {
   "cell_type": "code",
   "execution_count": 28,
   "id": "dedf95e0",
   "metadata": {
    "execution": {
     "iopub.execute_input": "2023-04-11T11:07:57.490433Z",
     "iopub.status.busy": "2023-04-11T11:07:57.490144Z",
     "iopub.status.idle": "2023-04-11T11:07:57.494827Z",
     "shell.execute_reply": "2023-04-11T11:07:57.493836Z"
    },
    "papermill": {
     "duration": 0.019919,
     "end_time": "2023-04-11T11:07:57.496971",
     "exception": false,
     "start_time": "2023-04-11T11:07:57.477052",
     "status": "completed"
    },
    "tags": []
   },
   "outputs": [],
   "source": [
    "correct_labels = np.array(y_true)\n"
   ]
  },
  {
   "cell_type": "code",
   "execution_count": 29,
   "id": "39241298",
   "metadata": {
    "execution": {
     "iopub.execute_input": "2023-04-11T11:07:57.522372Z",
     "iopub.status.busy": "2023-04-11T11:07:57.522105Z",
     "iopub.status.idle": "2023-04-11T11:07:57.527416Z",
     "shell.execute_reply": "2023-04-11T11:07:57.526481Z"
    },
    "papermill": {
     "duration": 0.020438,
     "end_time": "2023-04-11T11:07:57.529482",
     "exception": false,
     "start_time": "2023-04-11T11:07:57.509044",
     "status": "completed"
    },
    "tags": []
   },
   "outputs": [],
   "source": [
    "correct_labels = 1- correct_labels"
   ]
  },
  {
   "cell_type": "code",
   "execution_count": 30,
   "id": "1acfaac2",
   "metadata": {
    "execution": {
     "iopub.execute_input": "2023-04-11T11:07:57.554825Z",
     "iopub.status.busy": "2023-04-11T11:07:57.554543Z",
     "iopub.status.idle": "2023-04-11T11:07:57.561748Z",
     "shell.execute_reply": "2023-04-11T11:07:57.560833Z"
    },
    "papermill": {
     "duration": 0.022403,
     "end_time": "2023-04-11T11:07:57.563992",
     "exception": false,
     "start_time": "2023-04-11T11:07:57.541589",
     "status": "completed"
    },
    "tags": []
   },
   "outputs": [
    {
     "data": {
      "text/plain": [
       "(7000,)"
      ]
     },
     "execution_count": 30,
     "metadata": {},
     "output_type": "execute_result"
    }
   ],
   "source": [
    "correct_labels.shape"
   ]
  },
  {
   "cell_type": "code",
   "execution_count": 31,
   "id": "1e54d8c1",
   "metadata": {
    "execution": {
     "iopub.execute_input": "2023-04-11T11:07:57.589679Z",
     "iopub.status.busy": "2023-04-11T11:07:57.589390Z",
     "iopub.status.idle": "2023-04-11T11:07:57.596544Z",
     "shell.execute_reply": "2023-04-11T11:07:57.595502Z"
    },
    "papermill": {
     "duration": 0.02248,
     "end_time": "2023-04-11T11:07:57.598687",
     "exception": false,
     "start_time": "2023-04-11T11:07:57.576207",
     "status": "completed"
    },
    "tags": []
   },
   "outputs": [
    {
     "data": {
      "text/plain": [
       "(7000, 1)"
      ]
     },
     "execution_count": 31,
     "metadata": {},
     "output_type": "execute_result"
    }
   ],
   "source": [
    "predicted_labels.shape"
   ]
  },
  {
   "cell_type": "code",
   "execution_count": 32,
   "id": "a6048a1f",
   "metadata": {
    "execution": {
     "iopub.execute_input": "2023-04-11T11:07:57.624978Z",
     "iopub.status.busy": "2023-04-11T11:07:57.624661Z",
     "iopub.status.idle": "2023-04-11T11:07:57.634213Z",
     "shell.execute_reply": "2023-04-11T11:07:57.633088Z"
    },
    "papermill": {
     "duration": 0.025411,
     "end_time": "2023-04-11T11:07:57.636459",
     "exception": false,
     "start_time": "2023-04-11T11:07:57.611048",
     "status": "completed"
    },
    "tags": []
   },
   "outputs": [
    {
     "data": {
      "text/plain": [
       "array([[4048,  952],\n",
       "       [ 368, 1632]])"
      ]
     },
     "execution_count": 32,
     "metadata": {},
     "output_type": "execute_result"
    }
   ],
   "source": [
    "confusion_matrix(correct_labels, predicted_labels.flatten())"
   ]
  },
  {
   "cell_type": "code",
   "execution_count": 33,
   "id": "38beb0b7",
   "metadata": {
    "execution": {
     "iopub.execute_input": "2023-04-11T11:07:57.662848Z",
     "iopub.status.busy": "2023-04-11T11:07:57.662550Z",
     "iopub.status.idle": "2023-04-11T11:07:57.683115Z",
     "shell.execute_reply": "2023-04-11T11:07:57.681813Z"
    },
    "papermill": {
     "duration": 0.035995,
     "end_time": "2023-04-11T11:07:57.685256",
     "exception": false,
     "start_time": "2023-04-11T11:07:57.649261",
     "status": "completed"
    },
    "tags": []
   },
   "outputs": [
    {
     "name": "stdout",
     "output_type": "stream",
     "text": [
      "              precision    recall  f1-score   support\n",
      "\n",
      "           0       0.92      0.81      0.86      5000\n",
      "           1       0.63      0.82      0.71      2000\n",
      "\n",
      "    accuracy                           0.81      7000\n",
      "   macro avg       0.77      0.81      0.79      7000\n",
      "weighted avg       0.84      0.81      0.82      7000\n",
      "\n"
     ]
    }
   ],
   "source": [
    "from sklearn.metrics import classification_report\n",
    "print(classification_report(correct_labels, predicted_labels.flatten()))"
   ]
  }
 ],
 "metadata": {
  "kernelspec": {
   "display_name": "Python 3",
   "language": "python",
   "name": "python3"
  },
  "language_info": {
   "codemirror_mode": {
    "name": "ipython",
    "version": 3
   },
   "file_extension": ".py",
   "mimetype": "text/x-python",
   "name": "python",
   "nbconvert_exporter": "python",
   "pygments_lexer": "ipython3",
   "version": "3.7.12"
  },
  "papermill": {
   "default_parameters": {},
   "duration": 173.80737,
   "end_time": "2023-04-11T11:08:00.781291",
   "environment_variables": {},
   "exception": null,
   "input_path": "__notebook__.ipynb",
   "output_path": "__notebook__.ipynb",
   "parameters": {},
   "start_time": "2023-04-11T11:05:06.973921",
   "version": "2.4.0"
  }
 },
 "nbformat": 4,
 "nbformat_minor": 5
}
