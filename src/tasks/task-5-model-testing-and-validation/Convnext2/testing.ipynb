{
 "cells": [
  {
   "cell_type": "code",
   "execution_count": null,
   "id": "9e1e45ed",
   "metadata": {
    "papermill": {
     "duration": 0.008633,
     "end_time": "2023-04-08T19:34:15.163454",
     "exception": false,
     "start_time": "2023-04-08T19:34:15.154821",
     "status": "completed"
    },
    "tags": []
   },
   "outputs": [],
   "source": []
  },
  {
   "cell_type": "markdown",
   "id": "281195c5",
   "metadata": {
    "papermill": {
     "duration": 0.006974,
     "end_time": "2023-04-08T19:34:15.177973",
     "exception": false,
     "start_time": "2023-04-08T19:34:15.170999",
     "status": "completed"
    },
    "tags": []
   },
   "source": [
    "# Import Libraries"
   ]
  },
  {
   "cell_type": "code",
   "execution_count": 1,
   "id": "8cbc4ffc",
   "metadata": {
    "execution": {
     "iopub.execute_input": "2023-04-08T19:34:15.194895Z",
     "iopub.status.busy": "2023-04-08T19:34:15.194036Z",
     "iopub.status.idle": "2023-04-08T19:34:35.672262Z",
     "shell.execute_reply": "2023-04-08T19:34:35.670923Z"
    },
    "papermill": {
     "duration": 20.490093,
     "end_time": "2023-04-08T19:34:35.675214",
     "exception": false,
     "start_time": "2023-04-08T19:34:15.185121",
     "status": "completed"
    },
    "tags": []
   },
   "outputs": [
    {
     "name": "stdout",
     "output_type": "stream",
     "text": [
      "Collecting keras-cv-attention-models\r\n",
      "  Downloading keras_cv_attention_models-1.3.13-py3-none-any.whl (618 kB)\r\n",
      "\u001b[2K     \u001b[90m━━━━━━━━━━━━━━━━━━━━━━━━━━━━━━━━━━━━━━\u001b[0m \u001b[32m618.3/618.3 kB\u001b[0m \u001b[31m23.7 MB/s\u001b[0m eta \u001b[36m0:00:00\u001b[0m\r\n",
      "\u001b[?25hRequirement already satisfied: tensorflow-datasets in /opt/conda/lib/python3.7/site-packages (from keras-cv-attention-models) (4.8.2)\r\n",
      "Requirement already satisfied: tensorflow-addons in /opt/conda/lib/python3.7/site-packages (from keras-cv-attention-models) (0.19.0)\r\n",
      "Requirement already satisfied: tensorflow in /opt/conda/lib/python3.7/site-packages (from keras-cv-attention-models) (2.11.0)\r\n",
      "Requirement already satisfied: numpy>=1.20 in /opt/conda/lib/python3.7/site-packages (from tensorflow->keras-cv-attention-models) (1.21.6)\r\n",
      "Requirement already satisfied: packaging in /opt/conda/lib/python3.7/site-packages (from tensorflow->keras-cv-attention-models) (23.0)\r\n",
      "Requirement already satisfied: typing-extensions>=3.6.6 in /opt/conda/lib/python3.7/site-packages (from tensorflow->keras-cv-attention-models) (4.4.0)\r\n",
      "Requirement already satisfied: astunparse>=1.6.0 in /opt/conda/lib/python3.7/site-packages (from tensorflow->keras-cv-attention-models) (1.6.3)\r\n",
      "Requirement already satisfied: h5py>=2.9.0 in /opt/conda/lib/python3.7/site-packages (from tensorflow->keras-cv-attention-models) (3.8.0)\r\n",
      "Requirement already satisfied: absl-py>=1.0.0 in /opt/conda/lib/python3.7/site-packages (from tensorflow->keras-cv-attention-models) (1.4.0)\r\n",
      "Requirement already satisfied: keras<2.12,>=2.11.0 in /opt/conda/lib/python3.7/site-packages (from tensorflow->keras-cv-attention-models) (2.11.0)\r\n",
      "Requirement already satisfied: google-pasta>=0.1.1 in /opt/conda/lib/python3.7/site-packages (from tensorflow->keras-cv-attention-models) (0.2.0)\r\n",
      "Requirement already satisfied: tensorboard<2.12,>=2.11 in /opt/conda/lib/python3.7/site-packages (from tensorflow->keras-cv-attention-models) (2.11.2)\r\n",
      "Requirement already satisfied: opt-einsum>=2.3.2 in /opt/conda/lib/python3.7/site-packages (from tensorflow->keras-cv-attention-models) (3.3.0)\r\n",
      "Requirement already satisfied: gast<=0.4.0,>=0.2.1 in /opt/conda/lib/python3.7/site-packages (from tensorflow->keras-cv-attention-models) (0.4.0)\r\n",
      "Requirement already satisfied: libclang>=13.0.0 in /opt/conda/lib/python3.7/site-packages (from tensorflow->keras-cv-attention-models) (15.0.6.1)\r\n",
      "Collecting protobuf<3.20,>=3.9.2\r\n",
      "  Downloading protobuf-3.19.6-cp37-cp37m-manylinux_2_17_x86_64.manylinux2014_x86_64.whl (1.1 MB)\r\n",
      "\u001b[2K     \u001b[90m━━━━━━━━━━━━━━━━━━━━━━━━━━━━━━━━━━━━━━━━\u001b[0m \u001b[32m1.1/1.1 MB\u001b[0m \u001b[31m55.6 MB/s\u001b[0m eta \u001b[36m0:00:00\u001b[0m\r\n",
      "\u001b[?25hRequirement already satisfied: wrapt>=1.11.0 in /opt/conda/lib/python3.7/site-packages (from tensorflow->keras-cv-attention-models) (1.14.1)\r\n",
      "Requirement already satisfied: six>=1.12.0 in /opt/conda/lib/python3.7/site-packages (from tensorflow->keras-cv-attention-models) (1.16.0)\r\n",
      "Requirement already satisfied: tensorflow-io-gcs-filesystem>=0.23.1 in /opt/conda/lib/python3.7/site-packages (from tensorflow->keras-cv-attention-models) (0.29.0)\r\n",
      "Requirement already satisfied: termcolor>=1.1.0 in /opt/conda/lib/python3.7/site-packages (from tensorflow->keras-cv-attention-models) (2.2.0)\r\n",
      "Requirement already satisfied: setuptools in /opt/conda/lib/python3.7/site-packages (from tensorflow->keras-cv-attention-models) (59.8.0)\r\n",
      "Requirement already satisfied: tensorflow-estimator<2.12,>=2.11.0 in /opt/conda/lib/python3.7/site-packages (from tensorflow->keras-cv-attention-models) (2.11.0)\r\n",
      "Requirement already satisfied: grpcio<2.0,>=1.24.3 in /opt/conda/lib/python3.7/site-packages (from tensorflow->keras-cv-attention-models) (1.51.1)\r\n",
      "Requirement already satisfied: flatbuffers>=2.0 in /opt/conda/lib/python3.7/site-packages (from tensorflow->keras-cv-attention-models) (23.1.21)\r\n",
      "Requirement already satisfied: typeguard>=2.7 in /opt/conda/lib/python3.7/site-packages (from tensorflow-addons->keras-cv-attention-models) (2.13.3)\r\n",
      "Requirement already satisfied: importlib-resources in /opt/conda/lib/python3.7/site-packages (from tensorflow-datasets->keras-cv-attention-models) (5.10.2)\r\n",
      "Requirement already satisfied: etils[enp,epath]>=0.9.0 in /opt/conda/lib/python3.7/site-packages (from tensorflow-datasets->keras-cv-attention-models) (0.9.0)\r\n",
      "Requirement already satisfied: tqdm in /opt/conda/lib/python3.7/site-packages (from tensorflow-datasets->keras-cv-attention-models) (4.64.1)\r\n",
      "Requirement already satisfied: requests>=2.19.0 in /opt/conda/lib/python3.7/site-packages (from tensorflow-datasets->keras-cv-attention-models) (2.28.2)\r\n",
      "Requirement already satisfied: tensorflow-metadata in /opt/conda/lib/python3.7/site-packages (from tensorflow-datasets->keras-cv-attention-models) (1.12.0)\r\n",
      "Requirement already satisfied: click in /opt/conda/lib/python3.7/site-packages (from tensorflow-datasets->keras-cv-attention-models) (8.1.3)\r\n",
      "Requirement already satisfied: promise in /opt/conda/lib/python3.7/site-packages (from tensorflow-datasets->keras-cv-attention-models) (2.3)\r\n",
      "Requirement already satisfied: dill in /opt/conda/lib/python3.7/site-packages (from tensorflow-datasets->keras-cv-attention-models) (0.3.6)\r\n",
      "Requirement already satisfied: psutil in /opt/conda/lib/python3.7/site-packages (from tensorflow-datasets->keras-cv-attention-models) (5.9.3)\r\n",
      "Requirement already satisfied: toml in /opt/conda/lib/python3.7/site-packages (from tensorflow-datasets->keras-cv-attention-models) (0.10.2)\r\n",
      "Requirement already satisfied: dm-tree in /opt/conda/lib/python3.7/site-packages (from tensorflow-datasets->keras-cv-attention-models) (0.1.8)\r\n",
      "Requirement already satisfied: wheel<1.0,>=0.23.0 in /opt/conda/lib/python3.7/site-packages (from astunparse>=1.6.0->tensorflow->keras-cv-attention-models) (0.38.4)\r\n",
      "Requirement already satisfied: zipp in /opt/conda/lib/python3.7/site-packages (from etils[enp,epath]>=0.9.0->tensorflow-datasets->keras-cv-attention-models) (3.11.0)\r\n",
      "Requirement already satisfied: idna<4,>=2.5 in /opt/conda/lib/python3.7/site-packages (from requests>=2.19.0->tensorflow-datasets->keras-cv-attention-models) (3.4)\r\n",
      "Requirement already satisfied: urllib3<1.27,>=1.21.1 in /opt/conda/lib/python3.7/site-packages (from requests>=2.19.0->tensorflow-datasets->keras-cv-attention-models) (1.26.14)\r\n",
      "Requirement already satisfied: certifi>=2017.4.17 in /opt/conda/lib/python3.7/site-packages (from requests>=2.19.0->tensorflow-datasets->keras-cv-attention-models) (2022.12.7)\r\n",
      "Requirement already satisfied: charset-normalizer<4,>=2 in /opt/conda/lib/python3.7/site-packages (from requests>=2.19.0->tensorflow-datasets->keras-cv-attention-models) (2.1.1)\r\n",
      "Requirement already satisfied: google-auth-oauthlib<0.5,>=0.4.1 in /opt/conda/lib/python3.7/site-packages (from tensorboard<2.12,>=2.11->tensorflow->keras-cv-attention-models) (0.4.6)\r\n",
      "Requirement already satisfied: werkzeug>=1.0.1 in /opt/conda/lib/python3.7/site-packages (from tensorboard<2.12,>=2.11->tensorflow->keras-cv-attention-models) (2.2.3)\r\n",
      "Requirement already satisfied: markdown>=2.6.8 in /opt/conda/lib/python3.7/site-packages (from tensorboard<2.12,>=2.11->tensorflow->keras-cv-attention-models) (3.4.1)\r\n",
      "Requirement already satisfied: google-auth<3,>=1.6.3 in /opt/conda/lib/python3.7/site-packages (from tensorboard<2.12,>=2.11->tensorflow->keras-cv-attention-models) (1.35.0)\r\n",
      "Requirement already satisfied: tensorboard-plugin-wit>=1.6.0 in /opt/conda/lib/python3.7/site-packages (from tensorboard<2.12,>=2.11->tensorflow->keras-cv-attention-models) (1.8.1)\r\n",
      "Requirement already satisfied: tensorboard-data-server<0.7.0,>=0.6.0 in /opt/conda/lib/python3.7/site-packages (from tensorboard<2.12,>=2.11->tensorflow->keras-cv-attention-models) (0.6.1)\r\n",
      "Requirement already satisfied: importlib-metadata in /opt/conda/lib/python3.7/site-packages (from click->tensorflow-datasets->keras-cv-attention-models) (4.11.4)\r\n",
      "Requirement already satisfied: googleapis-common-protos<2,>=1.52.0 in /opt/conda/lib/python3.7/site-packages (from tensorflow-metadata->tensorflow-datasets->keras-cv-attention-models) (1.58.0)\r\n",
      "Requirement already satisfied: rsa<5,>=3.1.4 in /opt/conda/lib/python3.7/site-packages (from google-auth<3,>=1.6.3->tensorboard<2.12,>=2.11->tensorflow->keras-cv-attention-models) (4.9)\r\n",
      "Requirement already satisfied: cachetools<5.0,>=2.0.0 in /opt/conda/lib/python3.7/site-packages (from google-auth<3,>=1.6.3->tensorboard<2.12,>=2.11->tensorflow->keras-cv-attention-models) (4.2.4)\r\n",
      "Requirement already satisfied: pyasn1-modules>=0.2.1 in /opt/conda/lib/python3.7/site-packages (from google-auth<3,>=1.6.3->tensorboard<2.12,>=2.11->tensorflow->keras-cv-attention-models) (0.2.8)\r\n",
      "Requirement already satisfied: requests-oauthlib>=0.7.0 in /opt/conda/lib/python3.7/site-packages (from google-auth-oauthlib<0.5,>=0.4.1->tensorboard<2.12,>=2.11->tensorflow->keras-cv-attention-models) (1.3.1)\r\n",
      "Requirement already satisfied: MarkupSafe>=2.1.1 in /opt/conda/lib/python3.7/site-packages (from werkzeug>=1.0.1->tensorboard<2.12,>=2.11->tensorflow->keras-cv-attention-models) (2.1.1)\r\n",
      "Requirement already satisfied: pyasn1<0.5.0,>=0.4.6 in /opt/conda/lib/python3.7/site-packages (from pyasn1-modules>=0.2.1->google-auth<3,>=1.6.3->tensorboard<2.12,>=2.11->tensorflow->keras-cv-attention-models) (0.4.8)\r\n",
      "Requirement already satisfied: oauthlib>=3.0.0 in /opt/conda/lib/python3.7/site-packages (from requests-oauthlib>=0.7.0->google-auth-oauthlib<0.5,>=0.4.1->tensorboard<2.12,>=2.11->tensorflow->keras-cv-attention-models) (3.2.2)\r\n",
      "Installing collected packages: protobuf, keras-cv-attention-models\r\n",
      "  Attempting uninstall: protobuf\r\n",
      "    Found existing installation: protobuf 3.20.3\r\n",
      "    Uninstalling protobuf-3.20.3:\r\n",
      "      Successfully uninstalled protobuf-3.20.3\r\n",
      "\u001b[31mERROR: pip's dependency resolver does not currently take into account all the packages that are installed. This behaviour is the source of the following dependency conflicts.\r\n",
      "cudf 21.12.2 requires cupy-cuda115, which is not installed.\r\n",
      "tfx-bsl 1.12.0 requires google-api-python-client<2,>=1.7.11, but you have google-api-python-client 2.79.0 which is incompatible.\r\n",
      "tfx-bsl 1.12.0 requires pyarrow<7,>=6, but you have pyarrow 5.0.0 which is incompatible.\r\n",
      "tensorflow-transform 1.12.0 requires pyarrow<7,>=6, but you have pyarrow 5.0.0 which is incompatible.\r\n",
      "onnx 1.13.1 requires protobuf<4,>=3.20.2, but you have protobuf 3.19.6 which is incompatible.\r\n",
      "apache-beam 2.44.0 requires dill<0.3.2,>=0.3.1.1, but you have dill 0.3.6 which is incompatible.\u001b[0m\u001b[31m\r\n",
      "\u001b[0mSuccessfully installed keras-cv-attention-models-1.3.13 protobuf-3.19.6\r\n",
      "\u001b[33mWARNING: Running pip as the 'root' user can result in broken permissions and conflicting behaviour with the system package manager. It is recommended to use a virtual environment instead: https://pip.pypa.io/warnings/venv\u001b[0m\u001b[33m\r\n",
      "\u001b[0m"
     ]
    }
   ],
   "source": [
    "!pip install keras-cv-attention-models"
   ]
  },
  {
   "cell_type": "code",
   "execution_count": 2,
   "id": "67a5af15",
   "metadata": {
    "execution": {
     "iopub.execute_input": "2023-04-08T19:34:35.697101Z",
     "iopub.status.busy": "2023-04-08T19:34:35.696721Z",
     "iopub.status.idle": "2023-04-08T19:34:43.826857Z",
     "shell.execute_reply": "2023-04-08T19:34:43.825690Z"
    },
    "papermill": {
     "duration": 8.143908,
     "end_time": "2023-04-08T19:34:43.829436",
     "exception": false,
     "start_time": "2023-04-08T19:34:35.685528",
     "status": "completed"
    },
    "tags": []
   },
   "outputs": [
    {
     "name": "stdout",
     "output_type": "stream",
     "text": [
      "Tensorflow Version: 2.11.0\n",
      "Python Version: 3.7.12 | packaged by conda-forge | (default, Oct 26 2021, 06:08:53) \n",
      "[GCC 9.4.0]\n"
     ]
    }
   ],
   "source": [
    "import numpy as np\n",
    "import pandas as pd\n",
    "import tensorflow as tf\n",
    "import tensorflow_addons as tfa\n",
    "import matplotlib.pyplot as plt\n",
    "import matplotlib as mpl\n",
    "\n",
    "from tqdm.notebook import tqdm\n",
    "from multiprocessing import cpu_count\n",
    "from kaggle_datasets import KaggleDatasets\n",
    "from sklearn.model_selection import train_test_split\n",
    "from keras_cv_attention_models import convnext\n",
    "\n",
    "\n",
    "import numpy as np\n",
    "import os\n",
    "import PIL\n",
    "import PIL.Image\n",
    "import tensorflow as tf\n",
    "import tensorflow_datasets as tfds\n",
    "\n",
    "import os\n",
    "import time\n",
    "import pickle\n",
    "import math\n",
    "import random\n",
    "import sys\n",
    "import cv2\n",
    "import gc\n",
    "import datetime\n",
    "\n",
    "print(f'Tensorflow Version: {tf.__version__}')\n",
    "print(f'Python Version: {sys.version}')"
   ]
  },
  {
   "cell_type": "code",
   "execution_count": 3,
   "id": "511740fe",
   "metadata": {
    "execution": {
     "iopub.execute_input": "2023-04-08T19:34:43.848852Z",
     "iopub.status.busy": "2023-04-08T19:34:43.847592Z",
     "iopub.status.idle": "2023-04-08T19:34:43.853714Z",
     "shell.execute_reply": "2023-04-08T19:34:43.852752Z"
    },
    "papermill": {
     "duration": 0.01765,
     "end_time": "2023-04-08T19:34:43.855855",
     "exception": false,
     "start_time": "2023-04-08T19:34:43.838205",
     "status": "completed"
    },
    "tags": []
   },
   "outputs": [],
   "source": [
    "now = datetime.datetime.now().strftime(\"%d-%b-%Y %H-%M-%S\")\n",
    "np.save(now, np.array([now]))"
   ]
  },
  {
   "cell_type": "markdown",
   "id": "3d725d75",
   "metadata": {
    "papermill": {
     "duration": 0.008072,
     "end_time": "2023-04-08T19:34:43.872368",
     "exception": false,
     "start_time": "2023-04-08T19:34:43.864296",
     "status": "completed"
    },
    "tags": []
   },
   "source": [
    "## MP policy"
   ]
  },
  {
   "cell_type": "code",
   "execution_count": 4,
   "id": "72c1052e",
   "metadata": {
    "execution": {
     "iopub.execute_input": "2023-04-08T19:34:43.890447Z",
     "iopub.status.busy": "2023-04-08T19:34:43.890163Z",
     "iopub.status.idle": "2023-04-08T19:34:43.894586Z",
     "shell.execute_reply": "2023-04-08T19:34:43.893515Z"
    },
    "papermill": {
     "duration": 0.015897,
     "end_time": "2023-04-08T19:34:43.896935",
     "exception": false,
     "start_time": "2023-04-08T19:34:43.881038",
     "status": "completed"
    },
    "tags": []
   },
   "outputs": [],
   "source": [
    "# # float32 or mixed_float16 (mixed precision: compute float16, variable float32)\n",
    "# # TPU is fast enough and has enough memory to use float32\n",
    "# policy = tf.keras.mixed_precision.Policy('float32')\n",
    "# tf.keras.mixed_precision.set_global_policy(policy)\n",
    "\n",
    "# print(f'Compute dtype: {tf.keras.mixed_precision.global_policy().compute_dtype}')\n",
    "# print(f'Variable dtype: {tf.keras.mixed_precision.global_policy().variable_dtype}')"
   ]
  },
  {
   "cell_type": "markdown",
   "id": "88579b04",
   "metadata": {
    "papermill": {
     "duration": 0.008167,
     "end_time": "2023-04-08T19:34:43.913549",
     "exception": false,
     "start_time": "2023-04-08T19:34:43.905382",
     "status": "completed"
    },
    "tags": []
   },
   "source": [
    "## Matplotlib Config¶\n"
   ]
  },
  {
   "cell_type": "code",
   "execution_count": 5,
   "id": "4d4993d0",
   "metadata": {
    "execution": {
     "iopub.execute_input": "2023-04-08T19:34:43.931390Z",
     "iopub.status.busy": "2023-04-08T19:34:43.931089Z",
     "iopub.status.idle": "2023-04-08T19:34:43.937560Z",
     "shell.execute_reply": "2023-04-08T19:34:43.936490Z"
    },
    "papermill": {
     "duration": 0.017978,
     "end_time": "2023-04-08T19:34:43.939810",
     "exception": false,
     "start_time": "2023-04-08T19:34:43.921832",
     "status": "completed"
    },
    "tags": []
   },
   "outputs": [],
   "source": [
    "# MatplotLib Global Settings\n",
    "mpl.rcParams.update(mpl.rcParamsDefault)\n",
    "mpl.rcParams['xtick.labelsize'] = 16\n",
    "mpl.rcParams['ytick.labelsize'] = 16\n",
    "mpl.rcParams['axes.labelsize'] = 18\n",
    "mpl.rcParams['axes.titlesize'] = 24"
   ]
  },
  {
   "cell_type": "markdown",
   "id": "a0b669a9",
   "metadata": {
    "papermill": {
     "duration": 0.00798,
     "end_time": "2023-04-08T19:34:43.955981",
     "exception": false,
     "start_time": "2023-04-08T19:34:43.948001",
     "status": "completed"
    },
    "tags": []
   },
   "source": [
    "## Config"
   ]
  },
  {
   "cell_type": "code",
   "execution_count": 6,
   "id": "6a4a0e53",
   "metadata": {
    "execution": {
     "iopub.execute_input": "2023-04-08T19:34:43.973532Z",
     "iopub.status.busy": "2023-04-08T19:34:43.973260Z",
     "iopub.status.idle": "2023-04-08T19:34:43.977597Z",
     "shell.execute_reply": "2023-04-08T19:34:43.976335Z"
    },
    "papermill": {
     "duration": 0.015647,
     "end_time": "2023-04-08T19:34:43.979786",
     "exception": false,
     "start_time": "2023-04-08T19:34:43.964139",
     "status": "completed"
    },
    "tags": []
   },
   "outputs": [],
   "source": [
    "# gpu_devices = tf.config.experimental.list_physical_devices('GPU')\n",
    "# for device in gpu_devices:\n",
    "#     tf.config.experimental.set_memory_growth(device, True)"
   ]
  },
  {
   "cell_type": "markdown",
   "id": "6ef18ef9",
   "metadata": {
    "papermill": {
     "duration": 0.00804,
     "end_time": "2023-04-08T19:34:43.996038",
     "exception": false,
     "start_time": "2023-04-08T19:34:43.987998",
     "status": "completed"
    },
    "tags": []
   },
   "source": [
    "## Load Data"
   ]
  },
  {
   "cell_type": "code",
   "execution_count": 7,
   "id": "6d85bfc0",
   "metadata": {
    "execution": {
     "iopub.execute_input": "2023-04-08T19:34:44.013551Z",
     "iopub.status.busy": "2023-04-08T19:34:44.013285Z",
     "iopub.status.idle": "2023-04-08T19:34:58.318738Z",
     "shell.execute_reply": "2023-04-08T19:34:58.317689Z"
    },
    "papermill": {
     "duration": 14.317228,
     "end_time": "2023-04-08T19:34:58.321552",
     "exception": false,
     "start_time": "2023-04-08T19:34:44.004324",
     "status": "completed"
    },
    "tags": []
   },
   "outputs": [
    {
     "name": "stdout",
     "output_type": "stream",
     "text": [
      "Found 7000 files belonging to 1 classes.\n"
     ]
    }
   ],
   "source": [
    "test_ds = tf.keras.utils.image_dataset_from_directory(\n",
    "  '/kaggle/input/fake-images-detecttion-dataset/test-task1/test-task1',\n",
    "  seed=0,\n",
    "  image_size=(160, 160),\n",
    "  batch_size=8,\n",
    "  labels=None,\n",
    "  shuffle=False)"
   ]
  },
  {
   "cell_type": "markdown",
   "id": "b892cb8d",
   "metadata": {
    "papermill": {
     "duration": 0.00814,
     "end_time": "2023-04-08T19:34:58.338444",
     "exception": false,
     "start_time": "2023-04-08T19:34:58.330304",
     "status": "completed"
    },
    "tags": []
   },
   "source": [
    "# Model"
   ]
  },
  {
   "cell_type": "code",
   "execution_count": 8,
   "id": "9f5874b8",
   "metadata": {
    "execution": {
     "iopub.execute_input": "2023-04-08T19:34:58.357933Z",
     "iopub.status.busy": "2023-04-08T19:34:58.356351Z",
     "iopub.status.idle": "2023-04-08T19:34:58.363081Z",
     "shell.execute_reply": "2023-04-08T19:34:58.362128Z"
    },
    "papermill": {
     "duration": 0.018043,
     "end_time": "2023-04-08T19:34:58.365177",
     "exception": false,
     "start_time": "2023-04-08T19:34:58.347134",
     "status": "completed"
    },
    "tags": []
   },
   "outputs": [],
   "source": [
    "# Seed all random number generators\n",
    "def seed_everything(seed=0):\n",
    "    os.environ['PYTHONHASHSEED'] = str(seed)\n",
    "    random.seed(seed)\n",
    "    np.random.seed(seed)\n",
    "    tf.random.set_seed(seed)\n",
    "\n",
    "seed_everything()\n"
   ]
  },
  {
   "cell_type": "code",
   "execution_count": 9,
   "id": "a17533d4",
   "metadata": {
    "execution": {
     "iopub.execute_input": "2023-04-08T19:34:58.383423Z",
     "iopub.status.busy": "2023-04-08T19:34:58.383104Z",
     "iopub.status.idle": "2023-04-08T19:34:58.388265Z",
     "shell.execute_reply": "2023-04-08T19:34:58.387208Z"
    },
    "papermill": {
     "duration": 0.016824,
     "end_time": "2023-04-08T19:34:58.390354",
     "exception": false,
     "start_time": "2023-04-08T19:34:58.373530",
     "status": "completed"
    },
    "tags": []
   },
   "outputs": [],
   "source": [
    "def normalize(image):\n",
    "#     # Repeat channels to create 3 channel images required by pretrained ConvNextV2 models\n",
    "#     image = tf.repeat(image, repeats=3, axis=3)\n",
    "    # Cast to float 32\n",
    "    image = tf.cast(image, tf.float32)\n",
    "    # Normalize with respect to ImageNet mean/std\n",
    "    image = tf.keras.applications.imagenet_utils.preprocess_input(image, mode='torch')\n",
    "\n",
    "    return image"
   ]
  },
  {
   "cell_type": "code",
   "execution_count": 10,
   "id": "36110f20",
   "metadata": {
    "execution": {
     "iopub.execute_input": "2023-04-08T19:34:58.408513Z",
     "iopub.status.busy": "2023-04-08T19:34:58.407723Z",
     "iopub.status.idle": "2023-04-08T19:34:58.422342Z",
     "shell.execute_reply": "2023-04-08T19:34:58.421444Z"
    },
    "papermill": {
     "duration": 0.026039,
     "end_time": "2023-04-08T19:34:58.424623",
     "exception": false,
     "start_time": "2023-04-08T19:34:58.398584",
     "status": "completed"
    },
    "tags": []
   },
   "outputs": [],
   "source": [
    "STRATEGY = tf.distribute.MirroredStrategy() # default distribution strategy in Tensorflow. Works on CPU and single GPU.\n",
    "\n",
    "N_REPLICAS = STRATEGY.num_replicas_in_sync"
   ]
  },
  {
   "cell_type": "code",
   "execution_count": 11,
   "id": "00e5e5d3",
   "metadata": {
    "execution": {
     "iopub.execute_input": "2023-04-08T19:34:58.443272Z",
     "iopub.status.busy": "2023-04-08T19:34:58.442306Z",
     "iopub.status.idle": "2023-04-08T19:34:58.449308Z",
     "shell.execute_reply": "2023-04-08T19:34:58.448333Z"
    },
    "papermill": {
     "duration": 0.018228,
     "end_time": "2023-04-08T19:34:58.451347",
     "exception": false,
     "start_time": "2023-04-08T19:34:58.433119",
     "status": "completed"
    },
    "tags": []
   },
   "outputs": [
    {
     "data": {
      "text/plain": [
       "1"
      ]
     },
     "execution_count": 11,
     "metadata": {},
     "output_type": "execute_result"
    }
   ],
   "source": [
    "N_REPLICAS"
   ]
  },
  {
   "cell_type": "code",
   "execution_count": 12,
   "id": "c3be32f1",
   "metadata": {
    "execution": {
     "iopub.execute_input": "2023-04-08T19:34:58.470023Z",
     "iopub.status.busy": "2023-04-08T19:34:58.469468Z",
     "iopub.status.idle": "2023-04-08T19:34:58.474217Z",
     "shell.execute_reply": "2023-04-08T19:34:58.473308Z"
    },
    "papermill": {
     "duration": 0.015764,
     "end_time": "2023-04-08T19:34:58.476090",
     "exception": false,
     "start_time": "2023-04-08T19:34:58.460326",
     "status": "completed"
    },
    "tags": []
   },
   "outputs": [],
   "source": [
    "from keras_cv_attention_models import mobilenetv3"
   ]
  },
  {
   "cell_type": "code",
   "execution_count": 13,
   "id": "790f3c2c",
   "metadata": {
    "execution": {
     "iopub.execute_input": "2023-04-08T19:34:58.494585Z",
     "iopub.status.busy": "2023-04-08T19:34:58.493807Z",
     "iopub.status.idle": "2023-04-08T19:34:58.501483Z",
     "shell.execute_reply": "2023-04-08T19:34:58.500600Z"
    },
    "papermill": {
     "duration": 0.019082,
     "end_time": "2023-04-08T19:34:58.503558",
     "exception": false,
     "start_time": "2023-04-08T19:34:58.484476",
     "status": "completed"
    },
    "tags": []
   },
   "outputs": [],
   "source": [
    "def get_model(path):\n",
    "    # Inputs, note the names are equal to the dictionary keys in the dataset\n",
    "    image = tf.keras.layers.Input((160, 160, 3), name='image', dtype=tf.uint8)\n",
    "\n",
    "    # Normalize Input\n",
    "    image_norm = normalize(image)\n",
    "\n",
    "    # CNN Prediction in range [0,1]\n",
    "    x = convnext.ConvNeXtV2Tiny(\n",
    "        input_shape=(160, 160, 3),\n",
    "        pretrained='imagenet',\n",
    "        num_classes=0,\n",
    "    )(image_norm)\n",
    "\n",
    "    # Average Pooling BxHxWxC -> BxC\n",
    "    x = tf.keras.layers.GlobalAveragePooling2D()(x)\n",
    "    # Dropout to prevent Overfitting\n",
    "    x = tf.keras.layers.Dropout(0.1)(x)\n",
    "    # Output value between [0, 1] using Sigmoid function\n",
    "    outputs = tf.keras.layers.Dense(1, activation='sigmoid')(x)\n",
    "\n",
    "    # Define model with inputs and outputs\n",
    "    model = tf.keras.models.Model(inputs=image, outputs=outputs)\n",
    "\n",
    "    # Load pretrained Model Weights\n",
    "    model.load_weights(path)\n",
    "\n",
    "    # Set model non-trainable\n",
    "    model.trainable = False\n",
    "\n",
    "    # Compile model\n",
    "    model.compile()\n",
    "\n",
    "    return model"
   ]
  },
  {
   "cell_type": "code",
   "execution_count": 14,
   "id": "86d5b905",
   "metadata": {
    "execution": {
     "iopub.execute_input": "2023-04-08T19:34:58.522037Z",
     "iopub.status.busy": "2023-04-08T19:34:58.521269Z",
     "iopub.status.idle": "2023-04-08T19:35:06.428977Z",
     "shell.execute_reply": "2023-04-08T19:35:06.427937Z"
    },
    "papermill": {
     "duration": 7.919651,
     "end_time": "2023-04-08T19:35:06.431709",
     "exception": false,
     "start_time": "2023-04-08T19:34:58.512058",
     "status": "completed"
    },
    "tags": []
   },
   "outputs": [
    {
     "name": "stdout",
     "output_type": "stream",
     "text": [
      "Downloading data from https://github.com/leondgarse/keras_cv_attention_models/releases/download/convnext/convnext_v2_tiny_imagenet.h5\n",
      "115145456/115145456 [==============================] - 2s 0us/step\n",
      ">>>> Load pretrained from: /root/.keras/models/convnext_v2_tiny_imagenet.h5\n"
     ]
    }
   ],
   "source": [
    "model = get_model('/kaggle/input/deep-fake-models-trial1/covnext_tiny.h5')\n",
    "\n",
    "    "
   ]
  },
  {
   "cell_type": "markdown",
   "id": "d9119d33",
   "metadata": {
    "papermill": {
     "duration": 0.01191,
     "end_time": "2023-04-08T19:35:06.456718",
     "exception": false,
     "start_time": "2023-04-08T19:35:06.444808",
     "status": "completed"
    },
    "tags": []
   },
   "source": [
    "# Test"
   ]
  },
  {
   "cell_type": "code",
   "execution_count": 15,
   "id": "22bd9ea6",
   "metadata": {
    "execution": {
     "iopub.execute_input": "2023-04-08T19:35:06.479169Z",
     "iopub.status.busy": "2023-04-08T19:35:06.478826Z",
     "iopub.status.idle": "2023-04-08T19:35:06.488239Z",
     "shell.execute_reply": "2023-04-08T19:35:06.487330Z"
    },
    "papermill": {
     "duration": 0.023002,
     "end_time": "2023-04-08T19:35:06.490415",
     "exception": false,
     "start_time": "2023-04-08T19:35:06.467413",
     "status": "completed"
    },
    "tags": []
   },
   "outputs": [],
   "source": [
    "y_true=[]\n",
    "with open('/kaggle/input/fake-images-detecttion-dataset/label-task1.txt') as f:\n",
    "    labels = f.readlines()\n",
    "# for line in lines:\n",
    "#     splitted_line=line.split(' ')\n",
    "#     y_true.append(int(splitted_line[1].strip('\\n')))\n",
    "    \n",
    "    "
   ]
  },
  {
   "cell_type": "code",
   "execution_count": 16,
   "id": "116953ef",
   "metadata": {
    "execution": {
     "iopub.execute_input": "2023-04-08T19:35:06.512627Z",
     "iopub.status.busy": "2023-04-08T19:35:06.512348Z",
     "iopub.status.idle": "2023-04-08T19:35:06.535587Z",
     "shell.execute_reply": "2023-04-08T19:35:06.534702Z"
    },
    "papermill": {
     "duration": 0.036806,
     "end_time": "2023-04-08T19:35:06.537630",
     "exception": false,
     "start_time": "2023-04-08T19:35:06.500824",
     "status": "completed"
    },
    "tags": []
   },
   "outputs": [],
   "source": [
    "import glob\n",
    "image_path = glob.glob('/kaggle/input/fake-images-detecttion-dataset/test-task1/test-task1/*jpg')"
   ]
  },
  {
   "cell_type": "code",
   "execution_count": 17,
   "id": "68a72cf2",
   "metadata": {
    "execution": {
     "iopub.execute_input": "2023-04-08T19:35:06.559460Z",
     "iopub.status.busy": "2023-04-08T19:35:06.559189Z",
     "iopub.status.idle": "2023-04-08T19:35:06.564045Z",
     "shell.execute_reply": "2023-04-08T19:35:06.562964Z"
    },
    "papermill": {
     "duration": 0.018545,
     "end_time": "2023-04-08T19:35:06.566682",
     "exception": false,
     "start_time": "2023-04-08T19:35:06.548137",
     "status": "completed"
    },
    "tags": []
   },
   "outputs": [],
   "source": [
    "parh_len=len('/kaggle/input/fake-images-detecttion-dataset/test-task1/test-task1/')\n"
   ]
  },
  {
   "cell_type": "code",
   "execution_count": 18,
   "id": "4f49307c",
   "metadata": {
    "execution": {
     "iopub.execute_input": "2023-04-08T19:35:06.588610Z",
     "iopub.status.busy": "2023-04-08T19:35:06.588155Z",
     "iopub.status.idle": "2023-04-08T19:35:06.592107Z",
     "shell.execute_reply": "2023-04-08T19:35:06.591130Z"
    },
    "papermill": {
     "duration": 0.01731,
     "end_time": "2023-04-08T19:35:06.594235",
     "exception": false,
     "start_time": "2023-04-08T19:35:06.576925",
     "status": "completed"
    },
    "tags": []
   },
   "outputs": [],
   "source": [
    "import cv2"
   ]
  },
  {
   "cell_type": "code",
   "execution_count": 19,
   "id": "d0cc595d",
   "metadata": {
    "execution": {
     "iopub.execute_input": "2023-04-08T19:35:06.617197Z",
     "iopub.status.busy": "2023-04-08T19:35:06.616237Z",
     "iopub.status.idle": "2023-04-08T19:36:07.889501Z",
     "shell.execute_reply": "2023-04-08T19:36:07.888329Z"
    },
    "papermill": {
     "duration": 61.287309,
     "end_time": "2023-04-08T19:36:07.892215",
     "exception": false,
     "start_time": "2023-04-08T19:35:06.604906",
     "status": "completed"
    },
    "tags": []
   },
   "outputs": [],
   "source": [
    "y_true = []  # store true labels\n",
    "images_to_predict=[]\n",
    "\n",
    "# iterate over the dataset\n",
    "for img_path in image_path:   \n",
    "    for label in labels:\n",
    "        if img_path[parh_len:] in label:\n",
    "            splitted_label=label.split(' ')\n",
    "            y_true.append(int(splitted_label[1].strip('\\n')))\n",
    "            break\n",
    "\n",
    "    img = cv2.imread(img_path)\n",
    "    img  = cv2.resize(img, (160, 160))\n",
    "    img = cv2.cvtColor(img, cv2.COLOR_BGR2RGB)\n",
    "    images_to_predict.append(img)\n"
   ]
  },
  {
   "cell_type": "code",
   "execution_count": 20,
   "id": "2f66c5f8",
   "metadata": {
    "execution": {
     "iopub.execute_input": "2023-04-08T19:36:07.917362Z",
     "iopub.status.busy": "2023-04-08T19:36:07.916334Z",
     "iopub.status.idle": "2023-04-08T19:36:08.087578Z",
     "shell.execute_reply": "2023-04-08T19:36:08.086435Z"
    },
    "papermill": {
     "duration": 0.18657,
     "end_time": "2023-04-08T19:36:08.090296",
     "exception": false,
     "start_time": "2023-04-08T19:36:07.903726",
     "status": "completed"
    },
    "tags": []
   },
   "outputs": [],
   "source": [
    "images_to_predict = np.array(images_to_predict)\n",
    "y_true = np.array(y_true)"
   ]
  },
  {
   "cell_type": "code",
   "execution_count": null,
   "id": "3856412f",
   "metadata": {
    "execution": {
     "iopub.execute_input": "2023-04-08T19:24:06.396245Z",
     "iopub.status.busy": "2023-04-08T19:24:06.395615Z",
     "iopub.status.idle": "2023-04-08T19:24:06.402328Z",
     "shell.execute_reply": "2023-04-08T19:24:06.401187Z",
     "shell.execute_reply.started": "2023-04-08T19:24:06.396207Z"
    },
    "papermill": {
     "duration": 0.011259,
     "end_time": "2023-04-08T19:36:08.112273",
     "exception": false,
     "start_time": "2023-04-08T19:36:08.101014",
     "status": "completed"
    },
    "tags": []
   },
   "outputs": [],
   "source": []
  },
  {
   "cell_type": "code",
   "execution_count": 21,
   "id": "c25a5ab8",
   "metadata": {
    "execution": {
     "iopub.execute_input": "2023-04-08T19:36:08.134865Z",
     "iopub.status.busy": "2023-04-08T19:36:08.134546Z",
     "iopub.status.idle": "2023-04-08T19:36:08.141249Z",
     "shell.execute_reply": "2023-04-08T19:36:08.140124Z"
    },
    "papermill": {
     "duration": 0.020816,
     "end_time": "2023-04-08T19:36:08.143986",
     "exception": false,
     "start_time": "2023-04-08T19:36:08.123170",
     "status": "completed"
    },
    "tags": []
   },
   "outputs": [
    {
     "data": {
      "text/plain": [
       "(7000, 160, 160, 3)"
      ]
     },
     "execution_count": 21,
     "metadata": {},
     "output_type": "execute_result"
    }
   ],
   "source": [
    "images_to_predict.shape"
   ]
  },
  {
   "cell_type": "code",
   "execution_count": 22,
   "id": "0d5c88c1",
   "metadata": {
    "execution": {
     "iopub.execute_input": "2023-04-08T19:36:08.167201Z",
     "iopub.status.busy": "2023-04-08T19:36:08.166420Z",
     "iopub.status.idle": "2023-04-08T19:36:08.173389Z",
     "shell.execute_reply": "2023-04-08T19:36:08.172310Z"
    },
    "papermill": {
     "duration": 0.020987,
     "end_time": "2023-04-08T19:36:08.175993",
     "exception": false,
     "start_time": "2023-04-08T19:36:08.155006",
     "status": "completed"
    },
    "tags": []
   },
   "outputs": [
    {
     "data": {
      "text/plain": [
       "(7000,)"
      ]
     },
     "execution_count": 22,
     "metadata": {},
     "output_type": "execute_result"
    }
   ],
   "source": [
    "y_true.shape"
   ]
  },
  {
   "cell_type": "code",
   "execution_count": 23,
   "id": "d152466a",
   "metadata": {
    "execution": {
     "iopub.execute_input": "2023-04-08T19:36:08.198375Z",
     "iopub.status.busy": "2023-04-08T19:36:08.198104Z",
     "iopub.status.idle": "2023-04-08T19:36:52.389562Z",
     "shell.execute_reply": "2023-04-08T19:36:52.388333Z"
    },
    "papermill": {
     "duration": 44.205812,
     "end_time": "2023-04-08T19:36:52.392476",
     "exception": false,
     "start_time": "2023-04-08T19:36:08.186664",
     "status": "completed"
    },
    "tags": []
   },
   "outputs": [
    {
     "name": "stdout",
     "output_type": "stream",
     "text": [
      "219/219 [==============================] - 30s 107ms/step\n"
     ]
    }
   ],
   "source": [
    "predicted_labels = model.predict(images_to_predict)"
   ]
  },
  {
   "cell_type": "code",
   "execution_count": 24,
   "id": "a9aca58d",
   "metadata": {
    "execution": {
     "iopub.execute_input": "2023-04-08T19:36:52.438338Z",
     "iopub.status.busy": "2023-04-08T19:36:52.437425Z",
     "iopub.status.idle": "2023-04-08T19:36:52.442879Z",
     "shell.execute_reply": "2023-04-08T19:36:52.441917Z"
    },
    "papermill": {
     "duration": 0.030127,
     "end_time": "2023-04-08T19:36:52.444948",
     "exception": false,
     "start_time": "2023-04-08T19:36:52.414821",
     "status": "completed"
    },
    "tags": []
   },
   "outputs": [],
   "source": [
    "predicted_labels[predicted_labels<0.5]=0\n",
    "predicted_labels[predicted_labels>=0.5]=1"
   ]
  },
  {
   "cell_type": "code",
   "execution_count": 25,
   "id": "bf92d751",
   "metadata": {
    "execution": {
     "iopub.execute_input": "2023-04-08T19:36:52.491475Z",
     "iopub.status.busy": "2023-04-08T19:36:52.489665Z",
     "iopub.status.idle": "2023-04-08T19:36:52.911817Z",
     "shell.execute_reply": "2023-04-08T19:36:52.910795Z"
    },
    "papermill": {
     "duration": 0.447968,
     "end_time": "2023-04-08T19:36:52.914444",
     "exception": false,
     "start_time": "2023-04-08T19:36:52.466476",
     "status": "completed"
    },
    "tags": []
   },
   "outputs": [],
   "source": [
    "import matplotlib.pyplot as plt\n",
    "import seaborn as sns\n"
   ]
  },
  {
   "cell_type": "code",
   "execution_count": 26,
   "id": "36bee1ec",
   "metadata": {
    "execution": {
     "iopub.execute_input": "2023-04-08T19:36:52.961194Z",
     "iopub.status.busy": "2023-04-08T19:36:52.959497Z",
     "iopub.status.idle": "2023-04-08T19:36:52.964525Z",
     "shell.execute_reply": "2023-04-08T19:36:52.963588Z"
    },
    "papermill": {
     "duration": 0.029642,
     "end_time": "2023-04-08T19:36:52.966661",
     "exception": false,
     "start_time": "2023-04-08T19:36:52.937019",
     "status": "completed"
    },
    "tags": []
   },
   "outputs": [],
   "source": [
    "# original test set labels (0 if the image is real; 1 if the image is Deepfake), However here we have it inverted"
   ]
  },
  {
   "cell_type": "code",
   "execution_count": 27,
   "id": "21eb83e7",
   "metadata": {
    "execution": {
     "iopub.execute_input": "2023-04-08T19:36:53.010972Z",
     "iopub.status.busy": "2023-04-08T19:36:53.010641Z",
     "iopub.status.idle": "2023-04-08T19:36:53.015518Z",
     "shell.execute_reply": "2023-04-08T19:36:53.014443Z"
    },
    "papermill": {
     "duration": 0.02947,
     "end_time": "2023-04-08T19:36:53.017613",
     "exception": false,
     "start_time": "2023-04-08T19:36:52.988143",
     "status": "completed"
    },
    "tags": []
   },
   "outputs": [],
   "source": [
    "correct_labels = np.array(y_true)\n"
   ]
  },
  {
   "cell_type": "code",
   "execution_count": 28,
   "id": "514eb12f",
   "metadata": {
    "execution": {
     "iopub.execute_input": "2023-04-08T19:36:53.062350Z",
     "iopub.status.busy": "2023-04-08T19:36:53.061508Z",
     "iopub.status.idle": "2023-04-08T19:36:53.066673Z",
     "shell.execute_reply": "2023-04-08T19:36:53.065747Z"
    },
    "papermill": {
     "duration": 0.029783,
     "end_time": "2023-04-08T19:36:53.068798",
     "exception": false,
     "start_time": "2023-04-08T19:36:53.039015",
     "status": "completed"
    },
    "tags": []
   },
   "outputs": [],
   "source": [
    "correct_labels = 1- correct_labels"
   ]
  },
  {
   "cell_type": "code",
   "execution_count": 29,
   "id": "1beceebd",
   "metadata": {
    "execution": {
     "iopub.execute_input": "2023-04-08T19:36:53.113818Z",
     "iopub.status.busy": "2023-04-08T19:36:53.112890Z",
     "iopub.status.idle": "2023-04-08T19:36:53.119442Z",
     "shell.execute_reply": "2023-04-08T19:36:53.118378Z"
    },
    "papermill": {
     "duration": 0.031467,
     "end_time": "2023-04-08T19:36:53.121635",
     "exception": false,
     "start_time": "2023-04-08T19:36:53.090168",
     "status": "completed"
    },
    "tags": []
   },
   "outputs": [
    {
     "data": {
      "text/plain": [
       "(7000,)"
      ]
     },
     "execution_count": 29,
     "metadata": {},
     "output_type": "execute_result"
    }
   ],
   "source": [
    "correct_labels.shape"
   ]
  },
  {
   "cell_type": "code",
   "execution_count": 30,
   "id": "11fbf721",
   "metadata": {
    "execution": {
     "iopub.execute_input": "2023-04-08T19:36:53.166914Z",
     "iopub.status.busy": "2023-04-08T19:36:53.166590Z",
     "iopub.status.idle": "2023-04-08T19:36:53.172621Z",
     "shell.execute_reply": "2023-04-08T19:36:53.171617Z"
    },
    "papermill": {
     "duration": 0.031032,
     "end_time": "2023-04-08T19:36:53.175005",
     "exception": false,
     "start_time": "2023-04-08T19:36:53.143973",
     "status": "completed"
    },
    "tags": []
   },
   "outputs": [
    {
     "data": {
      "text/plain": [
       "(7000, 1)"
      ]
     },
     "execution_count": 30,
     "metadata": {},
     "output_type": "execute_result"
    }
   ],
   "source": [
    "predicted_labels.shape"
   ]
  },
  {
   "cell_type": "code",
   "execution_count": 31,
   "id": "93f27da0",
   "metadata": {
    "execution": {
     "iopub.execute_input": "2023-04-08T19:36:53.219503Z",
     "iopub.status.busy": "2023-04-08T19:36:53.219219Z",
     "iopub.status.idle": "2023-04-08T19:36:53.240016Z",
     "shell.execute_reply": "2023-04-08T19:36:53.238470Z"
    },
    "papermill": {
     "duration": 0.045889,
     "end_time": "2023-04-08T19:36:53.242494",
     "exception": false,
     "start_time": "2023-04-08T19:36:53.196605",
     "status": "completed"
    },
    "tags": []
   },
   "outputs": [
    {
     "name": "stdout",
     "output_type": "stream",
     "text": [
      "              precision    recall  f1-score   support\n",
      "\n",
      "           0       0.80      0.99      0.88      5000\n",
      "           1       0.92      0.39      0.54      2000\n",
      "\n",
      "    accuracy                           0.81      7000\n",
      "   macro avg       0.86      0.69      0.71      7000\n",
      "weighted avg       0.83      0.81      0.79      7000\n",
      "\n"
     ]
    }
   ],
   "source": [
    "from sklearn.metrics import classification_report\n",
    "print(classification_report(correct_labels, predicted_labels.flatten()))"
   ]
  }
 ],
 "metadata": {
  "kernelspec": {
   "display_name": "Python 3",
   "language": "python",
   "name": "python3"
  },
  "language_info": {
   "codemirror_mode": {
    "name": "ipython",
    "version": 3
   },
   "file_extension": ".py",
   "mimetype": "text/x-python",
   "name": "python",
   "nbconvert_exporter": "python",
   "pygments_lexer": "ipython3",
   "version": "3.7.12"
  },
  "papermill": {
   "default_parameters": {},
   "duration": 170.878821,
   "end_time": "2023-04-08T19:36:57.176275",
   "environment_variables": {},
   "exception": null,
   "input_path": "__notebook__.ipynb",
   "output_path": "__notebook__.ipynb",
   "parameters": {},
   "start_time": "2023-04-08T19:34:06.297454",
   "version": "2.4.0"
  }
 },
 "nbformat": 4,
 "nbformat_minor": 5
}
