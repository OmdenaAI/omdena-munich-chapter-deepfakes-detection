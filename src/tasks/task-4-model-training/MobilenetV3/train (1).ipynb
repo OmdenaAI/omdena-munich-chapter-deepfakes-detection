{
 "cells": [
  {
   "cell_type": "code",
   "execution_count": null,
   "id": "441e8286",
   "metadata": {
    "papermill": {
     "duration": 0.008491,
     "end_time": "2023-03-19T17:42:15.649738",
     "exception": false,
     "start_time": "2023-03-19T17:42:15.641247",
     "status": "completed"
    },
    "tags": []
   },
   "outputs": [],
   "source": []
  },
  {
   "cell_type": "markdown",
   "id": "39a37ef7",
   "metadata": {
    "papermill": {
     "duration": 0.007011,
     "end_time": "2023-03-19T17:42:15.664147",
     "exception": false,
     "start_time": "2023-03-19T17:42:15.657136",
     "status": "completed"
    },
    "tags": []
   },
   "source": [
    "# Import Libraries"
   ]
  },
  {
   "cell_type": "code",
   "execution_count": 1,
   "id": "9e2b2068",
   "metadata": {
    "execution": {
     "iopub.execute_input": "2023-03-19T17:42:15.681132Z",
     "iopub.status.busy": "2023-03-19T17:42:15.680132Z",
     "iopub.status.idle": "2023-03-19T17:42:39.013836Z",
     "shell.execute_reply": "2023-03-19T17:42:39.012551Z"
    },
    "papermill": {
     "duration": 23.345345,
     "end_time": "2023-03-19T17:42:39.016680",
     "exception": false,
     "start_time": "2023-03-19T17:42:15.671335",
     "status": "completed"
    },
    "tags": []
   },
   "outputs": [
    {
     "name": "stdout",
     "output_type": "stream",
     "text": [
      "Collecting keras-cv-attention-models\r\n",
      "  Downloading keras_cv_attention_models-1.3.11-py3-none-any.whl (613 kB)\r\n",
      "\u001b[2K     \u001b[90m━━━━━━━━━━━━━━━━━━━━━━━━━━━━━━━━━━━━━━\u001b[0m \u001b[32m613.4/613.4 kB\u001b[0m \u001b[31m11.2 MB/s\u001b[0m eta \u001b[36m0:00:00\u001b[0m\r\n",
      "\u001b[?25hRequirement already satisfied: tensorflow in /opt/conda/lib/python3.7/site-packages (from keras-cv-attention-models) (2.11.0)\r\n",
      "Requirement already satisfied: tensorflow-datasets in /opt/conda/lib/python3.7/site-packages (from keras-cv-attention-models) (4.8.2)\r\n",
      "Requirement already satisfied: tensorflow-addons in /opt/conda/lib/python3.7/site-packages (from keras-cv-attention-models) (0.19.0)\r\n",
      "Requirement already satisfied: termcolor>=1.1.0 in /opt/conda/lib/python3.7/site-packages (from tensorflow->keras-cv-attention-models) (2.2.0)\r\n",
      "Requirement already satisfied: wrapt>=1.11.0 in /opt/conda/lib/python3.7/site-packages (from tensorflow->keras-cv-attention-models) (1.14.1)\r\n",
      "Requirement already satisfied: opt-einsum>=2.3.2 in /opt/conda/lib/python3.7/site-packages (from tensorflow->keras-cv-attention-models) (3.3.0)\r\n",
      "Requirement already satisfied: libclang>=13.0.0 in /opt/conda/lib/python3.7/site-packages (from tensorflow->keras-cv-attention-models) (15.0.6.1)\r\n",
      "Requirement already satisfied: gast<=0.4.0,>=0.2.1 in /opt/conda/lib/python3.7/site-packages (from tensorflow->keras-cv-attention-models) (0.4.0)\r\n",
      "Requirement already satisfied: astunparse>=1.6.0 in /opt/conda/lib/python3.7/site-packages (from tensorflow->keras-cv-attention-models) (1.6.3)\r\n",
      "Requirement already satisfied: flatbuffers>=2.0 in /opt/conda/lib/python3.7/site-packages (from tensorflow->keras-cv-attention-models) (23.1.21)\r\n",
      "Requirement already satisfied: numpy>=1.20 in /opt/conda/lib/python3.7/site-packages (from tensorflow->keras-cv-attention-models) (1.21.6)\r\n",
      "Requirement already satisfied: h5py>=2.9.0 in /opt/conda/lib/python3.7/site-packages (from tensorflow->keras-cv-attention-models) (3.8.0)\r\n",
      "Requirement already satisfied: packaging in /opt/conda/lib/python3.7/site-packages (from tensorflow->keras-cv-attention-models) (23.0)\r\n",
      "Requirement already satisfied: grpcio<2.0,>=1.24.3 in /opt/conda/lib/python3.7/site-packages (from tensorflow->keras-cv-attention-models) (1.51.1)\r\n",
      "Requirement already satisfied: typing-extensions>=3.6.6 in /opt/conda/lib/python3.7/site-packages (from tensorflow->keras-cv-attention-models) (4.4.0)\r\n",
      "Collecting protobuf<3.20,>=3.9.2\r\n",
      "  Downloading protobuf-3.19.6-cp37-cp37m-manylinux_2_17_x86_64.manylinux2014_x86_64.whl (1.1 MB)\r\n",
      "\u001b[2K     \u001b[90m━━━━━━━━━━━━━━━━━━━━━━━━━━━━━━━━━━━━━━━━\u001b[0m \u001b[32m1.1/1.1 MB\u001b[0m \u001b[31m45.7 MB/s\u001b[0m eta \u001b[36m0:00:00\u001b[0m\r\n",
      "\u001b[?25hRequirement already satisfied: google-pasta>=0.1.1 in /opt/conda/lib/python3.7/site-packages (from tensorflow->keras-cv-attention-models) (0.2.0)\r\n",
      "Requirement already satisfied: tensorflow-estimator<2.12,>=2.11.0 in /opt/conda/lib/python3.7/site-packages (from tensorflow->keras-cv-attention-models) (2.11.0)\r\n",
      "Requirement already satisfied: tensorboard<2.12,>=2.11 in /opt/conda/lib/python3.7/site-packages (from tensorflow->keras-cv-attention-models) (2.11.2)\r\n",
      "Requirement already satisfied: tensorflow-io-gcs-filesystem>=0.23.1 in /opt/conda/lib/python3.7/site-packages (from tensorflow->keras-cv-attention-models) (0.29.0)\r\n",
      "Requirement already satisfied: setuptools in /opt/conda/lib/python3.7/site-packages (from tensorflow->keras-cv-attention-models) (59.8.0)\r\n",
      "Requirement already satisfied: six>=1.12.0 in /opt/conda/lib/python3.7/site-packages (from tensorflow->keras-cv-attention-models) (1.16.0)\r\n",
      "Requirement already satisfied: absl-py>=1.0.0 in /opt/conda/lib/python3.7/site-packages (from tensorflow->keras-cv-attention-models) (1.4.0)\r\n",
      "Requirement already satisfied: keras<2.12,>=2.11.0 in /opt/conda/lib/python3.7/site-packages (from tensorflow->keras-cv-attention-models) (2.11.0)\r\n",
      "Requirement already satisfied: typeguard>=2.7 in /opt/conda/lib/python3.7/site-packages (from tensorflow-addons->keras-cv-attention-models) (2.13.3)\r\n",
      "Requirement already satisfied: etils[enp,epath]>=0.9.0 in /opt/conda/lib/python3.7/site-packages (from tensorflow-datasets->keras-cv-attention-models) (0.9.0)\r\n",
      "Requirement already satisfied: dm-tree in /opt/conda/lib/python3.7/site-packages (from tensorflow-datasets->keras-cv-attention-models) (0.1.8)\r\n",
      "Requirement already satisfied: click in /opt/conda/lib/python3.7/site-packages (from tensorflow-datasets->keras-cv-attention-models) (8.1.3)\r\n",
      "Requirement already satisfied: requests>=2.19.0 in /opt/conda/lib/python3.7/site-packages (from tensorflow-datasets->keras-cv-attention-models) (2.28.2)\r\n",
      "Requirement already satisfied: dill in /opt/conda/lib/python3.7/site-packages (from tensorflow-datasets->keras-cv-attention-models) (0.3.6)\r\n",
      "Requirement already satisfied: promise in /opt/conda/lib/python3.7/site-packages (from tensorflow-datasets->keras-cv-attention-models) (2.3)\r\n",
      "Requirement already satisfied: psutil in /opt/conda/lib/python3.7/site-packages (from tensorflow-datasets->keras-cv-attention-models) (5.9.3)\r\n",
      "Requirement already satisfied: importlib-resources in /opt/conda/lib/python3.7/site-packages (from tensorflow-datasets->keras-cv-attention-models) (5.10.2)\r\n",
      "Requirement already satisfied: tqdm in /opt/conda/lib/python3.7/site-packages (from tensorflow-datasets->keras-cv-attention-models) (4.64.1)\r\n",
      "Requirement already satisfied: tensorflow-metadata in /opt/conda/lib/python3.7/site-packages (from tensorflow-datasets->keras-cv-attention-models) (1.12.0)\r\n",
      "Requirement already satisfied: toml in /opt/conda/lib/python3.7/site-packages (from tensorflow-datasets->keras-cv-attention-models) (0.10.2)\r\n",
      "Requirement already satisfied: wheel<1.0,>=0.23.0 in /opt/conda/lib/python3.7/site-packages (from astunparse>=1.6.0->tensorflow->keras-cv-attention-models) (0.38.4)\r\n",
      "Requirement already satisfied: zipp in /opt/conda/lib/python3.7/site-packages (from etils[enp,epath]>=0.9.0->tensorflow-datasets->keras-cv-attention-models) (3.11.0)\r\n",
      "Requirement already satisfied: idna<4,>=2.5 in /opt/conda/lib/python3.7/site-packages (from requests>=2.19.0->tensorflow-datasets->keras-cv-attention-models) (3.4)\r\n",
      "Requirement already satisfied: charset-normalizer<4,>=2 in /opt/conda/lib/python3.7/site-packages (from requests>=2.19.0->tensorflow-datasets->keras-cv-attention-models) (2.1.1)\r\n",
      "Requirement already satisfied: certifi>=2017.4.17 in /opt/conda/lib/python3.7/site-packages (from requests>=2.19.0->tensorflow-datasets->keras-cv-attention-models) (2022.12.7)\r\n",
      "Requirement already satisfied: urllib3<1.27,>=1.21.1 in /opt/conda/lib/python3.7/site-packages (from requests>=2.19.0->tensorflow-datasets->keras-cv-attention-models) (1.26.14)\r\n",
      "Requirement already satisfied: google-auth-oauthlib<0.5,>=0.4.1 in /opt/conda/lib/python3.7/site-packages (from tensorboard<2.12,>=2.11->tensorflow->keras-cv-attention-models) (0.4.6)\r\n",
      "Requirement already satisfied: google-auth<3,>=1.6.3 in /opt/conda/lib/python3.7/site-packages (from tensorboard<2.12,>=2.11->tensorflow->keras-cv-attention-models) (1.35.0)\r\n",
      "Requirement already satisfied: tensorboard-plugin-wit>=1.6.0 in /opt/conda/lib/python3.7/site-packages (from tensorboard<2.12,>=2.11->tensorflow->keras-cv-attention-models) (1.8.1)\r\n",
      "Requirement already satisfied: tensorboard-data-server<0.7.0,>=0.6.0 in /opt/conda/lib/python3.7/site-packages (from tensorboard<2.12,>=2.11->tensorflow->keras-cv-attention-models) (0.6.1)\r\n",
      "Requirement already satisfied: markdown>=2.6.8 in /opt/conda/lib/python3.7/site-packages (from tensorboard<2.12,>=2.11->tensorflow->keras-cv-attention-models) (3.4.1)\r\n",
      "Requirement already satisfied: werkzeug>=1.0.1 in /opt/conda/lib/python3.7/site-packages (from tensorboard<2.12,>=2.11->tensorflow->keras-cv-attention-models) (2.2.3)\r\n",
      "Requirement already satisfied: importlib-metadata in /opt/conda/lib/python3.7/site-packages (from click->tensorflow-datasets->keras-cv-attention-models) (4.11.4)\r\n",
      "Requirement already satisfied: googleapis-common-protos<2,>=1.52.0 in /opt/conda/lib/python3.7/site-packages (from tensorflow-metadata->tensorflow-datasets->keras-cv-attention-models) (1.58.0)\r\n",
      "Requirement already satisfied: rsa<5,>=3.1.4 in /opt/conda/lib/python3.7/site-packages (from google-auth<3,>=1.6.3->tensorboard<2.12,>=2.11->tensorflow->keras-cv-attention-models) (4.9)\r\n",
      "Requirement already satisfied: cachetools<5.0,>=2.0.0 in /opt/conda/lib/python3.7/site-packages (from google-auth<3,>=1.6.3->tensorboard<2.12,>=2.11->tensorflow->keras-cv-attention-models) (4.2.4)\r\n",
      "Requirement already satisfied: pyasn1-modules>=0.2.1 in /opt/conda/lib/python3.7/site-packages (from google-auth<3,>=1.6.3->tensorboard<2.12,>=2.11->tensorflow->keras-cv-attention-models) (0.2.8)\r\n",
      "Requirement already satisfied: requests-oauthlib>=0.7.0 in /opt/conda/lib/python3.7/site-packages (from google-auth-oauthlib<0.5,>=0.4.1->tensorboard<2.12,>=2.11->tensorflow->keras-cv-attention-models) (1.3.1)\r\n",
      "Requirement already satisfied: MarkupSafe>=2.1.1 in /opt/conda/lib/python3.7/site-packages (from werkzeug>=1.0.1->tensorboard<2.12,>=2.11->tensorflow->keras-cv-attention-models) (2.1.1)\r\n",
      "Requirement already satisfied: pyasn1<0.5.0,>=0.4.6 in /opt/conda/lib/python3.7/site-packages (from pyasn1-modules>=0.2.1->google-auth<3,>=1.6.3->tensorboard<2.12,>=2.11->tensorflow->keras-cv-attention-models) (0.4.8)\r\n",
      "Requirement already satisfied: oauthlib>=3.0.0 in /opt/conda/lib/python3.7/site-packages (from requests-oauthlib>=0.7.0->google-auth-oauthlib<0.5,>=0.4.1->tensorboard<2.12,>=2.11->tensorflow->keras-cv-attention-models) (3.2.2)\r\n",
      "Installing collected packages: protobuf, keras-cv-attention-models\r\n",
      "  Attempting uninstall: protobuf\r\n",
      "    Found existing installation: protobuf 3.20.3\r\n",
      "    Uninstalling protobuf-3.20.3:\r\n",
      "      Successfully uninstalled protobuf-3.20.3\r\n",
      "\u001b[31mERROR: pip's dependency resolver does not currently take into account all the packages that are installed. This behaviour is the source of the following dependency conflicts.\r\n",
      "cudf 21.12.2 requires cupy-cuda115, which is not installed.\r\n",
      "tfx-bsl 1.12.0 requires google-api-python-client<2,>=1.7.11, but you have google-api-python-client 2.79.0 which is incompatible.\r\n",
      "tfx-bsl 1.12.0 requires pyarrow<7,>=6, but you have pyarrow 5.0.0 which is incompatible.\r\n",
      "tensorflow-transform 1.12.0 requires pyarrow<7,>=6, but you have pyarrow 5.0.0 which is incompatible.\r\n",
      "onnx 1.13.1 requires protobuf<4,>=3.20.2, but you have protobuf 3.19.6 which is incompatible.\r\n",
      "apache-beam 2.44.0 requires dill<0.3.2,>=0.3.1.1, but you have dill 0.3.6 which is incompatible.\u001b[0m\u001b[31m\r\n",
      "\u001b[0mSuccessfully installed keras-cv-attention-models-1.3.11 protobuf-3.19.6\r\n",
      "\u001b[33mWARNING: Running pip as the 'root' user can result in broken permissions and conflicting behaviour with the system package manager. It is recommended to use a virtual environment instead: https://pip.pypa.io/warnings/venv\u001b[0m\u001b[33m\r\n",
      "\u001b[0m"
     ]
    }
   ],
   "source": [
    "!pip install keras-cv-attention-models"
   ]
  },
  {
   "cell_type": "code",
   "execution_count": 2,
   "id": "1f8a7780",
   "metadata": {
    "execution": {
     "iopub.execute_input": "2023-03-19T17:42:39.036640Z",
     "iopub.status.busy": "2023-03-19T17:42:39.036332Z",
     "iopub.status.idle": "2023-03-19T17:42:47.803166Z",
     "shell.execute_reply": "2023-03-19T17:42:47.799901Z"
    },
    "papermill": {
     "duration": 8.781869,
     "end_time": "2023-03-19T17:42:47.808147",
     "exception": false,
     "start_time": "2023-03-19T17:42:39.026278",
     "status": "completed"
    },
    "tags": []
   },
   "outputs": [
    {
     "name": "stdout",
     "output_type": "stream",
     "text": [
      "Tensorflow Version: 2.11.0\n",
      "Python Version: 3.7.12 | packaged by conda-forge | (default, Oct 26 2021, 06:08:53) \n",
      "[GCC 9.4.0]\n"
     ]
    }
   ],
   "source": [
    "import numpy as np\n",
    "import pandas as pd\n",
    "import tensorflow as tf\n",
    "import tensorflow_addons as tfa\n",
    "import matplotlib.pyplot as plt\n",
    "import matplotlib as mpl\n",
    "\n",
    "from tqdm.notebook import tqdm\n",
    "from multiprocessing import cpu_count\n",
    "from kaggle_datasets import KaggleDatasets\n",
    "from sklearn.model_selection import train_test_split\n",
    "from keras_cv_attention_models import convnext\n",
    "\n",
    "\n",
    "import numpy as np\n",
    "import os\n",
    "import PIL\n",
    "import PIL.Image\n",
    "import tensorflow as tf\n",
    "import tensorflow_datasets as tfds\n",
    "\n",
    "import os\n",
    "import time\n",
    "import pickle\n",
    "import math\n",
    "import random\n",
    "import sys\n",
    "import cv2\n",
    "import gc\n",
    "import datetime\n",
    "\n",
    "print(f'Tensorflow Version: {tf.__version__}')\n",
    "print(f'Python Version: {sys.version}')"
   ]
  },
  {
   "cell_type": "code",
   "execution_count": 3,
   "id": "e610ae6a",
   "metadata": {
    "execution": {
     "iopub.execute_input": "2023-03-19T17:42:47.845618Z",
     "iopub.status.busy": "2023-03-19T17:42:47.844785Z",
     "iopub.status.idle": "2023-03-19T17:42:47.851077Z",
     "shell.execute_reply": "2023-03-19T17:42:47.850116Z"
    },
    "papermill": {
     "duration": 0.029545,
     "end_time": "2023-03-19T17:42:47.855644",
     "exception": false,
     "start_time": "2023-03-19T17:42:47.826099",
     "status": "completed"
    },
    "tags": []
   },
   "outputs": [],
   "source": [
    "now = datetime.datetime.now().strftime(\"%d-%b-%Y %H-%M-%S\")\n",
    "np.save(now, np.array([now]))"
   ]
  },
  {
   "cell_type": "markdown",
   "id": "e6e7ee10",
   "metadata": {
    "papermill": {
     "duration": 0.012434,
     "end_time": "2023-03-19T17:42:47.880464",
     "exception": false,
     "start_time": "2023-03-19T17:42:47.868030",
     "status": "completed"
    },
    "tags": []
   },
   "source": [
    "## MP policy"
   ]
  },
  {
   "cell_type": "code",
   "execution_count": 4,
   "id": "c12c3c3e",
   "metadata": {
    "execution": {
     "iopub.execute_input": "2023-03-19T17:42:47.907939Z",
     "iopub.status.busy": "2023-03-19T17:42:47.907492Z",
     "iopub.status.idle": "2023-03-19T17:42:47.912367Z",
     "shell.execute_reply": "2023-03-19T17:42:47.911405Z"
    },
    "papermill": {
     "duration": 0.023274,
     "end_time": "2023-03-19T17:42:47.916868",
     "exception": false,
     "start_time": "2023-03-19T17:42:47.893594",
     "status": "completed"
    },
    "tags": []
   },
   "outputs": [],
   "source": [
    "# # float32 or mixed_float16 (mixed precision: compute float16, variable float32)\n",
    "# # TPU is fast enough and has enough memory to use float32\n",
    "# policy = tf.keras.mixed_precision.Policy('float32')\n",
    "# tf.keras.mixed_precision.set_global_policy(policy)\n",
    "\n",
    "# print(f'Compute dtype: {tf.keras.mixed_precision.global_policy().compute_dtype}')\n",
    "# print(f'Variable dtype: {tf.keras.mixed_precision.global_policy().variable_dtype}')"
   ]
  },
  {
   "cell_type": "markdown",
   "id": "81804f21",
   "metadata": {
    "papermill": {
     "duration": 0.011413,
     "end_time": "2023-03-19T17:42:47.940342",
     "exception": false,
     "start_time": "2023-03-19T17:42:47.928929",
     "status": "completed"
    },
    "tags": []
   },
   "source": [
    "## Matplotlib Config¶\n"
   ]
  },
  {
   "cell_type": "code",
   "execution_count": 5,
   "id": "381f3197",
   "metadata": {
    "execution": {
     "iopub.execute_input": "2023-03-19T17:42:47.967185Z",
     "iopub.status.busy": "2023-03-19T17:42:47.966716Z",
     "iopub.status.idle": "2023-03-19T17:42:47.976354Z",
     "shell.execute_reply": "2023-03-19T17:42:47.975331Z"
    },
    "papermill": {
     "duration": 0.026357,
     "end_time": "2023-03-19T17:42:47.979049",
     "exception": false,
     "start_time": "2023-03-19T17:42:47.952692",
     "status": "completed"
    },
    "tags": []
   },
   "outputs": [],
   "source": [
    "# MatplotLib Global Settings\n",
    "mpl.rcParams.update(mpl.rcParamsDefault)\n",
    "mpl.rcParams['xtick.labelsize'] = 16\n",
    "mpl.rcParams['ytick.labelsize'] = 16\n",
    "mpl.rcParams['axes.labelsize'] = 18\n",
    "mpl.rcParams['axes.titlesize'] = 24"
   ]
  },
  {
   "cell_type": "markdown",
   "id": "a4c74521",
   "metadata": {
    "papermill": {
     "duration": 0.015133,
     "end_time": "2023-03-19T17:42:48.006899",
     "exception": false,
     "start_time": "2023-03-19T17:42:47.991766",
     "status": "completed"
    },
    "tags": []
   },
   "source": [
    "## Config"
   ]
  },
  {
   "cell_type": "code",
   "execution_count": 6,
   "id": "a1d9cf35",
   "metadata": {
    "execution": {
     "iopub.execute_input": "2023-03-19T17:42:48.033974Z",
     "iopub.status.busy": "2023-03-19T17:42:48.033477Z",
     "iopub.status.idle": "2023-03-19T17:42:48.038066Z",
     "shell.execute_reply": "2023-03-19T17:42:48.037178Z"
    },
    "papermill": {
     "duration": 0.022493,
     "end_time": "2023-03-19T17:42:48.042176",
     "exception": false,
     "start_time": "2023-03-19T17:42:48.019683",
     "status": "completed"
    },
    "tags": []
   },
   "outputs": [],
   "source": [
    "# gpu_devices = tf.config.experimental.list_physical_devices('GPU')\n",
    "# for device in gpu_devices:\n",
    "#     tf.config.experimental.set_memory_growth(device, True)"
   ]
  },
  {
   "cell_type": "markdown",
   "id": "378e224b",
   "metadata": {
    "papermill": {
     "duration": 0.012306,
     "end_time": "2023-03-19T17:42:48.066889",
     "exception": false,
     "start_time": "2023-03-19T17:42:48.054583",
     "status": "completed"
    },
    "tags": []
   },
   "source": [
    "## Load Data"
   ]
  },
  {
   "cell_type": "code",
   "execution_count": 7,
   "id": "9dc30f5f",
   "metadata": {
    "execution": {
     "iopub.execute_input": "2023-03-19T17:42:48.093817Z",
     "iopub.status.busy": "2023-03-19T17:42:48.093378Z",
     "iopub.status.idle": "2023-03-19T17:43:29.643509Z",
     "shell.execute_reply": "2023-03-19T17:43:29.642493Z"
    },
    "papermill": {
     "duration": 41.566473,
     "end_time": "2023-03-19T17:43:29.646046",
     "exception": false,
     "start_time": "2023-03-19T17:42:48.079573",
     "status": "completed"
    },
    "tags": []
   },
   "outputs": [
    {
     "name": "stdout",
     "output_type": "stream",
     "text": [
      "Found 47995 files belonging to 2 classes.\n"
     ]
    }
   ],
   "source": [
    "train_ds = tf.keras.utils.image_dataset_from_directory(\n",
    "  '/kaggle/input/fake-images-detecttion-dataset/Keras_Data-20230318T161559Z-001/Keras_Data/Train_Data',\n",
    "  seed=0,\n",
    "  image_size=(160, 160),\n",
    "  batch_size=16)"
   ]
  },
  {
   "cell_type": "code",
   "execution_count": 8,
   "id": "a2d8cda0",
   "metadata": {
    "execution": {
     "iopub.execute_input": "2023-03-19T17:43:29.664928Z",
     "iopub.status.busy": "2023-03-19T17:43:29.664564Z",
     "iopub.status.idle": "2023-03-19T17:43:32.632082Z",
     "shell.execute_reply": "2023-03-19T17:43:32.630742Z"
    },
    "papermill": {
     "duration": 2.980224,
     "end_time": "2023-03-19T17:43:32.635113",
     "exception": false,
     "start_time": "2023-03-19T17:43:29.654889",
     "status": "completed"
    },
    "tags": []
   },
   "outputs": [
    {
     "name": "stdout",
     "output_type": "stream",
     "text": [
      "Found 6000 files belonging to 2 classes.\n"
     ]
    }
   ],
   "source": [
    "valid_ds = tf.keras.utils.image_dataset_from_directory(\n",
    "  '/kaggle/input/fake-images-detecttion-dataset/Keras_Data-20230318T161559Z-001/Keras_Data/Validation_Data',\n",
    "  seed=0,\n",
    "  image_size=(160, 160),\n",
    "  batch_size=8)"
   ]
  },
  {
   "cell_type": "code",
   "execution_count": 9,
   "id": "f4a51bd9",
   "metadata": {
    "execution": {
     "iopub.execute_input": "2023-03-19T17:43:32.654833Z",
     "iopub.status.busy": "2023-03-19T17:43:32.653955Z",
     "iopub.status.idle": "2023-03-19T17:43:35.322812Z",
     "shell.execute_reply": "2023-03-19T17:43:35.320964Z"
    },
    "papermill": {
     "duration": 2.680929,
     "end_time": "2023-03-19T17:43:35.325348",
     "exception": false,
     "start_time": "2023-03-19T17:43:32.644419",
     "status": "completed"
    },
    "tags": []
   },
   "outputs": [
    {
     "name": "stdout",
     "output_type": "stream",
     "text": [
      "Found 6001 files belonging to 2 classes.\n"
     ]
    }
   ],
   "source": [
    "test_ds = tf.keras.utils.image_dataset_from_directory(\n",
    "  '/kaggle/input/fake-images-detecttion-dataset/Keras_Data-20230318T161559Z-001/Keras_Data/Test_Data',\n",
    "  seed=0,\n",
    "  image_size=(160, 160),\n",
    "  batch_size=8)"
   ]
  },
  {
   "cell_type": "code",
   "execution_count": 10,
   "id": "f73bc463",
   "metadata": {
    "execution": {
     "iopub.execute_input": "2023-03-19T17:43:35.344846Z",
     "iopub.status.busy": "2023-03-19T17:43:35.344520Z",
     "iopub.status.idle": "2023-03-19T17:43:35.349863Z",
     "shell.execute_reply": "2023-03-19T17:43:35.348878Z"
    },
    "papermill": {
     "duration": 0.017592,
     "end_time": "2023-03-19T17:43:35.352165",
     "exception": false,
     "start_time": "2023-03-19T17:43:35.334573",
     "status": "completed"
    },
    "tags": []
   },
   "outputs": [],
   "source": [
    "# normalization_layer = tf.keras.layers.Rescaling(1./255)\n",
    "# normalized_ds = train_ds.map(lambda x, y: (normalization_layer(x), y))\n"
   ]
  },
  {
   "cell_type": "code",
   "execution_count": 11,
   "id": "f5e3b8a9",
   "metadata": {
    "execution": {
     "iopub.execute_input": "2023-03-19T17:43:35.371366Z",
     "iopub.status.busy": "2023-03-19T17:43:35.370904Z",
     "iopub.status.idle": "2023-03-19T17:43:35.378234Z",
     "shell.execute_reply": "2023-03-19T17:43:35.377227Z"
    },
    "papermill": {
     "duration": 0.019598,
     "end_time": "2023-03-19T17:43:35.380548",
     "exception": false,
     "start_time": "2023-03-19T17:43:35.360950",
     "status": "completed"
    },
    "tags": []
   },
   "outputs": [],
   "source": [
    "AUTOTUNE = tf.data.AUTOTUNE\n",
    "\n",
    "train_ds = train_ds.prefetch(buffer_size=AUTOTUNE)\n",
    "val_ds = valid_ds.prefetch(buffer_size=AUTOTUNE)"
   ]
  },
  {
   "cell_type": "markdown",
   "id": "5a204a2a",
   "metadata": {
    "papermill": {
     "duration": 0.009329,
     "end_time": "2023-03-19T17:43:35.399294",
     "exception": false,
     "start_time": "2023-03-19T17:43:35.389965",
     "status": "completed"
    },
    "tags": []
   },
   "source": [
    "# Model"
   ]
  },
  {
   "cell_type": "code",
   "execution_count": 12,
   "id": "6f0d9c48",
   "metadata": {
    "execution": {
     "iopub.execute_input": "2023-03-19T17:43:35.419830Z",
     "iopub.status.busy": "2023-03-19T17:43:35.418984Z",
     "iopub.status.idle": "2023-03-19T17:43:35.425112Z",
     "shell.execute_reply": "2023-03-19T17:43:35.424068Z"
    },
    "papermill": {
     "duration": 0.018816,
     "end_time": "2023-03-19T17:43:35.427534",
     "exception": false,
     "start_time": "2023-03-19T17:43:35.408718",
     "status": "completed"
    },
    "tags": []
   },
   "outputs": [],
   "source": [
    "# Seed all random number generators\n",
    "def seed_everything(seed=0):\n",
    "    os.environ['PYTHONHASHSEED'] = str(seed)\n",
    "    random.seed(seed)\n",
    "    np.random.seed(seed)\n",
    "    tf.random.set_seed(seed)\n",
    "\n",
    "seed_everything()\n"
   ]
  },
  {
   "cell_type": "code",
   "execution_count": 13,
   "id": "bd1da3f9",
   "metadata": {
    "execution": {
     "iopub.execute_input": "2023-03-19T17:43:35.446246Z",
     "iopub.status.busy": "2023-03-19T17:43:35.445417Z",
     "iopub.status.idle": "2023-03-19T17:43:35.450881Z",
     "shell.execute_reply": "2023-03-19T17:43:35.449980Z"
    },
    "papermill": {
     "duration": 0.017111,
     "end_time": "2023-03-19T17:43:35.452999",
     "exception": false,
     "start_time": "2023-03-19T17:43:35.435888",
     "status": "completed"
    },
    "tags": []
   },
   "outputs": [],
   "source": [
    "def normalize(image):\n",
    "#     # Repeat channels to create 3 channel images required by pretrained ConvNextV2 models\n",
    "#     image = tf.repeat(image, repeats=3, axis=3)\n",
    "    # Cast to float 32\n",
    "    image = tf.cast(image, tf.float32)\n",
    "    # Normalize with respect to ImageNet mean/std\n",
    "    image = tf.keras.applications.imagenet_utils.preprocess_input(image, mode='torch')\n",
    "\n",
    "    return image"
   ]
  },
  {
   "cell_type": "code",
   "execution_count": 14,
   "id": "b7b9662c",
   "metadata": {
    "execution": {
     "iopub.execute_input": "2023-03-19T17:43:35.471684Z",
     "iopub.status.busy": "2023-03-19T17:43:35.471149Z",
     "iopub.status.idle": "2023-03-19T17:43:35.787165Z",
     "shell.execute_reply": "2023-03-19T17:43:35.786032Z"
    },
    "papermill": {
     "duration": 0.328515,
     "end_time": "2023-03-19T17:43:35.790032",
     "exception": false,
     "start_time": "2023-03-19T17:43:35.461517",
     "status": "completed"
    },
    "tags": []
   },
   "outputs": [],
   "source": [
    "STRATEGY = tf.distribute.MirroredStrategy() # default distribution strategy in Tensorflow. Works on CPU and single GPU.\n",
    "\n",
    "N_REPLICAS = STRATEGY.num_replicas_in_sync"
   ]
  },
  {
   "cell_type": "code",
   "execution_count": 15,
   "id": "b61fbc58",
   "metadata": {
    "execution": {
     "iopub.execute_input": "2023-03-19T17:43:35.810032Z",
     "iopub.status.busy": "2023-03-19T17:43:35.809699Z",
     "iopub.status.idle": "2023-03-19T17:43:35.817186Z",
     "shell.execute_reply": "2023-03-19T17:43:35.816108Z"
    },
    "papermill": {
     "duration": 0.02016,
     "end_time": "2023-03-19T17:43:35.819204",
     "exception": false,
     "start_time": "2023-03-19T17:43:35.799044",
     "status": "completed"
    },
    "tags": []
   },
   "outputs": [
    {
     "data": {
      "text/plain": [
       "2"
      ]
     },
     "execution_count": 15,
     "metadata": {},
     "output_type": "execute_result"
    }
   ],
   "source": [
    "N_REPLICAS"
   ]
  },
  {
   "cell_type": "code",
   "execution_count": 16,
   "id": "144325c9",
   "metadata": {
    "execution": {
     "iopub.execute_input": "2023-03-19T17:43:35.839148Z",
     "iopub.status.busy": "2023-03-19T17:43:35.837605Z",
     "iopub.status.idle": "2023-03-19T17:43:35.843050Z",
     "shell.execute_reply": "2023-03-19T17:43:35.842209Z"
    },
    "papermill": {
     "duration": 0.017206,
     "end_time": "2023-03-19T17:43:35.845182",
     "exception": false,
     "start_time": "2023-03-19T17:43:35.827976",
     "status": "completed"
    },
    "tags": []
   },
   "outputs": [],
   "source": [
    "from keras_cv_attention_models import mobilenetv3"
   ]
  },
  {
   "cell_type": "code",
   "execution_count": 17,
   "id": "d7e6f27c",
   "metadata": {
    "execution": {
     "iopub.execute_input": "2023-03-19T17:43:35.864350Z",
     "iopub.status.busy": "2023-03-19T17:43:35.864065Z",
     "iopub.status.idle": "2023-03-19T17:43:35.873569Z",
     "shell.execute_reply": "2023-03-19T17:43:35.872474Z"
    },
    "papermill": {
     "duration": 0.021464,
     "end_time": "2023-03-19T17:43:35.875827",
     "exception": false,
     "start_time": "2023-03-19T17:43:35.854363",
     "status": "completed"
    },
    "tags": []
   },
   "outputs": [],
   "source": [
    "def get_model():\n",
    "#     # Verify Mixed Policy Settings\n",
    "#     print(f'Compute dtype: {tf.keras.mixed_precision.global_policy().compute_dtype}')\n",
    "#     print(f'Variable dtype: {tf.keras.mixed_precision.global_policy().variable_dtype}')\n",
    "    INPUT_SHAPE = (160, 160, 3)\n",
    "    \n",
    "    with STRATEGY.scope():\n",
    "        # Set seed for deterministic weights initialization\n",
    "        seed_everything()\n",
    "        \n",
    "        # Inputs, note the names are equal to the dictionary keys in the dataset\n",
    "        image = tf.keras.layers.Input(INPUT_SHAPE, name='image', dtype=tf.uint8)\n",
    "        \n",
    "       \n",
    "        \n",
    "        # Normalize Input\n",
    "        image_norm = normalize(image)\n",
    "\n",
    "        # CNN Prediction in range [0,1]\n",
    "        x = mobilenetv3.MobileNetV3Large075(\n",
    "            input_shape=(160, 160, 3),\n",
    "            pretrained='imagenet',\n",
    "            num_classes=0,\n",
    "        )(image_norm)\n",
    "        \n",
    "        # Average Pooling BxHxWxC -> BxC\n",
    "        x = tf.keras.layers.GlobalAveragePooling2D()(x)\n",
    "        # Dropout to prevent Overfitting\n",
    "        x = tf.keras.layers.Dropout(0.50)(x)\n",
    "        # Output value between [0, 1] using Sigmoid function\n",
    "        outputs = tf.keras.layers.Dense(1, activation='sigmoid')(x)\n",
    "\n",
    "        # We will use the famous AdamW optimizer for fast learning with weight decay\n",
    "        optimizer = tfa.optimizers.AdamW(learning_rate=LR_MAX, weight_decay=LR_MAX*WD_RATIO, epsilon=1e-6)\n",
    "\n",
    "        # Loss\n",
    "        loss = tf.keras.losses.BinaryCrossentropy(from_logits=False)\n",
    "        \n",
    "        # Metrics\n",
    "        metrics = [\n",
    "            tfa.metrics.F1Score(num_classes=1),\n",
    "            tf.keras.metrics.Precision(),\n",
    "            tf.keras.metrics.Recall(),\n",
    "            tf.keras.metrics.AUC(),\n",
    "            tf.keras.metrics.BinaryAccuracy(),\n",
    "        ]\n",
    "\n",
    "        model = tf.keras.models.Model(inputs=image, outputs=outputs)\n",
    "        \n",
    "        model.compile(optimizer=optimizer, loss=loss, metrics=metrics)\n",
    "\n",
    "        return model"
   ]
  },
  {
   "cell_type": "markdown",
   "id": "755245fe",
   "metadata": {
    "papermill": {
     "duration": 0.00853,
     "end_time": "2023-03-19T17:43:35.893513",
     "exception": false,
     "start_time": "2023-03-19T17:43:35.884983",
     "status": "completed"
    },
    "tags": []
   },
   "source": [
    "## Lr scheduler"
   ]
  },
  {
   "cell_type": "code",
   "execution_count": 18,
   "id": "19cb13ef",
   "metadata": {
    "execution": {
     "iopub.execute_input": "2023-03-19T17:43:35.912179Z",
     "iopub.status.busy": "2023-03-19T17:43:35.911907Z",
     "iopub.status.idle": "2023-03-19T17:43:35.916574Z",
     "shell.execute_reply": "2023-03-19T17:43:35.915453Z"
    },
    "papermill": {
     "duration": 0.01669,
     "end_time": "2023-03-19T17:43:35.919087",
     "exception": false,
     "start_time": "2023-03-19T17:43:35.902397",
     "status": "completed"
    },
    "tags": []
   },
   "outputs": [],
   "source": [
    "N_EPOCHS=10\n",
    "VERBOSE=1 \n",
    "N_REPLICAS =2\n",
    "LR_MAX = 5e-6 * N_REPLICAS\n",
    "WD_RATIO = 0.01\n",
    "\n",
    "N_WARMUP_EPOCHS = 0"
   ]
  },
  {
   "cell_type": "code",
   "execution_count": 19,
   "id": "b4b50d67",
   "metadata": {
    "execution": {
     "iopub.execute_input": "2023-03-19T17:43:35.937799Z",
     "iopub.status.busy": "2023-03-19T17:43:35.937484Z",
     "iopub.status.idle": "2023-03-19T17:43:35.942990Z",
     "shell.execute_reply": "2023-03-19T17:43:35.941986Z"
    },
    "papermill": {
     "duration": 0.017074,
     "end_time": "2023-03-19T17:43:35.945019",
     "exception": false,
     "start_time": "2023-03-19T17:43:35.927945",
     "status": "completed"
    },
    "tags": []
   },
   "outputs": [],
   "source": [
    "# Learning rate scheduler with logaritmic warmup and cosine decay\n",
    "def lrfn(current_step, num_warmup_steps, lr_max, num_cycles=0.50, num_training_steps=N_EPOCHS):\n",
    "    \n",
    "    if current_step < num_warmup_steps:\n",
    "        return lr_max * 0.10 ** (num_warmup_steps - current_step)\n",
    "    else:\n",
    "        progress = float(current_step - num_warmup_steps) / float(max(1, num_training_steps - num_warmup_steps))\n",
    "\n",
    "        return max(0.0, 0.5 * (1.0 + math.cos(math.pi * float(num_cycles) * 2.0 * progress))) * lr_max"
   ]
  },
  {
   "cell_type": "markdown",
   "id": "f578a750",
   "metadata": {
    "papermill": {
     "duration": 0.008958,
     "end_time": "2023-03-19T17:43:35.962526",
     "exception": false,
     "start_time": "2023-03-19T17:43:35.953568",
     "status": "completed"
    },
    "tags": []
   },
   "source": [
    "## weight decay"
   ]
  },
  {
   "cell_type": "code",
   "execution_count": 20,
   "id": "bbe00f80",
   "metadata": {
    "execution": {
     "iopub.execute_input": "2023-03-19T17:43:35.982322Z",
     "iopub.status.busy": "2023-03-19T17:43:35.981348Z",
     "iopub.status.idle": "2023-03-19T17:43:35.987777Z",
     "shell.execute_reply": "2023-03-19T17:43:35.986812Z"
    },
    "papermill": {
     "duration": 0.01856,
     "end_time": "2023-03-19T17:43:35.989856",
     "exception": false,
     "start_time": "2023-03-19T17:43:35.971296",
     "status": "completed"
    },
    "tags": []
   },
   "outputs": [],
   "source": [
    "# Tensorflow Learning Rate Scheduler does not update weight decay, need to do it manually in a custom callback\n",
    "class WeightDecayCallback(tf.keras.callbacks.Callback):\n",
    "    def __init__(self, wd_ratio=WD_RATIO):\n",
    "        self.step_counter = 0\n",
    "        self.wd_ratio = wd_ratio\n",
    "    \n",
    "    def on_epoch_begin(self, epoch, logs=None):\n",
    "        model.optimizer.weight_decay = model.optimizer.learning_rate * self.wd_ratio\n",
    "        print(f'learning rate: {model.optimizer.learning_rate.numpy():.2e}, weight decay: {model.optimizer.weight_decay.numpy():.2e}')"
   ]
  },
  {
   "cell_type": "markdown",
   "id": "1713d524",
   "metadata": {
    "papermill": {
     "duration": 0.008876,
     "end_time": "2023-03-19T17:43:36.007386",
     "exception": false,
     "start_time": "2023-03-19T17:43:35.998510",
     "status": "completed"
    },
    "tags": []
   },
   "source": [
    "# Training"
   ]
  },
  {
   "cell_type": "code",
   "execution_count": 21,
   "id": "c48344d3",
   "metadata": {
    "execution": {
     "iopub.execute_input": "2023-03-19T17:43:36.026507Z",
     "iopub.status.busy": "2023-03-19T17:43:36.026216Z",
     "iopub.status.idle": "2023-03-19T17:43:41.197182Z",
     "shell.execute_reply": "2023-03-19T17:43:41.196093Z"
    },
    "papermill": {
     "duration": 5.183329,
     "end_time": "2023-03-19T17:43:41.199928",
     "exception": false,
     "start_time": "2023-03-19T17:43:36.016599",
     "status": "completed"
    },
    "tags": []
   },
   "outputs": [
    {
     "name": "stdout",
     "output_type": "stream",
     "text": [
      "Downloading data from https://github.com/leondgarse/keras_cv_attention_models/releases/download/mobilenetv3_family/mobilenetv3_large_075_imagenet.h5\n",
      "16621424/16621424 [==============================] - 0s 0us/step\n",
      ">>>> Load pretrained from: /root/.keras/models/mobilenetv3_large_075_imagenet.h5\n"
     ]
    }
   ],
   "source": [
    "\n",
    "# Learning Rate \n",
    "# Learning rate for encoder\n",
    "LR_SCHEDULE = [lrfn(step, num_warmup_steps=N_WARMUP_EPOCHS, lr_max=LR_MAX, num_cycles=0.50) for step in range(N_EPOCHS)]\n",
    "lr_callback = tf.keras.callbacks.LearningRateScheduler(lambda step: LR_SCHEDULE[step], verbose=0)\n",
    "model = get_model()\n",
    "\n",
    "    "
   ]
  },
  {
   "cell_type": "code",
   "execution_count": 22,
   "id": "7974706c",
   "metadata": {
    "execution": {
     "iopub.execute_input": "2023-03-19T17:43:41.221233Z",
     "iopub.status.busy": "2023-03-19T17:43:41.220895Z",
     "iopub.status.idle": "2023-03-19T18:33:06.030136Z",
     "shell.execute_reply": "2023-03-19T18:33:06.028900Z"
    },
    "papermill": {
     "duration": 2964.823046,
     "end_time": "2023-03-19T18:33:06.032675",
     "exception": false,
     "start_time": "2023-03-19T17:43:41.209629",
     "status": "completed"
    },
    "tags": []
   },
   "outputs": [
    {
     "name": "stdout",
     "output_type": "stream",
     "text": [
      "learning rate: 1.00e-05, weight decay: 1.00e-07\n",
      "Epoch 1/10\n",
      "3000/3000 [==============================] - 342s 102ms/step - loss: 1.3746 - f1_score: 0.6667 - precision: 0.5126 - recall: 0.9425 - auc: 0.6455 - binary_accuracy: 0.5231 - val_loss: 0.7066 - val_f1_score: 0.6667 - val_precision: 0.5326 - val_recall: 0.9933 - val_auc: 0.8505 - val_binary_accuracy: 0.5608 - lr: 1.0000e-05\n",
      "learning rate: 9.76e-06, weight decay: 9.76e-08\n",
      "Epoch 2/10\n",
      "3000/3000 [==============================] - 289s 96ms/step - loss: 0.9831 - f1_score: 0.6667 - precision: 0.5842 - recall: 0.9726 - auc: 0.8483 - binary_accuracy: 0.6402 - val_loss: 0.4578 - val_f1_score: 0.6667 - val_precision: 0.7194 - val_recall: 0.9603 - val_auc: 0.9264 - val_binary_accuracy: 0.7928 - lr: 9.7553e-06\n",
      "learning rate: 9.05e-06, weight decay: 9.05e-08\n",
      "Epoch 3/10\n",
      "3000/3000 [==============================] - 288s 96ms/step - loss: 0.8117 - f1_score: 0.6667 - precision: 0.6731 - recall: 0.9618 - auc: 0.9017 - binary_accuracy: 0.7473 - val_loss: 0.3748 - val_f1_score: 0.6667 - val_precision: 0.7732 - val_recall: 0.9613 - val_auc: 0.9483 - val_binary_accuracy: 0.8397 - lr: 9.0451e-06\n",
      "learning rate: 7.94e-06, weight decay: 7.94e-08\n",
      "Epoch 4/10\n",
      "3000/3000 [==============================] - 287s 96ms/step - loss: 0.7414 - f1_score: 0.6667 - precision: 0.7050 - recall: 0.9630 - auc: 0.9183 - binary_accuracy: 0.7800 - val_loss: 0.3103 - val_f1_score: 0.6667 - val_precision: 0.8219 - val_recall: 0.9587 - val_auc: 0.9577 - val_binary_accuracy: 0.8755 - lr: 7.9389e-06\n",
      "learning rate: 6.55e-06, weight decay: 6.55e-08\n",
      "Epoch 5/10\n",
      "3000/3000 [==============================] - 289s 96ms/step - loss: 0.6999 - f1_score: 0.6667 - precision: 0.7228 - recall: 0.9650 - auc: 0.9269 - binary_accuracy: 0.7974 - val_loss: 0.3210 - val_f1_score: 0.6667 - val_precision: 0.8039 - val_recall: 0.9690 - val_auc: 0.9633 - val_binary_accuracy: 0.8663 - lr: 6.5451e-06\n",
      "learning rate: 5.00e-06, weight decay: 5.00e-08\n",
      "Epoch 6/10\n",
      "3000/3000 [==============================] - 289s 96ms/step - loss: 0.6648 - f1_score: 0.6667 - precision: 0.7330 - recall: 0.9668 - auc: 0.9342 - binary_accuracy: 0.8074 - val_loss: 0.2801 - val_f1_score: 0.6667 - val_precision: 0.8307 - val_recall: 0.9647 - val_auc: 0.9666 - val_binary_accuracy: 0.8840 - lr: 5.0000e-06\n",
      "learning rate: 3.45e-06, weight decay: 3.45e-08\n",
      "Epoch 7/10\n",
      "3000/3000 [==============================] - 291s 97ms/step - loss: 0.6541 - f1_score: 0.6667 - precision: 0.7377 - recall: 0.9674 - auc: 0.9363 - binary_accuracy: 0.8117 - val_loss: 0.2755 - val_f1_score: 0.6667 - val_precision: 0.8340 - val_recall: 0.9663 - val_auc: 0.9689 - val_binary_accuracy: 0.8870 - lr: 3.4549e-06\n",
      "learning rate: 2.06e-06, weight decay: 2.06e-08\n",
      "Epoch 8/10\n",
      "3000/3000 [==============================] - 292s 97ms/step - loss: 0.6343 - f1_score: 0.6667 - precision: 0.7441 - recall: 0.9662 - auc: 0.9400 - binary_accuracy: 0.8169 - val_loss: 0.2612 - val_f1_score: 0.6667 - val_precision: 0.8458 - val_recall: 0.9633 - val_auc: 0.9699 - val_binary_accuracy: 0.8938 - lr: 2.0611e-06\n",
      "learning rate: 9.55e-07, weight decay: 9.55e-09\n",
      "Epoch 9/10\n",
      "3000/3000 [==============================] - 295s 98ms/step - loss: 0.6285 - f1_score: 0.6667 - precision: 0.7447 - recall: 0.9670 - auc: 0.9416 - binary_accuracy: 0.8177 - val_loss: 0.2525 - val_f1_score: 0.6667 - val_precision: 0.8558 - val_recall: 0.9593 - val_auc: 0.9702 - val_binary_accuracy: 0.8988 - lr: 9.5491e-07\n",
      "learning rate: 2.45e-07, weight decay: 2.45e-09\n",
      "Epoch 10/10\n",
      "3000/3000 [==============================] - 299s 100ms/step - loss: 0.6302 - f1_score: 0.6667 - precision: 0.7473 - recall: 0.9676 - auc: 0.9413 - binary_accuracy: 0.8202 - val_loss: 0.2737 - val_f1_score: 0.6667 - val_precision: 0.8319 - val_recall: 0.9680 - val_auc: 0.9699 - val_binary_accuracy: 0.8862 - lr: 2.4472e-07\n"
     ]
    }
   ],
   "source": [
    "history = model.fit(\n",
    "            train_ds,            \n",
    "            validation_data = valid_ds,\n",
    "            epochs = N_EPOCHS,\n",
    "            verbose = VERBOSE,\n",
    "            class_weight = {\n",
    "                0: 1.0,\n",
    "                1: 5.0,\n",
    "            },\n",
    "\n",
    "            callbacks = [\n",
    "                lr_callback,\n",
    "                WeightDecayCallback(),\n",
    "            ],\n",
    "           \n",
    "        )"
   ]
  },
  {
   "cell_type": "code",
   "execution_count": 23,
   "id": "55bf596a",
   "metadata": {
    "execution": {
     "iopub.execute_input": "2023-03-19T18:33:09.674249Z",
     "iopub.status.busy": "2023-03-19T18:33:09.673854Z",
     "iopub.status.idle": "2023-03-19T18:33:10.026505Z",
     "shell.execute_reply": "2023-03-19T18:33:10.025421Z"
    },
    "papermill": {
     "duration": 2.236034,
     "end_time": "2023-03-19T18:33:10.029065",
     "exception": false,
     "start_time": "2023-03-19T18:33:07.793031",
     "status": "completed"
    },
    "tags": []
   },
   "outputs": [],
   "source": [
    "model.save_weights('model.h5')"
   ]
  },
  {
   "cell_type": "markdown",
   "id": "63d1d509",
   "metadata": {
    "papermill": {
     "duration": 2.00082,
     "end_time": "2023-03-19T18:33:13.847059",
     "exception": false,
     "start_time": "2023-03-19T18:33:11.846239",
     "status": "completed"
    },
    "tags": []
   },
   "source": [
    "# Test"
   ]
  },
  {
   "cell_type": "code",
   "execution_count": 24,
   "id": "103b4f20",
   "metadata": {
    "execution": {
     "iopub.execute_input": "2023-03-19T18:33:17.367443Z",
     "iopub.status.busy": "2023-03-19T18:33:17.367065Z",
     "iopub.status.idle": "2023-03-19T18:33:17.372350Z",
     "shell.execute_reply": "2023-03-19T18:33:17.371271Z"
    },
    "papermill": {
     "duration": 1.720951,
     "end_time": "2023-03-19T18:33:17.374500",
     "exception": false,
     "start_time": "2023-03-19T18:33:15.653549",
     "status": "completed"
    },
    "tags": []
   },
   "outputs": [],
   "source": [
    "test_ds = test_ds.prefetch(buffer_size=AUTOTUNE)"
   ]
  },
  {
   "cell_type": "code",
   "execution_count": 25,
   "id": "7ff3f529",
   "metadata": {
    "execution": {
     "iopub.execute_input": "2023-03-19T18:33:20.997338Z",
     "iopub.status.busy": "2023-03-19T18:33:20.996741Z",
     "iopub.status.idle": "2023-03-19T18:33:45.570354Z",
     "shell.execute_reply": "2023-03-19T18:33:45.569262Z"
    },
    "papermill": {
     "duration": 26.305466,
     "end_time": "2023-03-19T18:33:45.572985",
     "exception": false,
     "start_time": "2023-03-19T18:33:19.267519",
     "status": "completed"
    },
    "tags": []
   },
   "outputs": [
    {
     "name": "stdout",
     "output_type": "stream",
     "text": [
      "751/751 [==============================] - 25s 32ms/step - loss: 0.2739 - f1_score: 0.6666 - precision: 0.8325 - recall: 0.9693 - auc: 0.9715 - binary_accuracy: 0.8872\n"
     ]
    },
    {
     "data": {
      "text/plain": [
       "[0.2739441692829132,\n",
       " array([0.6665926], dtype=float32),\n",
       " 0.8325222134590149,\n",
       " 0.9693333506584167,\n",
       " 0.9715210795402527,\n",
       " 0.8871854543685913]"
      ]
     },
     "execution_count": 25,
     "metadata": {},
     "output_type": "execute_result"
    }
   ],
   "source": [
    "model.evaluate(test_ds)"
   ]
  },
  {
   "cell_type": "code",
   "execution_count": 26,
   "id": "4b4de9a6",
   "metadata": {
    "execution": {
     "iopub.execute_input": "2023-03-19T18:33:49.225785Z",
     "iopub.status.busy": "2023-03-19T18:33:49.225397Z",
     "iopub.status.idle": "2023-03-19T18:36:45.772420Z",
     "shell.execute_reply": "2023-03-19T18:36:45.771261Z"
    },
    "papermill": {
     "duration": 178.292142,
     "end_time": "2023-03-19T18:36:45.775271",
     "exception": false,
     "start_time": "2023-03-19T18:33:47.483129",
     "status": "completed"
    },
    "tags": []
   },
   "outputs": [
    {
     "name": "stdout",
     "output_type": "stream",
     "text": [
      "1/1 [==============================] - 4s 4s/step\n",
      "1/1 [==============================] - 0s 150ms/step\n",
      "1/1 [==============================] - 0s 143ms/step\n",
      "1/1 [==============================] - 0s 135ms/step\n",
      "1/1 [==============================] - 0s 144ms/step\n",
      "1/1 [==============================] - 0s 140ms/step\n",
      "1/1 [==============================] - 0s 134ms/step\n",
      "1/1 [==============================] - 0s 136ms/step\n",
      "1/1 [==============================] - 0s 141ms/step\n",
      "1/1 [==============================] - 0s 132ms/step\n",
      "1/1 [==============================] - 0s 133ms/step\n",
      "1/1 [==============================] - 0s 140ms/step\n",
      "1/1 [==============================] - 0s 247ms/step\n",
      "1/1 [==============================] - 0s 335ms/step\n",
      "1/1 [==============================] - 0s 316ms/step\n",
      "1/1 [==============================] - 0s 134ms/step\n",
      "1/1 [==============================] - 0s 134ms/step\n",
      "1/1 [==============================] - 0s 136ms/step\n",
      "1/1 [==============================] - 0s 131ms/step\n",
      "1/1 [==============================] - 0s 135ms/step\n",
      "1/1 [==============================] - 0s 139ms/step\n",
      "1/1 [==============================] - 0s 131ms/step\n",
      "1/1 [==============================] - 0s 136ms/step\n",
      "1/1 [==============================] - 0s 137ms/step\n",
      "1/1 [==============================] - 0s 134ms/step\n",
      "1/1 [==============================] - 0s 137ms/step\n",
      "1/1 [==============================] - 0s 139ms/step\n",
      "1/1 [==============================] - 0s 134ms/step\n",
      "1/1 [==============================] - 0s 133ms/step\n",
      "1/1 [==============================] - 0s 141ms/step\n",
      "1/1 [==============================] - 0s 135ms/step\n",
      "1/1 [==============================] - 0s 133ms/step\n",
      "1/1 [==============================] - 0s 139ms/step\n",
      "1/1 [==============================] - 0s 135ms/step\n",
      "1/1 [==============================] - 0s 132ms/step\n",
      "1/1 [==============================] - 0s 144ms/step\n",
      "1/1 [==============================] - 0s 132ms/step\n",
      "1/1 [==============================] - 0s 132ms/step\n",
      "1/1 [==============================] - 0s 151ms/step\n",
      "1/1 [==============================] - 0s 149ms/step\n",
      "1/1 [==============================] - 0s 132ms/step\n",
      "1/1 [==============================] - 0s 136ms/step\n",
      "1/1 [==============================] - 0s 135ms/step\n",
      "1/1 [==============================] - 0s 137ms/step\n",
      "1/1 [==============================] - 0s 149ms/step\n",
      "1/1 [==============================] - 0s 150ms/step\n",
      "1/1 [==============================] - 0s 136ms/step\n",
      "1/1 [==============================] - 0s 140ms/step\n",
      "1/1 [==============================] - 0s 142ms/step\n",
      "1/1 [==============================] - 0s 134ms/step\n",
      "1/1 [==============================] - 0s 139ms/step\n",
      "1/1 [==============================] - 0s 132ms/step\n",
      "1/1 [==============================] - 0s 133ms/step\n",
      "1/1 [==============================] - 0s 148ms/step\n",
      "1/1 [==============================] - 0s 149ms/step\n",
      "1/1 [==============================] - 0s 133ms/step\n",
      "1/1 [==============================] - 0s 141ms/step\n",
      "1/1 [==============================] - 0s 134ms/step\n",
      "1/1 [==============================] - 0s 132ms/step\n",
      "1/1 [==============================] - 0s 136ms/step\n",
      "1/1 [==============================] - 0s 131ms/step\n",
      "1/1 [==============================] - 0s 224ms/step\n",
      "1/1 [==============================] - 0s 211ms/step\n",
      "1/1 [==============================] - 0s 134ms/step\n",
      "1/1 [==============================] - 0s 133ms/step\n",
      "1/1 [==============================] - 0s 140ms/step\n",
      "1/1 [==============================] - 0s 135ms/step\n",
      "1/1 [==============================] - 0s 147ms/step\n",
      "1/1 [==============================] - 0s 146ms/step\n",
      "1/1 [==============================] - 0s 136ms/step\n",
      "1/1 [==============================] - 0s 134ms/step\n",
      "1/1 [==============================] - 0s 143ms/step\n",
      "1/1 [==============================] - 0s 134ms/step\n",
      "1/1 [==============================] - 0s 132ms/step\n",
      "1/1 [==============================] - 0s 139ms/step\n",
      "1/1 [==============================] - 0s 137ms/step\n",
      "1/1 [==============================] - 0s 136ms/step\n",
      "1/1 [==============================] - 0s 142ms/step\n",
      "1/1 [==============================] - 0s 134ms/step\n",
      "1/1 [==============================] - 0s 134ms/step\n",
      "1/1 [==============================] - 0s 142ms/step\n",
      "1/1 [==============================] - 0s 134ms/step\n",
      "1/1 [==============================] - 0s 132ms/step\n",
      "1/1 [==============================] - 0s 138ms/step\n",
      "1/1 [==============================] - 0s 138ms/step\n",
      "1/1 [==============================] - 0s 144ms/step\n",
      "1/1 [==============================] - 0s 147ms/step\n",
      "1/1 [==============================] - 0s 137ms/step\n",
      "1/1 [==============================] - 0s 133ms/step\n",
      "1/1 [==============================] - 0s 147ms/step\n",
      "1/1 [==============================] - 0s 134ms/step\n",
      "1/1 [==============================] - 0s 134ms/step\n",
      "1/1 [==============================] - 0s 143ms/step\n",
      "1/1 [==============================] - 0s 145ms/step\n",
      "1/1 [==============================] - 0s 134ms/step\n",
      "1/1 [==============================] - 0s 139ms/step\n",
      "1/1 [==============================] - 0s 133ms/step\n",
      "1/1 [==============================] - 0s 132ms/step\n",
      "1/1 [==============================] - 0s 146ms/step\n",
      "1/1 [==============================] - 0s 134ms/step\n",
      "1/1 [==============================] - 0s 130ms/step\n",
      "1/1 [==============================] - 0s 135ms/step\n",
      "1/1 [==============================] - 0s 131ms/step\n",
      "1/1 [==============================] - 0s 132ms/step\n",
      "1/1 [==============================] - 0s 135ms/step\n",
      "1/1 [==============================] - 0s 130ms/step\n",
      "1/1 [==============================] - 0s 136ms/step\n",
      "1/1 [==============================] - 0s 140ms/step\n",
      "1/1 [==============================] - 0s 133ms/step\n",
      "1/1 [==============================] - 0s 134ms/step\n",
      "1/1 [==============================] - 0s 139ms/step\n",
      "1/1 [==============================] - 0s 199ms/step\n",
      "1/1 [==============================] - 0s 183ms/step\n",
      "1/1 [==============================] - 0s 143ms/step\n",
      "1/1 [==============================] - 0s 134ms/step\n",
      "1/1 [==============================] - 0s 134ms/step\n",
      "1/1 [==============================] - 0s 136ms/step\n",
      "1/1 [==============================] - 0s 136ms/step\n",
      "1/1 [==============================] - 0s 187ms/step\n",
      "1/1 [==============================] - 0s 196ms/step\n",
      "1/1 [==============================] - 0s 184ms/step\n",
      "1/1 [==============================] - 0s 197ms/step\n",
      "1/1 [==============================] - 0s 199ms/step\n",
      "1/1 [==============================] - 0s 195ms/step\n",
      "1/1 [==============================] - 0s 187ms/step\n",
      "1/1 [==============================] - 0s 198ms/step\n",
      "1/1 [==============================] - 0s 189ms/step\n",
      "1/1 [==============================] - 0s 192ms/step\n",
      "1/1 [==============================] - 0s 137ms/step\n",
      "1/1 [==============================] - 0s 133ms/step\n",
      "1/1 [==============================] - 0s 133ms/step\n",
      "1/1 [==============================] - 0s 136ms/step\n",
      "1/1 [==============================] - 0s 133ms/step\n",
      "1/1 [==============================] - 0s 131ms/step\n",
      "1/1 [==============================] - 0s 138ms/step\n",
      "1/1 [==============================] - 0s 135ms/step\n",
      "1/1 [==============================] - 0s 131ms/step\n",
      "1/1 [==============================] - 0s 140ms/step\n",
      "1/1 [==============================] - 0s 136ms/step\n",
      "1/1 [==============================] - 0s 131ms/step\n",
      "1/1 [==============================] - 0s 146ms/step\n",
      "1/1 [==============================] - 0s 133ms/step\n",
      "1/1 [==============================] - 0s 132ms/step\n",
      "1/1 [==============================] - 0s 138ms/step\n",
      "1/1 [==============================] - 0s 150ms/step\n",
      "1/1 [==============================] - 0s 148ms/step\n",
      "1/1 [==============================] - 0s 153ms/step\n",
      "1/1 [==============================] - 0s 151ms/step\n",
      "1/1 [==============================] - 0s 242ms/step\n",
      "1/1 [==============================] - 0s 217ms/step\n",
      "1/1 [==============================] - 0s 198ms/step\n",
      "1/1 [==============================] - 0s 205ms/step\n",
      "1/1 [==============================] - 0s 146ms/step\n",
      "1/1 [==============================] - 0s 244ms/step\n",
      "1/1 [==============================] - 0s 195ms/step\n",
      "1/1 [==============================] - 0s 142ms/step\n",
      "1/1 [==============================] - 0s 141ms/step\n",
      "1/1 [==============================] - 0s 140ms/step\n",
      "1/1 [==============================] - 0s 148ms/step\n",
      "1/1 [==============================] - 0s 140ms/step\n",
      "1/1 [==============================] - 0s 141ms/step\n",
      "1/1 [==============================] - 0s 147ms/step\n",
      "1/1 [==============================] - 0s 138ms/step\n",
      "1/1 [==============================] - 0s 147ms/step\n",
      "1/1 [==============================] - 0s 136ms/step\n",
      "1/1 [==============================] - 0s 147ms/step\n",
      "1/1 [==============================] - 0s 142ms/step\n",
      "1/1 [==============================] - 0s 137ms/step\n",
      "1/1 [==============================] - 0s 144ms/step\n",
      "1/1 [==============================] - 0s 136ms/step\n",
      "1/1 [==============================] - 0s 136ms/step\n",
      "1/1 [==============================] - 0s 143ms/step\n",
      "1/1 [==============================] - 0s 136ms/step\n",
      "1/1 [==============================] - 0s 134ms/step\n",
      "1/1 [==============================] - 0s 144ms/step\n",
      "1/1 [==============================] - 0s 142ms/step\n",
      "1/1 [==============================] - 0s 134ms/step\n",
      "1/1 [==============================] - 0s 139ms/step\n",
      "1/1 [==============================] - 0s 133ms/step\n",
      "1/1 [==============================] - 0s 134ms/step\n",
      "1/1 [==============================] - 0s 140ms/step\n",
      "1/1 [==============================] - 0s 134ms/step\n",
      "1/1 [==============================] - 0s 134ms/step\n",
      "1/1 [==============================] - 0s 140ms/step\n",
      "1/1 [==============================] - 0s 131ms/step\n",
      "1/1 [==============================] - 0s 132ms/step\n",
      "1/1 [==============================] - 0s 139ms/step\n",
      "1/1 [==============================] - 0s 132ms/step\n",
      "1/1 [==============================] - 0s 132ms/step\n",
      "1/1 [==============================] - 0s 146ms/step\n",
      "1/1 [==============================] - 0s 132ms/step\n",
      "1/1 [==============================] - 0s 133ms/step\n",
      "1/1 [==============================] - 0s 142ms/step\n",
      "1/1 [==============================] - 0s 134ms/step\n",
      "1/1 [==============================] - 0s 136ms/step\n",
      "1/1 [==============================] - 0s 138ms/step\n",
      "1/1 [==============================] - 0s 137ms/step\n",
      "1/1 [==============================] - 0s 135ms/step\n",
      "1/1 [==============================] - 0s 139ms/step\n",
      "1/1 [==============================] - 0s 137ms/step\n",
      "1/1 [==============================] - 0s 134ms/step\n",
      "1/1 [==============================] - 0s 140ms/step\n",
      "1/1 [==============================] - 0s 223ms/step\n",
      "1/1 [==============================] - 0s 178ms/step\n",
      "1/1 [==============================] - 0s 140ms/step\n",
      "1/1 [==============================] - 0s 133ms/step\n",
      "1/1 [==============================] - 0s 132ms/step\n",
      "1/1 [==============================] - 0s 140ms/step\n",
      "1/1 [==============================] - 0s 140ms/step\n",
      "1/1 [==============================] - 0s 135ms/step\n",
      "1/1 [==============================] - 0s 147ms/step\n",
      "1/1 [==============================] - 0s 133ms/step\n",
      "1/1 [==============================] - 0s 133ms/step\n",
      "1/1 [==============================] - 0s 139ms/step\n",
      "1/1 [==============================] - 0s 132ms/step\n",
      "1/1 [==============================] - 0s 134ms/step\n",
      "1/1 [==============================] - 0s 140ms/step\n",
      "1/1 [==============================] - 0s 137ms/step\n",
      "1/1 [==============================] - 0s 132ms/step\n",
      "1/1 [==============================] - 0s 139ms/step\n",
      "1/1 [==============================] - 0s 140ms/step\n",
      "1/1 [==============================] - 0s 130ms/step\n",
      "1/1 [==============================] - 0s 138ms/step\n",
      "1/1 [==============================] - 0s 135ms/step\n",
      "1/1 [==============================] - 0s 133ms/step\n",
      "1/1 [==============================] - 0s 137ms/step\n",
      "1/1 [==============================] - 0s 145ms/step\n",
      "1/1 [==============================] - 0s 135ms/step\n",
      "1/1 [==============================] - 0s 138ms/step\n",
      "1/1 [==============================] - 0s 136ms/step\n",
      "1/1 [==============================] - 0s 132ms/step\n",
      "1/1 [==============================] - 0s 138ms/step\n",
      "1/1 [==============================] - 0s 133ms/step\n",
      "1/1 [==============================] - 0s 133ms/step\n",
      "1/1 [==============================] - 0s 136ms/step\n",
      "1/1 [==============================] - 0s 134ms/step\n",
      "1/1 [==============================] - 0s 135ms/step\n",
      "1/1 [==============================] - 0s 143ms/step\n",
      "1/1 [==============================] - 0s 136ms/step\n",
      "1/1 [==============================] - 0s 137ms/step\n",
      "1/1 [==============================] - 0s 144ms/step\n",
      "1/1 [==============================] - 0s 134ms/step\n",
      "1/1 [==============================] - 0s 134ms/step\n",
      "1/1 [==============================] - 0s 142ms/step\n",
      "1/1 [==============================] - 0s 133ms/step\n",
      "1/1 [==============================] - 0s 134ms/step\n",
      "1/1 [==============================] - 0s 140ms/step\n",
      "1/1 [==============================] - 0s 135ms/step\n",
      "1/1 [==============================] - 0s 132ms/step\n",
      "1/1 [==============================] - 0s 139ms/step\n",
      "1/1 [==============================] - 0s 134ms/step\n",
      "1/1 [==============================] - 0s 132ms/step\n",
      "1/1 [==============================] - 0s 140ms/step\n",
      "1/1 [==============================] - 0s 215ms/step\n",
      "1/1 [==============================] - 0s 185ms/step\n",
      "1/1 [==============================] - 0s 172ms/step\n",
      "1/1 [==============================] - 0s 132ms/step\n",
      "1/1 [==============================] - 0s 144ms/step\n",
      "1/1 [==============================] - 0s 138ms/step\n",
      "1/1 [==============================] - 0s 138ms/step\n",
      "1/1 [==============================] - 0s 204ms/step\n",
      "1/1 [==============================] - 0s 199ms/step\n",
      "1/1 [==============================] - 0s 194ms/step\n",
      "1/1 [==============================] - 0s 198ms/step\n",
      "1/1 [==============================] - 0s 203ms/step\n",
      "1/1 [==============================] - 0s 191ms/step\n",
      "1/1 [==============================] - 0s 183ms/step\n",
      "1/1 [==============================] - 0s 199ms/step\n",
      "1/1 [==============================] - 0s 194ms/step\n",
      "1/1 [==============================] - 0s 189ms/step\n",
      "1/1 [==============================] - 0s 140ms/step\n",
      "1/1 [==============================] - 0s 135ms/step\n",
      "1/1 [==============================] - 0s 132ms/step\n",
      "1/1 [==============================] - 0s 138ms/step\n",
      "1/1 [==============================] - 0s 133ms/step\n",
      "1/1 [==============================] - 0s 130ms/step\n",
      "1/1 [==============================] - 0s 136ms/step\n",
      "1/1 [==============================] - 0s 136ms/step\n",
      "1/1 [==============================] - 0s 134ms/step\n",
      "1/1 [==============================] - 0s 138ms/step\n",
      "1/1 [==============================] - 0s 141ms/step\n",
      "1/1 [==============================] - 0s 132ms/step\n",
      "1/1 [==============================] - 0s 140ms/step\n",
      "1/1 [==============================] - 0s 135ms/step\n",
      "1/1 [==============================] - 0s 134ms/step\n",
      "1/1 [==============================] - 0s 138ms/step\n",
      "1/1 [==============================] - 0s 194ms/step\n",
      "1/1 [==============================] - 0s 197ms/step\n",
      "1/1 [==============================] - 0s 210ms/step\n",
      "1/1 [==============================] - 0s 185ms/step\n",
      "1/1 [==============================] - 0s 147ms/step\n",
      "1/1 [==============================] - 0s 137ms/step\n",
      "1/1 [==============================] - 0s 133ms/step\n",
      "1/1 [==============================] - 0s 132ms/step\n",
      "1/1 [==============================] - 0s 136ms/step\n",
      "1/1 [==============================] - 0s 133ms/step\n",
      "1/1 [==============================] - 0s 131ms/step\n",
      "1/1 [==============================] - 0s 138ms/step\n",
      "1/1 [==============================] - 0s 133ms/step\n",
      "1/1 [==============================] - 0s 128ms/step\n",
      "1/1 [==============================] - 0s 217ms/step\n",
      "1/1 [==============================] - 0s 183ms/step\n",
      "1/1 [==============================] - 0s 137ms/step\n",
      "1/1 [==============================] - 0s 144ms/step\n",
      "1/1 [==============================] - 0s 133ms/step\n",
      "1/1 [==============================] - 0s 131ms/step\n",
      "1/1 [==============================] - 0s 138ms/step\n",
      "1/1 [==============================] - 0s 138ms/step\n",
      "1/1 [==============================] - 0s 133ms/step\n",
      "1/1 [==============================] - 0s 145ms/step\n",
      "1/1 [==============================] - 0s 137ms/step\n",
      "1/1 [==============================] - 0s 136ms/step\n",
      "1/1 [==============================] - 0s 147ms/step\n",
      "1/1 [==============================] - 0s 131ms/step\n",
      "1/1 [==============================] - 0s 131ms/step\n",
      "1/1 [==============================] - 0s 148ms/step\n",
      "1/1 [==============================] - 0s 136ms/step\n",
      "1/1 [==============================] - 0s 133ms/step\n",
      "1/1 [==============================] - 0s 137ms/step\n",
      "1/1 [==============================] - 0s 136ms/step\n",
      "1/1 [==============================] - 0s 133ms/step\n",
      "1/1 [==============================] - 0s 139ms/step\n",
      "1/1 [==============================] - 0s 131ms/step\n",
      "1/1 [==============================] - 0s 139ms/step\n",
      "1/1 [==============================] - 0s 140ms/step\n",
      "1/1 [==============================] - 0s 133ms/step\n",
      "1/1 [==============================] - 0s 136ms/step\n",
      "1/1 [==============================] - 0s 138ms/step\n",
      "1/1 [==============================] - 0s 131ms/step\n",
      "1/1 [==============================] - 0s 135ms/step\n",
      "1/1 [==============================] - 0s 139ms/step\n",
      "1/1 [==============================] - 0s 135ms/step\n",
      "1/1 [==============================] - 0s 133ms/step\n",
      "1/1 [==============================] - 0s 141ms/step\n",
      "1/1 [==============================] - 0s 134ms/step\n",
      "1/1 [==============================] - 0s 134ms/step\n",
      "1/1 [==============================] - 0s 140ms/step\n",
      "1/1 [==============================] - 0s 134ms/step\n",
      "1/1 [==============================] - 0s 131ms/step\n",
      "1/1 [==============================] - 0s 136ms/step\n",
      "1/1 [==============================] - 0s 135ms/step\n",
      "1/1 [==============================] - 0s 133ms/step\n",
      "1/1 [==============================] - 0s 137ms/step\n",
      "1/1 [==============================] - 0s 135ms/step\n",
      "1/1 [==============================] - 0s 138ms/step\n",
      "1/1 [==============================] - 0s 146ms/step\n",
      "1/1 [==============================] - 0s 150ms/step\n",
      "1/1 [==============================] - 0s 134ms/step\n",
      "1/1 [==============================] - 0s 144ms/step\n",
      "1/1 [==============================] - 0s 136ms/step\n",
      "1/1 [==============================] - 0s 132ms/step\n",
      "1/1 [==============================] - 0s 224ms/step\n",
      "1/1 [==============================] - 0s 180ms/step\n",
      "1/1 [==============================] - 0s 132ms/step\n",
      "1/1 [==============================] - 0s 138ms/step\n",
      "1/1 [==============================] - 0s 137ms/step\n",
      "1/1 [==============================] - 0s 142ms/step\n",
      "1/1 [==============================] - 0s 158ms/step\n",
      "1/1 [==============================] - 0s 149ms/step\n",
      "1/1 [==============================] - 0s 146ms/step\n",
      "1/1 [==============================] - 0s 150ms/step\n",
      "1/1 [==============================] - 0s 143ms/step\n",
      "1/1 [==============================] - 0s 131ms/step\n",
      "1/1 [==============================] - 0s 141ms/step\n",
      "1/1 [==============================] - 0s 133ms/step\n",
      "1/1 [==============================] - 0s 132ms/step\n",
      "1/1 [==============================] - 0s 150ms/step\n",
      "1/1 [==============================] - 0s 145ms/step\n",
      "1/1 [==============================] - 0s 132ms/step\n",
      "1/1 [==============================] - 0s 138ms/step\n",
      "1/1 [==============================] - 0s 134ms/step\n",
      "1/1 [==============================] - 0s 135ms/step\n",
      "1/1 [==============================] - 0s 145ms/step\n",
      "1/1 [==============================] - 0s 138ms/step\n",
      "1/1 [==============================] - 0s 135ms/step\n",
      "1/1 [==============================] - 0s 140ms/step\n",
      "1/1 [==============================] - 0s 133ms/step\n",
      "1/1 [==============================] - 0s 136ms/step\n",
      "1/1 [==============================] - 0s 138ms/step\n",
      "1/1 [==============================] - 0s 135ms/step\n",
      "1/1 [==============================] - 0s 133ms/step\n",
      "1/1 [==============================] - 0s 147ms/step\n",
      "1/1 [==============================] - 0s 138ms/step\n",
      "1/1 [==============================] - 0s 135ms/step\n",
      "1/1 [==============================] - 0s 139ms/step\n",
      "1/1 [==============================] - 0s 136ms/step\n",
      "1/1 [==============================] - 0s 134ms/step\n",
      "1/1 [==============================] - 0s 142ms/step\n",
      "1/1 [==============================] - 0s 133ms/step\n",
      "1/1 [==============================] - 0s 134ms/step\n",
      "1/1 [==============================] - 0s 142ms/step\n",
      "1/1 [==============================] - 0s 135ms/step\n",
      "1/1 [==============================] - 0s 140ms/step\n",
      "1/1 [==============================] - 0s 139ms/step\n",
      "1/1 [==============================] - 0s 138ms/step\n",
      "1/1 [==============================] - 0s 131ms/step\n",
      "1/1 [==============================] - 0s 144ms/step\n",
      "1/1 [==============================] - 0s 137ms/step\n",
      "1/1 [==============================] - 0s 136ms/step\n",
      "1/1 [==============================] - 0s 141ms/step\n",
      "1/1 [==============================] - 0s 138ms/step\n",
      "1/1 [==============================] - 0s 184ms/step\n",
      "1/1 [==============================] - 0s 193ms/step\n",
      "1/1 [==============================] - 0s 173ms/step\n",
      "1/1 [==============================] - 0s 138ms/step\n",
      "1/1 [==============================] - 0s 143ms/step\n",
      "1/1 [==============================] - 0s 137ms/step\n",
      "1/1 [==============================] - 0s 130ms/step\n",
      "1/1 [==============================] - 0s 202ms/step\n",
      "1/1 [==============================] - 0s 194ms/step\n",
      "1/1 [==============================] - 0s 194ms/step\n",
      "1/1 [==============================] - 0s 204ms/step\n",
      "1/1 [==============================] - 0s 196ms/step\n",
      "1/1 [==============================] - 0s 192ms/step\n",
      "1/1 [==============================] - 0s 203ms/step\n",
      "1/1 [==============================] - 0s 156ms/step\n",
      "1/1 [==============================] - 0s 156ms/step\n",
      "1/1 [==============================] - 0s 165ms/step\n",
      "1/1 [==============================] - 0s 155ms/step\n",
      "1/1 [==============================] - 0s 156ms/step\n",
      "1/1 [==============================] - 0s 155ms/step\n",
      "1/1 [==============================] - 0s 149ms/step\n",
      "1/1 [==============================] - 0s 159ms/step\n",
      "1/1 [==============================] - 0s 236ms/step\n",
      "1/1 [==============================] - 0s 230ms/step\n",
      "1/1 [==============================] - 0s 210ms/step\n",
      "1/1 [==============================] - 0s 198ms/step\n",
      "1/1 [==============================] - 0s 153ms/step\n",
      "1/1 [==============================] - 0s 155ms/step\n",
      "1/1 [==============================] - 0s 156ms/step\n",
      "1/1 [==============================] - 0s 146ms/step\n",
      "1/1 [==============================] - 0s 151ms/step\n",
      "1/1 [==============================] - 0s 151ms/step\n",
      "1/1 [==============================] - 0s 146ms/step\n",
      "1/1 [==============================] - 0s 150ms/step\n",
      "1/1 [==============================] - 0s 148ms/step\n",
      "1/1 [==============================] - 0s 149ms/step\n",
      "1/1 [==============================] - 0s 146ms/step\n",
      "1/1 [==============================] - 0s 141ms/step\n",
      "1/1 [==============================] - 0s 144ms/step\n",
      "1/1 [==============================] - 0s 140ms/step\n",
      "1/1 [==============================] - 0s 138ms/step\n",
      "1/1 [==============================] - 0s 290ms/step\n",
      "1/1 [==============================] - 0s 191ms/step\n",
      "1/1 [==============================] - 0s 137ms/step\n",
      "1/1 [==============================] - 0s 143ms/step\n",
      "1/1 [==============================] - 0s 135ms/step\n",
      "1/1 [==============================] - 0s 135ms/step\n",
      "1/1 [==============================] - 0s 147ms/step\n",
      "1/1 [==============================] - 0s 138ms/step\n",
      "1/1 [==============================] - 0s 145ms/step\n",
      "1/1 [==============================] - 0s 148ms/step\n",
      "1/1 [==============================] - 0s 135ms/step\n",
      "1/1 [==============================] - 0s 137ms/step\n",
      "1/1 [==============================] - 0s 144ms/step\n",
      "1/1 [==============================] - 0s 137ms/step\n",
      "1/1 [==============================] - 0s 133ms/step\n",
      "1/1 [==============================] - 0s 141ms/step\n",
      "1/1 [==============================] - 0s 138ms/step\n",
      "1/1 [==============================] - 0s 133ms/step\n",
      "1/1 [==============================] - 0s 142ms/step\n",
      "1/1 [==============================] - 0s 135ms/step\n",
      "1/1 [==============================] - 0s 134ms/step\n",
      "1/1 [==============================] - 0s 141ms/step\n",
      "1/1 [==============================] - 0s 137ms/step\n",
      "1/1 [==============================] - 0s 134ms/step\n",
      "1/1 [==============================] - 0s 137ms/step\n",
      "1/1 [==============================] - 0s 134ms/step\n",
      "1/1 [==============================] - 0s 130ms/step\n",
      "1/1 [==============================] - 0s 140ms/step\n",
      "1/1 [==============================] - 0s 134ms/step\n",
      "1/1 [==============================] - 0s 131ms/step\n",
      "1/1 [==============================] - 0s 141ms/step\n",
      "1/1 [==============================] - 0s 135ms/step\n",
      "1/1 [==============================] - 0s 132ms/step\n",
      "1/1 [==============================] - 0s 140ms/step\n",
      "1/1 [==============================] - 0s 134ms/step\n",
      "1/1 [==============================] - 0s 134ms/step\n",
      "1/1 [==============================] - 0s 143ms/step\n",
      "1/1 [==============================] - 0s 133ms/step\n",
      "1/1 [==============================] - 0s 135ms/step\n",
      "1/1 [==============================] - 0s 143ms/step\n",
      "1/1 [==============================] - 0s 136ms/step\n",
      "1/1 [==============================] - 0s 136ms/step\n",
      "1/1 [==============================] - 0s 136ms/step\n",
      "1/1 [==============================] - 0s 133ms/step\n",
      "1/1 [==============================] - 0s 133ms/step\n",
      "1/1 [==============================] - 0s 141ms/step\n",
      "1/1 [==============================] - 0s 133ms/step\n",
      "1/1 [==============================] - 0s 142ms/step\n",
      "1/1 [==============================] - 0s 140ms/step\n",
      "1/1 [==============================] - 0s 133ms/step\n",
      "1/1 [==============================] - 0s 205ms/step\n",
      "1/1 [==============================] - 0s 189ms/step\n",
      "1/1 [==============================] - 0s 155ms/step\n",
      "1/1 [==============================] - 0s 132ms/step\n",
      "1/1 [==============================] - 0s 137ms/step\n",
      "1/1 [==============================] - 0s 137ms/step\n",
      "1/1 [==============================] - 0s 132ms/step\n",
      "1/1 [==============================] - 0s 138ms/step\n",
      "1/1 [==============================] - 0s 133ms/step\n",
      "1/1 [==============================] - 0s 130ms/step\n",
      "1/1 [==============================] - 0s 136ms/step\n",
      "1/1 [==============================] - 0s 131ms/step\n",
      "1/1 [==============================] - 0s 134ms/step\n",
      "1/1 [==============================] - 0s 138ms/step\n",
      "1/1 [==============================] - 0s 138ms/step\n",
      "1/1 [==============================] - 0s 132ms/step\n",
      "1/1 [==============================] - 0s 146ms/step\n",
      "1/1 [==============================] - 0s 139ms/step\n",
      "1/1 [==============================] - 0s 135ms/step\n",
      "1/1 [==============================] - 0s 138ms/step\n",
      "1/1 [==============================] - 0s 132ms/step\n",
      "1/1 [==============================] - 0s 131ms/step\n",
      "1/1 [==============================] - 0s 137ms/step\n",
      "1/1 [==============================] - 0s 133ms/step\n",
      "1/1 [==============================] - 0s 134ms/step\n",
      "1/1 [==============================] - 0s 139ms/step\n",
      "1/1 [==============================] - 0s 136ms/step\n",
      "1/1 [==============================] - 0s 132ms/step\n",
      "1/1 [==============================] - 0s 146ms/step\n",
      "1/1 [==============================] - 0s 135ms/step\n",
      "1/1 [==============================] - 0s 134ms/step\n",
      "1/1 [==============================] - 0s 138ms/step\n",
      "1/1 [==============================] - 0s 134ms/step\n",
      "1/1 [==============================] - 0s 134ms/step\n",
      "1/1 [==============================] - 0s 139ms/step\n",
      "1/1 [==============================] - 0s 134ms/step\n",
      "1/1 [==============================] - 0s 133ms/step\n",
      "1/1 [==============================] - 0s 142ms/step\n",
      "1/1 [==============================] - 0s 133ms/step\n",
      "1/1 [==============================] - 0s 138ms/step\n",
      "1/1 [==============================] - 0s 139ms/step\n",
      "1/1 [==============================] - 0s 139ms/step\n",
      "1/1 [==============================] - 0s 133ms/step\n",
      "1/1 [==============================] - 0s 139ms/step\n",
      "1/1 [==============================] - 0s 133ms/step\n",
      "1/1 [==============================] - 0s 130ms/step\n",
      "1/1 [==============================] - 0s 144ms/step\n",
      "1/1 [==============================] - 0s 137ms/step\n",
      "1/1 [==============================] - 0s 132ms/step\n",
      "1/1 [==============================] - 0s 141ms/step\n",
      "1/1 [==============================] - 0s 133ms/step\n",
      "1/1 [==============================] - 0s 134ms/step\n",
      "1/1 [==============================] - 0s 225ms/step\n",
      "1/1 [==============================] - 0s 189ms/step\n",
      "1/1 [==============================] - 0s 131ms/step\n",
      "1/1 [==============================] - 0s 139ms/step\n",
      "1/1 [==============================] - 0s 140ms/step\n",
      "1/1 [==============================] - 0s 131ms/step\n",
      "1/1 [==============================] - 0s 194ms/step\n",
      "1/1 [==============================] - 0s 196ms/step\n",
      "1/1 [==============================] - 0s 192ms/step\n",
      "1/1 [==============================] - 0s 202ms/step\n",
      "1/1 [==============================] - 0s 197ms/step\n",
      "1/1 [==============================] - 0s 190ms/step\n",
      "1/1 [==============================] - 0s 197ms/step\n",
      "1/1 [==============================] - 0s 194ms/step\n",
      "1/1 [==============================] - 0s 187ms/step\n",
      "1/1 [==============================] - 0s 212ms/step\n",
      "1/1 [==============================] - 0s 176ms/step\n",
      "1/1 [==============================] - 0s 134ms/step\n",
      "1/1 [==============================] - 0s 224ms/step\n",
      "1/1 [==============================] - 0s 230ms/step\n",
      "1/1 [==============================] - 0s 189ms/step\n",
      "1/1 [==============================] - 0s 192ms/step\n",
      "1/1 [==============================] - 0s 135ms/step\n",
      "1/1 [==============================] - 0s 129ms/step\n",
      "1/1 [==============================] - 0s 135ms/step\n",
      "1/1 [==============================] - 0s 134ms/step\n",
      "1/1 [==============================] - 0s 132ms/step\n",
      "1/1 [==============================] - 0s 135ms/step\n",
      "1/1 [==============================] - 0s 134ms/step\n",
      "1/1 [==============================] - 0s 134ms/step\n",
      "1/1 [==============================] - 0s 140ms/step\n",
      "1/1 [==============================] - 0s 134ms/step\n",
      "1/1 [==============================] - 0s 143ms/step\n",
      "1/1 [==============================] - 0s 142ms/step\n",
      "1/1 [==============================] - 0s 151ms/step\n",
      "1/1 [==============================] - 0s 136ms/step\n",
      "1/1 [==============================] - 0s 140ms/step\n",
      "1/1 [==============================] - 0s 134ms/step\n",
      "1/1 [==============================] - 0s 135ms/step\n",
      "1/1 [==============================] - 0s 138ms/step\n",
      "1/1 [==============================] - 0s 135ms/step\n",
      "1/1 [==============================] - 0s 131ms/step\n",
      "1/1 [==============================] - 0s 137ms/step\n",
      "1/1 [==============================] - 0s 139ms/step\n",
      "1/1 [==============================] - 0s 134ms/step\n",
      "1/1 [==============================] - 0s 217ms/step\n",
      "1/1 [==============================] - 0s 184ms/step\n",
      "1/1 [==============================] - 0s 151ms/step\n",
      "1/1 [==============================] - 0s 142ms/step\n",
      "1/1 [==============================] - 0s 134ms/step\n",
      "1/1 [==============================] - 0s 137ms/step\n",
      "1/1 [==============================] - 0s 139ms/step\n",
      "1/1 [==============================] - 0s 137ms/step\n",
      "1/1 [==============================] - 0s 133ms/step\n",
      "1/1 [==============================] - 0s 138ms/step\n",
      "1/1 [==============================] - 0s 132ms/step\n",
      "1/1 [==============================] - 0s 128ms/step\n",
      "1/1 [==============================] - 0s 139ms/step\n",
      "1/1 [==============================] - 0s 131ms/step\n",
      "1/1 [==============================] - 0s 134ms/step\n",
      "1/1 [==============================] - 0s 139ms/step\n",
      "1/1 [==============================] - 0s 133ms/step\n",
      "1/1 [==============================] - 0s 135ms/step\n",
      "1/1 [==============================] - 0s 147ms/step\n",
      "1/1 [==============================] - 0s 133ms/step\n",
      "1/1 [==============================] - 0s 133ms/step\n",
      "1/1 [==============================] - 0s 135ms/step\n",
      "1/1 [==============================] - 0s 135ms/step\n",
      "1/1 [==============================] - 0s 132ms/step\n",
      "1/1 [==============================] - 0s 138ms/step\n",
      "1/1 [==============================] - 0s 134ms/step\n",
      "1/1 [==============================] - 0s 132ms/step\n",
      "1/1 [==============================] - 0s 137ms/step\n",
      "1/1 [==============================] - 0s 137ms/step\n",
      "1/1 [==============================] - 0s 135ms/step\n",
      "1/1 [==============================] - 0s 137ms/step\n",
      "1/1 [==============================] - 0s 136ms/step\n",
      "1/1 [==============================] - 0s 134ms/step\n",
      "1/1 [==============================] - 0s 141ms/step\n",
      "1/1 [==============================] - 0s 140ms/step\n",
      "1/1 [==============================] - 0s 132ms/step\n",
      "1/1 [==============================] - 0s 142ms/step\n",
      "1/1 [==============================] - 0s 134ms/step\n",
      "1/1 [==============================] - 0s 133ms/step\n",
      "1/1 [==============================] - 0s 140ms/step\n",
      "1/1 [==============================] - 0s 133ms/step\n",
      "1/1 [==============================] - 0s 133ms/step\n",
      "1/1 [==============================] - 0s 137ms/step\n",
      "1/1 [==============================] - 0s 131ms/step\n",
      "1/1 [==============================] - 0s 135ms/step\n",
      "1/1 [==============================] - 0s 137ms/step\n",
      "1/1 [==============================] - 0s 135ms/step\n",
      "1/1 [==============================] - 0s 136ms/step\n",
      "1/1 [==============================] - 0s 135ms/step\n",
      "1/1 [==============================] - 0s 136ms/step\n",
      "1/1 [==============================] - 0s 132ms/step\n",
      "1/1 [==============================] - 0s 142ms/step\n",
      "1/1 [==============================] - 0s 218ms/step\n",
      "1/1 [==============================] - 0s 202ms/step\n",
      "1/1 [==============================] - 0s 140ms/step\n",
      "1/1 [==============================] - 0s 135ms/step\n",
      "1/1 [==============================] - 0s 131ms/step\n",
      "1/1 [==============================] - 0s 141ms/step\n",
      "1/1 [==============================] - 0s 135ms/step\n",
      "1/1 [==============================] - 0s 132ms/step\n",
      "1/1 [==============================] - 0s 138ms/step\n",
      "1/1 [==============================] - 0s 134ms/step\n",
      "1/1 [==============================] - 0s 135ms/step\n",
      "1/1 [==============================] - 0s 135ms/step\n",
      "1/1 [==============================] - 0s 133ms/step\n",
      "1/1 [==============================] - 0s 140ms/step\n",
      "1/1 [==============================] - 0s 139ms/step\n",
      "1/1 [==============================] - 0s 135ms/step\n",
      "1/1 [==============================] - 0s 135ms/step\n",
      "1/1 [==============================] - 0s 145ms/step\n",
      "1/1 [==============================] - 0s 141ms/step\n",
      "1/1 [==============================] - 0s 130ms/step\n",
      "1/1 [==============================] - 0s 141ms/step\n",
      "1/1 [==============================] - 0s 133ms/step\n",
      "1/1 [==============================] - 0s 135ms/step\n",
      "1/1 [==============================] - 0s 140ms/step\n",
      "1/1 [==============================] - 0s 132ms/step\n",
      "1/1 [==============================] - 0s 136ms/step\n",
      "1/1 [==============================] - 0s 142ms/step\n",
      "1/1 [==============================] - 0s 133ms/step\n",
      "1/1 [==============================] - 0s 135ms/step\n",
      "1/1 [==============================] - 0s 139ms/step\n",
      "1/1 [==============================] - 0s 136ms/step\n",
      "1/1 [==============================] - 0s 136ms/step\n",
      "1/1 [==============================] - 0s 138ms/step\n",
      "1/1 [==============================] - 0s 136ms/step\n",
      "1/1 [==============================] - 0s 133ms/step\n",
      "1/1 [==============================] - 0s 143ms/step\n",
      "1/1 [==============================] - 0s 138ms/step\n",
      "1/1 [==============================] - 0s 135ms/step\n",
      "1/1 [==============================] - 0s 141ms/step\n",
      "1/1 [==============================] - 0s 133ms/step\n",
      "1/1 [==============================] - 0s 135ms/step\n",
      "1/1 [==============================] - 0s 147ms/step\n",
      "1/1 [==============================] - 0s 132ms/step\n",
      "1/1 [==============================] - 0s 134ms/step\n",
      "1/1 [==============================] - 0s 140ms/step\n",
      "1/1 [==============================] - 0s 155ms/step\n",
      "1/1 [==============================] - 0s 159ms/step\n",
      "1/1 [==============================] - 0s 255ms/step\n",
      "1/1 [==============================] - 0s 212ms/step\n",
      "1/1 [==============================] - 0s 163ms/step\n",
      "1/1 [==============================] - 0s 154ms/step\n",
      "1/1 [==============================] - 0s 152ms/step\n",
      "1/1 [==============================] - 0s 160ms/step\n",
      "1/1 [==============================] - 0s 223ms/step\n",
      "1/1 [==============================] - 0s 239ms/step\n",
      "1/1 [==============================] - 0s 217ms/step\n",
      "1/1 [==============================] - 0s 215ms/step\n",
      "1/1 [==============================] - 0s 221ms/step\n",
      "1/1 [==============================] - 0s 396ms/step\n",
      "1/1 [==============================] - 0s 421ms/step\n",
      "1/1 [==============================] - 0s 313ms/step\n",
      "1/1 [==============================] - 0s 236ms/step\n",
      "1/1 [==============================] - 0s 148ms/step\n",
      "1/1 [==============================] - 0s 153ms/step\n",
      "1/1 [==============================] - 0s 153ms/step\n",
      "1/1 [==============================] - 0s 159ms/step\n",
      "1/1 [==============================] - 0s 152ms/step\n",
      "1/1 [==============================] - 0s 139ms/step\n",
      "1/1 [==============================] - 0s 141ms/step\n",
      "1/1 [==============================] - 0s 149ms/step\n",
      "1/1 [==============================] - 0s 152ms/step\n",
      "1/1 [==============================] - 0s 142ms/step\n",
      "1/1 [==============================] - 0s 145ms/step\n",
      "1/1 [==============================] - 0s 140ms/step\n",
      "1/1 [==============================] - 0s 143ms/step\n",
      "1/1 [==============================] - 0s 149ms/step\n",
      "1/1 [==============================] - 0s 142ms/step\n",
      "1/1 [==============================] - 0s 138ms/step\n",
      "1/1 [==============================] - 0s 143ms/step\n",
      "1/1 [==============================] - 0s 136ms/step\n",
      "1/1 [==============================] - 0s 134ms/step\n",
      "1/1 [==============================] - 0s 141ms/step\n",
      "1/1 [==============================] - 0s 138ms/step\n",
      "1/1 [==============================] - 0s 138ms/step\n",
      "1/1 [==============================] - 0s 143ms/step\n",
      "1/1 [==============================] - 0s 138ms/step\n",
      "1/1 [==============================] - 0s 136ms/step\n",
      "1/1 [==============================] - 0s 140ms/step\n",
      "1/1 [==============================] - 0s 193ms/step\n",
      "1/1 [==============================] - 0s 191ms/step\n",
      "1/1 [==============================] - 0s 143ms/step\n",
      "1/1 [==============================] - 0s 141ms/step\n",
      "1/1 [==============================] - 0s 134ms/step\n",
      "1/1 [==============================] - 0s 142ms/step\n",
      "1/1 [==============================] - 0s 136ms/step\n",
      "1/1 [==============================] - 0s 132ms/step\n",
      "1/1 [==============================] - 0s 141ms/step\n",
      "1/1 [==============================] - 0s 134ms/step\n",
      "1/1 [==============================] - 0s 134ms/step\n",
      "1/1 [==============================] - 0s 143ms/step\n",
      "1/1 [==============================] - 0s 136ms/step\n",
      "1/1 [==============================] - 0s 134ms/step\n",
      "1/1 [==============================] - 0s 139ms/step\n",
      "1/1 [==============================] - 0s 134ms/step\n",
      "1/1 [==============================] - 0s 135ms/step\n",
      "1/1 [==============================] - 0s 142ms/step\n",
      "1/1 [==============================] - 0s 136ms/step\n",
      "1/1 [==============================] - 0s 136ms/step\n",
      "1/1 [==============================] - 0s 142ms/step\n",
      "1/1 [==============================] - 0s 132ms/step\n"
     ]
    }
   ],
   "source": [
    "y_pred = []  # store predicted labels\n",
    "y_true = []  # store true labels\n",
    "\n",
    "# iterate over the dataset\n",
    "for image_batch, label_batch in test_ds:   # use dataset.unbatch() with repeat\n",
    "   # append true labels\n",
    "   y_true.append(label_batch)\n",
    "   # compute predictions\n",
    "   preds = model.predict(image_batch)\n",
    "   # append predicted labels\n",
    "   y_pred.append(np.argmax(preds, axis = - 1))\n",
    "\n",
    "# convert the true and predicted labels into tensors\n",
    "correct_labels = tf.concat([item for item in y_true], axis = 0)\n",
    "predicted_labels = tf.concat([item for item in y_pred], axis = 0)"
   ]
  },
  {
   "cell_type": "code",
   "execution_count": 27,
   "id": "eabb4474",
   "metadata": {
    "execution": {
     "iopub.execute_input": "2023-03-19T18:36:49.656335Z",
     "iopub.status.busy": "2023-03-19T18:36:49.655259Z",
     "iopub.status.idle": "2023-03-19T18:36:49.831427Z",
     "shell.execute_reply": "2023-03-19T18:36:49.830318Z"
    },
    "papermill": {
     "duration": 2.112088,
     "end_time": "2023-03-19T18:36:49.834142",
     "exception": false,
     "start_time": "2023-03-19T18:36:47.722054",
     "status": "completed"
    },
    "tags": []
   },
   "outputs": [],
   "source": [
    "import matplotlib.pyplot as plt\n",
    "import seaborn as sns\n",
    "# from sklearn import confusion_matrix\n",
    "\n",
    "# cm = confusion_matrix(correct_labels.numpy(), predicted_labels.numpy())"
   ]
  },
  {
   "cell_type": "code",
   "execution_count": 28,
   "id": "2517611f",
   "metadata": {
    "execution": {
     "iopub.execute_input": "2023-03-19T18:36:53.920333Z",
     "iopub.status.busy": "2023-03-19T18:36:53.919941Z",
     "iopub.status.idle": "2023-03-19T18:36:53.924789Z",
     "shell.execute_reply": "2023-03-19T18:36:53.923738Z"
    },
    "papermill": {
     "duration": 2.061595,
     "end_time": "2023-03-19T18:36:53.927017",
     "exception": false,
     "start_time": "2023-03-19T18:36:51.865422",
     "status": "completed"
    },
    "tags": []
   },
   "outputs": [],
   "source": [
    "# cm"
   ]
  },
  {
   "cell_type": "code",
   "execution_count": 29,
   "id": "39c0b431",
   "metadata": {
    "execution": {
     "iopub.execute_input": "2023-03-19T18:36:57.737871Z",
     "iopub.status.busy": "2023-03-19T18:36:57.736854Z",
     "iopub.status.idle": "2023-03-19T18:36:57.762911Z",
     "shell.execute_reply": "2023-03-19T18:36:57.760576Z"
    },
    "papermill": {
     "duration": 1.982025,
     "end_time": "2023-03-19T18:36:57.766274",
     "exception": false,
     "start_time": "2023-03-19T18:36:55.784249",
     "status": "completed"
    },
    "tags": []
   },
   "outputs": [
    {
     "name": "stdout",
     "output_type": "stream",
     "text": [
      "              precision    recall  f1-score   support\n",
      "\n",
      "           0       0.50      1.00      0.67      3001\n",
      "           1       0.00      0.00      0.00      3000\n",
      "\n",
      "    accuracy                           0.50      6001\n",
      "   macro avg       0.25      0.50      0.33      6001\n",
      "weighted avg       0.25      0.50      0.33      6001\n",
      "\n"
     ]
    },
    {
     "name": "stderr",
     "output_type": "stream",
     "text": [
      "/opt/conda/lib/python3.7/site-packages/sklearn/metrics/_classification.py:1318: UndefinedMetricWarning: Precision and F-score are ill-defined and being set to 0.0 in labels with no predicted samples. Use `zero_division` parameter to control this behavior.\n",
      "  _warn_prf(average, modifier, msg_start, len(result))\n",
      "/opt/conda/lib/python3.7/site-packages/sklearn/metrics/_classification.py:1318: UndefinedMetricWarning: Precision and F-score are ill-defined and being set to 0.0 in labels with no predicted samples. Use `zero_division` parameter to control this behavior.\n",
      "  _warn_prf(average, modifier, msg_start, len(result))\n",
      "/opt/conda/lib/python3.7/site-packages/sklearn/metrics/_classification.py:1318: UndefinedMetricWarning: Precision and F-score are ill-defined and being set to 0.0 in labels with no predicted samples. Use `zero_division` parameter to control this behavior.\n",
      "  _warn_prf(average, modifier, msg_start, len(result))\n"
     ]
    }
   ],
   "source": [
    "from sklearn.metrics import classification_report\n",
    "print(classification_report(correct_labels.numpy(), predicted_labels.numpy()))"
   ]
  }
 ],
 "metadata": {
  "kernelspec": {
   "display_name": "Python 3",
   "language": "python",
   "name": "python3"
  },
  "language_info": {
   "codemirror_mode": {
    "name": "ipython",
    "version": 3
   },
   "file_extension": ".py",
   "mimetype": "text/x-python",
   "name": "python",
   "nbconvert_exporter": "python",
   "pygments_lexer": "ipython3",
   "version": "3.7.12"
  },
  "papermill": {
   "default_parameters": {},
   "duration": 3297.819968,
   "end_time": "2023-03-19T18:37:03.765352",
   "environment_variables": {},
   "exception": null,
   "input_path": "__notebook__.ipynb",
   "output_path": "__notebook__.ipynb",
   "parameters": {},
   "start_time": "2023-03-19T17:42:05.945384",
   "version": "2.4.0"
  }
 },
 "nbformat": 4,
 "nbformat_minor": 5
}
