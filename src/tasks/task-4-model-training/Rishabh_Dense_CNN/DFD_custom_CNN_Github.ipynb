{
  "cells": [
    {
      "cell_type": "code",
      "execution_count": null,
      "metadata": {
        "colab": {
          "base_uri": "https://localhost:8080/"
        },
        "id": "mpW5FS-ptDPx",
        "outputId": "ea536c74-48ed-4da3-d4c0-afa3d654c20c"
      },
      "outputs": [
        {
          "output_type": "stream",
          "name": "stdout",
          "text": [
            "Looking in indexes: https://pypi.org/simple, https://us-python.pkg.dev/colab-wheels/public/simple/\n",
            "Collecting tensorflow-addons\n",
            "  Downloading tensorflow_addons-0.20.0-cp39-cp39-manylinux_2_17_x86_64.manylinux2014_x86_64.whl (591 kB)\n",
            "\u001b[2K     \u001b[90m━━━━━━━━━━━━━━━━━━━━━━━━━━━━━━━━━━━━━━━\u001b[0m \u001b[32m591.0/591.0 kB\u001b[0m \u001b[31m9.4 MB/s\u001b[0m eta \u001b[36m0:00:00\u001b[0m\n",
            "\u001b[?25hCollecting typeguard<3.0.0,>=2.7\n",
            "  Downloading typeguard-2.13.3-py3-none-any.whl (17 kB)\n",
            "Requirement already satisfied: packaging in /usr/local/lib/python3.9/dist-packages (from tensorflow-addons) (23.0)\n",
            "Installing collected packages: typeguard, tensorflow-addons\n",
            "Successfully installed tensorflow-addons-0.20.0 typeguard-2.13.3\n"
          ]
        }
      ],
      "source": [
        "!pip install tensorflow-addons"
      ]
    },
    {
      "cell_type": "code",
      "execution_count": null,
      "metadata": {
        "id": "PlNWNiysG1S5",
        "colab": {
          "base_uri": "https://localhost:8080/"
        },
        "outputId": "bafdd326-6b12-4ba7-ae49-a2e075ae6088"
      },
      "outputs": [
        {
          "output_type": "stream",
          "name": "stderr",
          "text": [
            "/usr/local/lib/python3.9/dist-packages/tensorflow_addons/utils/tfa_eol_msg.py:23: UserWarning: \n",
            "\n",
            "TensorFlow Addons (TFA) has ended development and introduction of new features.\n",
            "TFA has entered a minimal maintenance and release mode until a planned end of life in May 2024.\n",
            "Please modify downstream libraries to take dependencies from other repositories in our TensorFlow community (e.g. Keras, Keras-CV, and Keras-NLP). \n",
            "\n",
            "For more information see: https://github.com/tensorflow/addons/issues/2807 \n",
            "\n",
            "  warnings.warn(\n"
          ]
        }
      ],
      "source": [
        "import tensorflow as tf\n",
        "import tensorflow_addons as tfa\n",
        "from tensorflow import keras\n",
        "from keras.layers import Dense, Dropout, Input, BatchNormalization, Activation, DepthwiseConv2D, LeakyReLU\n",
        "from keras.layers import Conv2D, MaxPooling2D, AveragePooling2D, Flatten, GlobalAveragePooling2D, Add, Concatenate, Reshape\n",
        "from keras.models import Model\n",
        "import cv2\n",
        "import matplotlib.pyplot as plt\n",
        "import numpy as np\n",
        "import pandas as pd\n",
        "import os\n",
        "import sys\n",
        "import random\n",
        "import shutil\n",
        "import zipfile\n",
        "from google.colab.patches import cv2_imshow"
      ]
    },
    {
      "cell_type": "code",
      "execution_count": null,
      "metadata": {
        "id": "QUcz0ZdUth5u"
      },
      "outputs": [],
      "source": [
        "def relu6(x):\n",
        "  return min(max(0, x), 6)"
      ]
    },
    {
      "cell_type": "code",
      "execution_count": null,
      "metadata": {
        "colab": {
          "base_uri": "https://localhost:8080/"
        },
        "id": "ebhbJngRZbn_",
        "outputId": "20059d46-7b5d-47aa-d126-df5e660d9840"
      },
      "outputs": [
        {
          "output_type": "stream",
          "name": "stdout",
          "text": [
            "Mounted at /content/drive\n"
          ]
        }
      ],
      "source": [
        "from google.colab import drive\n",
        "drive.mount('/content/drive')"
      ]
    },
    {
      "cell_type": "code",
      "execution_count": null,
      "metadata": {
        "id": "eXRuDfDCh1P8"
      },
      "outputs": [],
      "source": [
        "def conv_bn(input, filters, kernel_size = (3, 3), strides = 1, padding = \"same\", kernel_initializer = \"he_normal\", batch_norm = True):\n",
        "  x = Conv2D(filters = filters, kernel_size = (kernel_size[0], kernel_size[1]), strides = strides, padding = padding, kernel_initializer = kernel_initializer)(input)\n",
        "  if batch_norm:\n",
        "    x = BatchNormalization()(x)\n",
        "  return x"
      ]
    },
    {
      "cell_type": "code",
      "execution_count": null,
      "metadata": {
        "id": "iYX2g75ilZsZ"
      },
      "outputs": [],
      "source": [
        "def reduction_block(input, filters_3, filters_1, padding = \"same\", kernel_initializer = \"he_normal\", pool_size = (3, 3)):\n",
        "  # y_init = conv_bn(input, filters_1, (1, 1), strides = 1, padding = padding, kernel_initializer = kernel_initializer, batch_norm = False)\n",
        "  # y = LeakyReLU(alpha=0.3)(y_init)\n",
        "  input_channel = input.shape[3]\n",
        "  y = conv_bn(input, input_channel, (3, 3), strides = 2, padding = padding, kernel_initializer = kernel_initializer)\n",
        "  y = Activation(\"relu\")(y)\n",
        "  z = MaxPooling2D(pool_size = pool_size, padding = \"same\", strides = 2)(input)\n",
        "  z = Activation(\"relu\")(z)\n",
        "  z = Add()([y, z])\n",
        "  \n",
        "  y = conv_bn(z, filters_1, (1, 1), strides = 1, padding = padding, kernel_initializer = kernel_initializer)\n",
        "  y = Activation(\"relu\")(y)\n",
        "\n",
        "\n",
        "  #print(y.shape, z.shape)\n",
        "\n",
        "  # return Add()([y, z])\n",
        "  return y"
      ]
    },
    {
      "cell_type": "code",
      "execution_count": null,
      "metadata": {
        "id": "G4Cwa-BArDvK"
      },
      "outputs": [],
      "source": [
        "def squeeze_excitation(input, reduction_ratio = 8):\n",
        "  batch_size, breadth, height, channels = input.shape\n",
        "  #print(batch_size, breadth, height, channels)\n",
        "  x = GlobalAveragePooling2D()(input)\n",
        "  x = Flatten()(x)\n",
        "  x = Dense(channels//reduction_ratio, activation = \"relu\")(x)\n",
        "  # x = BatchNormalization()(x)\n",
        "  #if include_dropout:\n",
        "  #x = Dropout(dropout_num)(x)\n",
        "  x = Dense(channels, activation = \"sigmoid\")(x)\n",
        "  # x = BatchNormalization()(x)\n",
        "  # x = conv_bn(x, channels//reduction_ratio, (1, 1), padding = \"valid\")\n",
        "  # x = conv_bn(x, channels, (1, 1), padding = \"valid\")\n",
        "  x = Reshape((1, 1, x.shape[1]))(x)\n",
        "  # print(f\"x shape: {x.shape}\")\n",
        "  # print(f\"y shape: {y.shape}\")\n",
        "  x = input * x\n",
        "\n",
        "  return Add()([input, x])"
      ]
    },
    {
      "cell_type": "code",
      "execution_count": null,
      "metadata": {
        "id": "YbkLVQbBleIb"
      },
      "outputs": [],
      "source": [
        "def fused_MB_conv(input, filters):\n",
        "  '''Fused MB Conv is a type of residual block that uses Relu6 activation. Here we don't have depthwise conv separately so no need to omit activation function\n",
        "     as was discussed in Xceptionet paper'''\n",
        "\n",
        "  x = conv_bn(input, 4*filters, (3, 3), strides = 1)\n",
        "  x = Activation(\"relu\")(x)\n",
        "  x = squeeze_excitation(x)\n",
        "  x = Activation(\"relu\")(x)\n",
        "  x = conv_bn(x, filters, (1, 1), strides=1)\n",
        "  x = Activation(\"relu\")(x)\n",
        "\n",
        "  return Add()([input, x])"
      ]
    },
    {
      "cell_type": "code",
      "execution_count": null,
      "metadata": {
        "id": "LK4lS-5CleKr"
      },
      "outputs": [],
      "source": [
        "def inception(input, filter_1, filter_5, filter_3, last_layer = False):\n",
        "  input_filter = input.shape[3]\n",
        "  a = conv_bn(input, filter_1, (1, 1))\n",
        "  a = Activation(\"relu\")(a)\n",
        "\n",
        "  b = conv_bn(input, filter_5, (1, 1))\n",
        "  b = Activation(\"relu\")(b)\n",
        "  if not last_layer:\n",
        "    b = conv_bn(b, filter_5, (5, 5))\n",
        "  else:\n",
        "    b = conv_bn(b, filter_5, (3, 3))\n",
        "    b = conv_bn(b, filter_5, (3, 3))\n",
        "  b = Activation(\"relu\")(b)\n",
        "\n",
        "  c = conv_bn(input, filter_3//2, (1, 1))\n",
        "  c = Activation(\"relu\")(c)\n",
        "  c = conv_bn(c, filter_3, (3, 3))\n",
        "  c = Activation(\"relu\")(c)\n",
        "\n",
        "  res = Concatenate()([a, b, c])\n",
        "  res = conv_bn(res, input_filter, (1, 1))\n",
        "  res = Activation(\"relu\")(res)\n",
        "  \n",
        "  return Add()([res, input])"
      ]
    },
    {
      "cell_type": "code",
      "execution_count": null,
      "metadata": {
        "id": "oUeDZGBnwCeA"
      },
      "outputs": [],
      "source": [
        "def MB_conv(input, filters, initial_layer = False):\n",
        "  '''MB Conv is a type of residual block that uses Relu or \"no\" activation. Here we do depthwise conv '''\n",
        "\n",
        "  x = conv_bn(input, 4*filters, (1, 1), strides = 1)\n",
        "  x = Activation(\"relu\")(x)\n",
        "  x = DepthwiseConv2D((3, 3), strides = 1, padding = \"same\", depthwise_initializer=\"he_normal\")(x)\n",
        "  if not initial_layer:\n",
        "    x = Activation(\"relu\")(x)\n",
        "  x = BatchNormalization()(x)\n",
        "  x = squeeze_excitation(x)\n",
        "  if not initial_layer:\n",
        "    x = Activation(\"relu\")(x)\n",
        "  x = conv_bn(x, filters, (1, 1), strides=1)\n",
        "  x = Activation(\"relu\")(x)\n",
        "\n",
        "  return Add()([input, x])"
      ]
    },
    {
      "cell_type": "code",
      "execution_count": null,
      "metadata": {
        "id": "Ci_AvbivleNb"
      },
      "outputs": [],
      "source": [
        "# def inception_reduction(input, filter_1, filter_3, filter_5, pool_size = (3,3)):\n",
        "#   a = AveragePooling2D(pool_size = pool_size, padding = \"same\", strides = 2)(input)\n",
        "#   a = conv_bn(a, filter_1, (1, 1))\n",
        "#   a = Activation(\"relu\")(a)\n",
        "\n",
        "#   b = conv_bn(input, 256, (1, 1))\n",
        "#   b = Activation(\"relu\")(b)\n",
        "#   b = DepthwiseConv2D((3, 3), strides = 2, padding = \"same\", depthwise_initializer=\"he_normal\")(b)\n",
        "#   b = Activation(\"relu\")(b)\n",
        "\n",
        "#   c = conv_bn(input, 128, (1, 1))\n",
        "#   c = Activation(\"relu\")(c)\n",
        "#   c = DepthwiseConv2D((5, 5), strides = 2, padding = \"same\", depthwise_initializer=\"he_normal\")(c)\n",
        "#   c = Activation(\"relu\")(c)\n",
        "\n",
        "#   # d = conv_bn(input, 64, (1, 1))\n",
        "#   # d = Activation(\"relu\")(d)\n",
        "#   # d = conv_bn(d, filter_3_2, (3, 3), strides = 2)\n",
        "#   # d = Activation(\"relu\")(d)\n",
        "\n",
        "#   return Concatenate()([a, b, c])\n",
        "\n",
        "def inception_reduction(input, filter_1, filter_3, filter_5, pool_size = (3,3)):\n",
        "  a = AveragePooling2D(pool_size = pool_size, padding = \"same\", strides = 2)(input)\n",
        "  a = conv_bn(a, filter_1, (1, 1))\n",
        "  a = Activation(\"relu\")(a)\n",
        "\n",
        "  b = conv_bn(input, 128, (1, 1))\n",
        "  b = Activation(\"relu\")(b)\n",
        "  b = conv_bn(b, filter_3, (1, 3), strides = 2)\n",
        "  b = Activation(\"relu\")(b)\n",
        "  b = conv_bn(b, filter_3, (3, 1))\n",
        "  b = Activation(\"relu\")(b)\n",
        "\n",
        "  c = conv_bn(input, 96, (1, 1))\n",
        "  c = Activation(\"relu\")(c)\n",
        "  c = conv_bn(c, filter_5, (1, 5), strides = 2)\n",
        "  c = Activation(\"relu\")(c)\n",
        "  c = conv_bn(c, filter_5, (5, 1))\n",
        "  c = Activation(\"relu\")(c)\n",
        "\n",
        "  # d = conv_bn(input, 64, (1, 1))\n",
        "  # d = Activation(\"relu\")(d)\n",
        "  # d = conv_bn(d, filter_3_2, (3, 3), strides = 2)\n",
        "  # d = Activation(\"relu\")(d)\n",
        "\n",
        "  return Concatenate()([a, b, c])"
      ]
    },
    {
      "cell_type": "markdown",
      "metadata": {
        "id": "UxV1Zywblebc"
      },
      "source": [
        "# Model building"
      ]
    },
    {
      "cell_type": "code",
      "source": [
        "input = Input(shape = (160, 160, 3))\n",
        "x = BatchNormalization()(input)\n",
        "\n",
        "x = conv_bn(x, 32, (3, 3), strides = 2)\n",
        "x = Activation(\"relu\")(x)\n",
        "x = conv_bn(x, 64, (3, 3), strides = 1)\n",
        "x = Activation(\"relu\")(x)\n",
        "\n",
        "x = reduction_block(x, 64, 64)\n",
        "x = Activation(\"relu\")(x)\n",
        "\n",
        "# x = fused_MB_conv(x, 64)\n",
        "# x = Activation(\"relu\")(x)\n",
        "# x = fused_MB_conv(x, 64)\n",
        "# x = Activation(\"relu\")(x)\n",
        "x = inception(x, 64, 32, 64)\n",
        "x = Activation(\"relu\")(x)\n",
        "x = MB_conv(x, 64, True)\n",
        "x = Activation(\"relu\")(x)\n",
        "\n",
        "\n",
        "x = reduction_block(x, 128, 128)\n",
        "x = Activation(\"relu\")(x)\n",
        "\n",
        "x = inception(x, 64, 32, 64)\n",
        "x = Activation(\"relu\")(x)\n",
        "x = MB_conv(x, 128, True)\n",
        "x = Activation(\"relu\")(x)\n",
        "\n",
        "x = reduction_block(x, 192, 192)\n",
        "x = Activation(\"relu\")(x)\n",
        "\n",
        "x = inception(x, 96, 64, 96)\n",
        "x = Activation(\"relu\")(x)\n",
        "x = MB_conv(x, 192)\n",
        "x = Activation(\"relu\")(x)\n",
        "\n",
        "x = reduction_block(x, 256, 256)\n",
        "x = Activation(\"relu\")(x)\n",
        "\n",
        "x = inception(x, 128, 64, 128)\n",
        "x = Activation(\"relu\")(x)\n",
        "x = MB_conv(x, 256)\n",
        "x = Activation(\"relu\")(x)\n",
        "\n",
        "x = inception_reduction(x, 128, 256, 128)\n",
        "x = Activation(\"relu\")(x)\n",
        "output1 = GlobalAveragePooling2D()(x)\n",
        "\n",
        "x = inception(x, 256, 128, 192, last_layer = True)\n",
        "x = Activation(\"relu\")(x)\n",
        "x = squeeze_excitation(x)\n",
        "output2 = GlobalAveragePooling2D()(x)\n",
        "\n",
        "final_output = Concatenate()([output1, output2])\n",
        "\n",
        "x = Dropout(0.2)(x)\n",
        "x = Dense(128, activation = \"relu\")(final_output)\n",
        "x = BatchNormalization()(x)\n",
        "x = Dropout(0.5)(x)\n",
        "x = Dense(32, activation = \"relu\")(x)\n",
        "x = BatchNormalization()(x)\n",
        "x = Dropout(0.5)(x)\n",
        "x = Dense(1, \"sigmoid\")(x)"
      ],
      "metadata": {
        "id": "4rjVvIOMPVNF"
      },
      "execution_count": null,
      "outputs": []
    },
    {
      "cell_type": "code",
      "execution_count": null,
      "metadata": {
        "id": "UmaifNF3mIfr"
      },
      "outputs": [],
      "source": [
        "model = Model(inputs = input, outputs = x)\n",
        "model.summary()"
      ]
    },
    {
      "cell_type": "code",
      "execution_count": null,
      "metadata": {
        "id": "_PWKuQrZmP3j"
      },
      "outputs": [],
      "source": [
        "tf.keras.utils.plot_model(model, show_shapes=True)"
      ]
    },
    {
      "cell_type": "markdown",
      "metadata": {
        "id": "LHWleTmjErG1"
      },
      "source": [
        "## Data loading"
      ]
    },
    {
      "cell_type": "code",
      "execution_count": null,
      "metadata": {
        "id": "hElB3daQFRdR"
      },
      "outputs": [],
      "source": [
        "random.seed(0)\n",
        "np.random.seed(0)\n",
        "tf.random.set_seed(0)"
      ]
    },
    {
      "cell_type": "code",
      "execution_count": null,
      "metadata": {
        "id": "rlCXtuYpEDzO",
        "colab": {
          "base_uri": "https://localhost:8080/"
        },
        "outputId": "1d1f2e1f-f46e-4dfe-da7c-831a8a2ab472"
      },
      "outputs": [
        {
          "output_type": "stream",
          "name": "stdout",
          "text": [
            "Downloading dfd-train.zip to /content\n",
            " 99% 766M/777M [00:06<00:00, 139MB/s]\n",
            "100% 777M/777M [00:07<00:00, 116MB/s]\n"
          ]
        }
      ],
      "source": [
        "!mkdir -p ~/.kaggle\n",
        "!cp /content/drive/MyDrive/DFD/kaggle.json ~/.kaggle/\n",
        "!kaggle datasets download -d in8mare/dfd-train\n",
        "zip_ref = zipfile.ZipFile(\"/content/dfd-train.zip\", 'r')\n",
        "zip_ref.extractall('/content') \n",
        "zip_ref.close()\n",
        "os.makedirs(\"/content/Train Data\")"
      ]
    },
    {
      "cell_type": "code",
      "execution_count": null,
      "metadata": {
        "colab": {
          "base_uri": "https://localhost:8080/"
        },
        "id": "Cfm6GUws6BPO",
        "outputId": "8720bdef-caab-4ccd-d11e-d821cbac6c0e"
      },
      "outputs": [
        {
          "output_type": "stream",
          "name": "stdout",
          "text": [
            "Downloading dfd-val.zip to /content\n",
            " 87% 87.0M/100M [00:00<00:00, 154MB/s]\n",
            "100% 100M/100M [00:00<00:00, 124MB/s] \n"
          ]
        }
      ],
      "source": [
        "!kaggle datasets download -d in8mare/dfd-val\n",
        "zip_ref = zipfile.ZipFile(\"/content/dfd-val.zip\", 'r')\n",
        "zip_ref.extractall('/content') \n",
        "zip_ref.close()\n",
        "os.makedirs(\"/content/Val Data\")"
      ]
    },
    {
      "cell_type": "code",
      "execution_count": null,
      "metadata": {
        "id": "3PAC7kj4E-Sn"
      },
      "outputs": [],
      "source": [
        "shutil.rmtree(\"/content/Train_Deepfake\")\n",
        "shutil.rmtree(\"/content/Train_Real\")"
      ]
    },
    {
      "cell_type": "code",
      "execution_count": null,
      "metadata": {
        "id": "vxVfSSCQE-Ye"
      },
      "outputs": [],
      "source": [
        "shutil.rmtree(\"/content/Val_Deepfake\")\n",
        "shutil.rmtree(\"/content/Val_Real\")"
      ]
    },
    {
      "cell_type": "code",
      "execution_count": null,
      "metadata": {
        "colab": {
          "base_uri": "https://localhost:8080/"
        },
        "id": "qGA8u_do5kTu",
        "outputId": "7465e44e-ddf6-41c5-ca0a-36932555320c"
      },
      "outputs": [
        {
          "output_type": "stream",
          "name": "stdout",
          "text": [
            "Downloading dfd-test-data.zip to /content\n",
            " 92% 91.0M/99.1M [00:00<00:00, 118MB/s]\n",
            "100% 99.1M/99.1M [00:00<00:00, 125MB/s]\n"
          ]
        }
      ],
      "source": [
        "!kaggle datasets download -d in8mare/dfd-test-data\n",
        "zip_ref = zipfile.ZipFile(\"/content/dfd-test-data.zip\", 'r')\n",
        "zip_ref.extractall('/content') \n",
        "zip_ref.close()\n",
        "os.makedirs(\"/content/Test Data\")"
      ]
    },
    {
      "cell_type": "code",
      "execution_count": null,
      "metadata": {
        "id": "gEgBbOrE5p-W"
      },
      "outputs": [],
      "source": [
        "shutil.rmtree(\"/content/Deepfake\")\n",
        "shutil.rmtree(\"/content/Real\")"
      ]
    },
    {
      "cell_type": "code",
      "execution_count": null,
      "metadata": {
        "colab": {
          "base_uri": "https://localhost:8080/"
        },
        "id": "K1kY5dvXxfuH",
        "outputId": "3b89d30b-55cb-4494-f987-dc695c4db1a1"
      },
      "outputs": [
        {
          "output_type": "stream",
          "name": "stdout",
          "text": [
            "Downloading dfd-train-org.zip to /content\n",
            "100% 158M/158M [00:01<00:00, 98.2MB/s]\n",
            "100% 158M/158M [00:01<00:00, 105MB/s] \n"
          ]
        }
      ],
      "source": [
        "!kaggle datasets download -d in8mare/dfd-train-org \n",
        "zip_ref = zipfile.ZipFile(\"/content/dfd-train-org.zip\", 'r')\n",
        "zip_ref.extractall('/content') \n",
        "zip_ref.close()\n",
        "os.makedirs(\"/content/Train_Data\")"
      ]
    },
    {
      "cell_type": "code",
      "execution_count": null,
      "metadata": {
        "id": "_c_akJbmknvW"
      },
      "outputs": [],
      "source": [
        "import albumentations as A\n",
        "transform = A.Compose([\n",
        "      A.OneOf([\n",
        "        A.Rotate(limit=360, interpolation=1, border_mode=4, always_apply=False, p=0.65),\n",
        "        A.Rotate(limit=360, interpolation=1, border_mode=0, always_apply=False, p=0.35),\n",
        "      ], p = 0.9), \n",
        "\n",
        "      A.OneOf([\n",
        "        A.Affine(scale = 1.4, translate_percent= None,shear = None, p=0.5),\n",
        "        A.Affine(scale = None,translate_percent= 0.1, shear = None, p=0.25),\n",
        "        A.Affine(scale = None,translate_percent= None,shear = (10,10), p=0.25), \n",
        "      ], p = 0.4),\n",
        "], p=0.8)"
      ]
    },
    {
      "cell_type": "code",
      "execution_count": null,
      "metadata": {
        "colab": {
          "base_uri": "https://localhost:8080/"
        },
        "id": "69m5NUCcWmWN",
        "outputId": "daffcd32-671d-4c3c-af87-3ee57582f8c4"
      },
      "outputs": [
        {
          "output_type": "stream",
          "name": "stdout",
          "text": [
            "8401\n",
            "10001\n"
          ]
        }
      ],
      "source": [
        "root_dir = \"/content/Train_Data/Deepfake/\"\n",
        "os.makedirs(\"/content/deepfake\")\n",
        "os.chdir(\"/content/deepfake\")\n",
        "COUNT = 1\n",
        "for file in os.listdir(root_dir):\n",
        "  img = plt.imread(root_dir + file)\n",
        "  for i in range(2):\n",
        "    image = transform(image = img)[\"image\"]\n",
        "    cv2.imwrite(f\"/content/deepfake/orgdeepfake_{COUNT}.jpg\", image)\n",
        "    COUNT+=1 \n",
        "print(COUNT)\n",
        "\n",
        "root_dir = \"/content/Train_Data/Real/\"\n",
        "os.makedirs(\"/content/real\")\n",
        "os.chdir(\"/content/real\")\n",
        "COUNT = 1\n",
        "for file in os.listdir(root_dir):\n",
        "  img = plt.imread(root_dir + file)\n",
        "  image = transform(image = img)[\"image\"]\n",
        "  cv2.imwrite(f\"/content/real/orgreal_{COUNT}.jpg\", image)\n",
        "  COUNT+=1 \n",
        "print(COUNT)"
      ]
    },
    {
      "cell_type": "code",
      "execution_count": null,
      "metadata": {
        "id": "mlYh16HXx1Ec"
      },
      "outputs": [],
      "source": [
        "root_dir = \"/content/deepfake\"\n",
        "i = 1\n",
        "files = os.listdir(root_dir)\n",
        "random.shuffle(files)\n",
        "for img in files:\n",
        "  if i<=1000:\n",
        "    shutil.copy(root_dir + \"/\" + img, \"/content/Val Data/Deepfake\")\n",
        "  else:\n",
        "    shutil.copy(root_dir + \"/\" + img, \"/content/Train Data/Deepfake\")\n",
        "  i+=1\n",
        "\n",
        "root_dir = \"/content/real\"\n",
        "files = os.listdir(root_dir)\n",
        "random.shuffle(files)\n",
        "i = 1\n",
        "for img in files:\n",
        "  if i<=1500:\n",
        "    shutil.copy(root_dir + \"/\" + img, \"/content/Val Data/Real\")\n",
        "  else:\n",
        "    shutil.copy(root_dir + \"/\" + img, \"/content/Train Data/Real\")\n",
        "  i+=1"
      ]
    },
    {
      "cell_type": "code",
      "execution_count": null,
      "metadata": {
        "id": "XkkbFspFxf1c"
      },
      "outputs": [],
      "source": [
        "shutil.rmtree(\"/content/Deepfake\")\n",
        "shutil.rmtree(\"/content/Real\")\n",
        "shutil.rmtree(\"/content/Train_Data\")"
      ]
    },
    {
      "cell_type": "code",
      "execution_count": null,
      "metadata": {
        "id": "bf_hvY0y0uU5"
      },
      "outputs": [],
      "source": [
        "root_dir = \"/content/Val Data/Deepfake\"\n",
        "files = os.listdir(root_dir)\n",
        "random.shuffle(files)\n",
        "for img in files:\n",
        "  shutil.copy(root_dir + \"/\" + img, \"/content/Train Data/Deepfake\")\n",
        "\n",
        "root_dir = \"/content/Val Data/Real\"\n",
        "files = os.listdir(root_dir)\n",
        "random.shuffle(files)\n",
        "for img in files:\n",
        "  shutil.copy(root_dir + \"/\" + img, \"/content/Train Data/Real\")"
      ]
    },
    {
      "cell_type": "code",
      "execution_count": null,
      "metadata": {
        "id": "g3FXaYT81Bhs"
      },
      "outputs": [],
      "source": [
        "shutil.rmtree(\"/content/Val Data\")\n",
        "shutil.rmtree(\"/content/deepfake\")\n",
        "shutil.rmtree(\"/content/real\")"
      ]
    },
    {
      "cell_type": "code",
      "execution_count": null,
      "metadata": {
        "colab": {
          "base_uri": "https://localhost:8080/"
        },
        "id": "exEfpDM-wmw9",
        "outputId": "52ac9591-74da-4f81-8c64-bc61009146e5"
      },
      "outputs": [
        {
          "output_type": "stream",
          "name": "stdout",
          "text": [
            "['Real', 'Deepfake']\n",
            "['Real', 'Deepfake']\n",
            "['Real', 'Deepfake']\n",
            "['Real', 'Deepfake']\n"
          ]
        }
      ],
      "source": [
        "files = os.listdir(\"/content/Train Data\")\n",
        "print(files)\n",
        "try:\n",
        "  shutil.rmtree(\"/content/Train Data/.ipynb_checkpoints\")\n",
        "except:\n",
        "  pass\n",
        "files = os.listdir(\"/content/Train Data\")\n",
        "print(files)\n",
        "\n",
        "files = os.listdir(\"/content/Test Data\")\n",
        "print(files)\n",
        "try:\n",
        "  shutil.rmtree(\"/content/Test Data/.ipynb_checkpoints\")\n",
        "except:\n",
        "  pass\n",
        "files = os.listdir(\"/content/Test Data\")\n",
        "print(files)"
      ]
    },
    {
      "cell_type": "code",
      "execution_count": null,
      "metadata": {
        "colab": {
          "base_uri": "https://localhost:8080/"
        },
        "id": "KgepH0yzFKRq",
        "outputId": "14b20337-a06b-400a-b60b-08aa0a297ecd"
      },
      "outputs": [
        {
          "output_type": "stream",
          "name": "stdout",
          "text": [
            "Found 72356 files belonging to 2 classes.\n",
            "Found 5996 files belonging to 2 classes.\n"
          ]
        }
      ],
      "source": [
        "train_ds = tf.keras.utils.image_dataset_from_directory(\n",
        "    directory = '/content/Train Data',\n",
        "    labels='inferred',\n",
        "    label_mode = 'int',\n",
        "    batch_size=64,\n",
        "    image_size=(160,160),\n",
        "    shuffle = True,\n",
        "    seed = 0\n",
        ")\n",
        "\n",
        "validation_ds = tf.keras.utils.image_dataset_from_directory(\n",
        "    directory = '/content/Test Data',\n",
        "    labels='inferred',\n",
        "    label_mode = 'int',\n",
        "    batch_size = 64,\n",
        "    image_size=(160,160),\n",
        "    shuffle = True,\n",
        "    seed = 0\n",
        ")\n",
        "\n",
        "def preprocess(image, label):\n",
        "  image = tf.cast(image, tf.float32)\n",
        "  image = image/255.0\n",
        "  return image, label\n",
        "\n",
        "train_ds = train_ds.map(preprocess)\n",
        "validation_ds = validation_ds.map(preprocess)\n",
        "\n",
        "\n",
        "AUTOTUNE = tf.data.AUTOTUNE\n",
        "\n",
        "train_ds = train_ds.prefetch(buffer_size=AUTOTUNE)\n",
        "validation_ds = validation_ds.prefetch(buffer_size=AUTOTUNE)"
      ]
    },
    {
      "cell_type": "markdown",
      "metadata": {
        "id": "tEKlX2rM5NCp"
      },
      "source": [
        "#New Model"
      ]
    },
    {
      "cell_type": "code",
      "execution_count": null,
      "metadata": {
        "id": "aRjN8D-drz_N"
      },
      "outputs": [],
      "source": [
        "new_model = Model(inputs = input, outputs = x)\n",
        "# new_model.summary()"
      ]
    },
    {
      "cell_type": "code",
      "execution_count": null,
      "metadata": {
        "id": "wc3lGu4T0HBg"
      },
      "outputs": [],
      "source": [
        "# new_model = tf.keras.models.load_model(\"/content/drive/MyDrive/DFD/DFD new/custom_cnn_latest.h5\")"
      ]
    },
    {
      "cell_type": "code",
      "execution_count": null,
      "metadata": {
        "id": "qVcNYXWisuyc"
      },
      "outputs": [],
      "source": [
        "N_EPOCHS = 10\n",
        "VERBOSE=1 \n",
        "LR_MAX = 0.000004\n",
        "WD_RATIO = 1\n",
        "\n",
        "N_WARMUP_EPOCHS = 0"
      ]
    },
    {
      "cell_type": "code",
      "execution_count": null,
      "metadata": {
        "id": "ghyJTOkDp8Vi"
      },
      "outputs": [],
      "source": [
        "import math\n",
        "# Learning rate scheduler with logaritmic warmup and cosine decay / exponential decay\n",
        "def lrfn(current_step, num_warmup_steps, lr_max, num_cycles=0.50, num_training_steps=N_EPOCHS):\n",
        "    \n",
        "    if current_step < num_warmup_steps:\n",
        "        return lr_max * 0.10 ** (num_warmup_steps - current_step)\n",
        "    else:\n",
        "        progress = float(current_step - num_warmup_steps) / float(max(1, num_training_steps - num_warmup_steps))\n",
        "\n",
        "        # return max(0.0, 0.5 * (1.0 + math.cos(math.pi * float(num_cycles) * 2.0 * progress))) * lr_max\n",
        "        k = 0.5\n",
        "        return lr_max * math.exp(-k*progress*current_step)"
      ]
    },
    {
      "cell_type": "code",
      "execution_count": null,
      "metadata": {
        "id": "0iLZzsQvp_OI"
      },
      "outputs": [],
      "source": [
        "# Tensorflow Learning Rate Scheduler does not update weight decay, need to do it manually in a custom callback\n",
        "class WeightDecayCallback(tf.keras.callbacks.Callback):\n",
        "    def __init__(self, wd_ratio=WD_RATIO):\n",
        "        self.step_counter = 0\n",
        "        self.wd_ratio = wd_ratio\n",
        "    \n",
        "    def on_epoch_begin(self, epoch, logs=None):\n",
        "        new_model.optimizer.weight_decay = new_model.optimizer.learning_rate * self.wd_ratio\n",
        "        print(f'learning rate: {new_model.optimizer.learning_rate.numpy():.2e}, weight decay: {new_model.optimizer.weight_decay.numpy():.2e}')"
      ]
    },
    {
      "cell_type": "code",
      "execution_count": null,
      "metadata": {
        "id": "nAzpwOAepnHK"
      },
      "outputs": [],
      "source": [
        "# We will use the famous AdamW optimizer for fast learning with weight decay\n",
        "optimizer = tfa.optimizers.AdamW(learning_rate=LR_MAX, weight_decay=WD_RATIO*LR_MAX, epsilon=1e-6)\n",
        "# optimizer = tfa.optimizers.AdamW(learning_rate=0.0001, weight_decay=0.00005, epsilon=1e-6)\n",
        "# Loss\n",
        "loss = tf.keras.losses.BinaryCrossentropy(from_logits=False)\n",
        "\n",
        "# Metrics\n",
        "metrics = ['accuracy']\n",
        "\n",
        "new_model.load_weights(\"/content/drive/MyDrive/DFD/latest_model_stats-05-0.92.hdf5\")\n",
        "# new_model.load_weights(\"/content/drive/MyDrive/model_stats-01-0.77.hdf5\")\n",
        "\n",
        "new_model.compile(optimizer=optimizer, loss=loss, metrics=metrics)"
      ]
    },
    {
      "cell_type": "code",
      "execution_count": null,
      "metadata": {
        "id": "Ry2ZkgWyqFWP"
      },
      "outputs": [],
      "source": [
        "# Learning Rate \n",
        "# Learning rate for encoder\n",
        "LR_SCHEDULE = [lrfn(step, num_warmup_steps=N_WARMUP_EPOCHS, lr_max=LR_MAX, num_cycles=0.50) for step in range(N_EPOCHS)]\n",
        "lr_callback = tf.keras.callbacks.LearningRateScheduler(lambda step: LR_SCHEDULE[step], verbose=0)"
      ]
    },
    {
      "cell_type": "code",
      "execution_count": null,
      "metadata": {
        "id": "qzgpZ8kq_hkJ"
      },
      "outputs": [],
      "source": [
        "COUNT = 5"
      ]
    },
    {
      "cell_type": "code",
      "execution_count": null,
      "metadata": {
        "id": "Lds7nny77YBm"
      },
      "outputs": [],
      "source": [
        "from keras.callbacks import ModelCheckpoint, CSVLogger, EarlyStopping\n",
        "filepath = \"/content/latest_model_stats-{epoch:02d}-{val_accuracy:.2f}.hdf5\"\n",
        "checkpoint = ModelCheckpoint(filepath, monitor='val_accuracy', verbose = 1, save_best_only = True, mode = 'max')\n",
        "log_csv = CSVLogger(f'/content/latest_logs_{COUNT}.csv', separator = ',', append = False)\n",
        "earlystop = EarlyStopping(monitor = \"val_accuracy\", patience = 3, verbose = 1, min_delta = 0.001)\n",
        "callbacks_list = [checkpoint, log_csv, lr_callback,earlystop, WeightDecayCallback()]  \n",
        "# callbacks_list = [checkpoint, log_csv, earlystop]\n",
        "COUNT+=1"
      ]
    },
    {
      "cell_type": "code",
      "execution_count": null,
      "metadata": {
        "id": "ZwIwjpIsqP78",
        "colab": {
          "base_uri": "https://localhost:8080/",
          "height": 990
        },
        "outputId": "79166713-7674-4f8c-8564-588e18bcbe41"
      },
      "outputs": [
        {
          "output_type": "stream",
          "name": "stdout",
          "text": [
            "learning rate: 4.00e-06, weight decay: 4.00e-06\n",
            "Epoch 1/10\n",
            "1131/1131 [==============================] - ETA: 0s - loss: 0.1092 - accuracy: 0.9643\n",
            "Epoch 1: val_accuracy improved from -inf to 0.91478, saving model to /content/latest_model_stats-01-0.91.hdf5\n",
            "1131/1131 [==============================] - 294s 236ms/step - loss: 0.1092 - accuracy: 0.9643 - val_loss: 0.2329 - val_accuracy: 0.9148 - lr: 4.0000e-06\n",
            "learning rate: 3.80e-06, weight decay: 3.80e-06\n",
            "Epoch 2/10\n",
            "1131/1131 [==============================] - ETA: 0s - loss: 0.1073 - accuracy: 0.9656\n",
            "Epoch 2: val_accuracy did not improve from 0.91478\n",
            "1131/1131 [==============================] - 263s 232ms/step - loss: 0.1073 - accuracy: 0.9656 - val_loss: 0.2319 - val_accuracy: 0.9146 - lr: 3.8049e-06\n",
            "learning rate: 3.27e-06, weight decay: 3.27e-06\n",
            "Epoch 3/10\n",
            "1131/1131 [==============================] - ETA: 0s - loss: 0.1052 - accuracy: 0.9672\n",
            "Epoch 3: val_accuracy did not improve from 0.91478\n",
            "1131/1131 [==============================] - 259s 229ms/step - loss: 0.1052 - accuracy: 0.9672 - val_loss: 0.2336 - val_accuracy: 0.9134 - lr: 3.2749e-06\n",
            "learning rate: 2.55e-06, weight decay: 2.55e-06\n",
            "Epoch 4/10\n",
            "1131/1131 [==============================] - ETA: 0s - loss: 0.1045 - accuracy: 0.9671\n",
            "Epoch 4: val_accuracy improved from 0.91478 to 0.91594, saving model to /content/latest_model_stats-04-0.92.hdf5\n",
            "1131/1131 [==============================] - 264s 233ms/step - loss: 0.1045 - accuracy: 0.9671 - val_loss: 0.2322 - val_accuracy: 0.9159 - lr: 2.5505e-06\n",
            "learning rate: 1.80e-06, weight decay: 1.80e-06\n",
            "Epoch 5/10\n",
            "1131/1131 [==============================] - ETA: 0s - loss: 0.1029 - accuracy: 0.9681\n",
            "Epoch 5: val_accuracy improved from 0.91594 to 0.91711, saving model to /content/latest_model_stats-05-0.92.hdf5\n",
            "1131/1131 [==============================] - 260s 230ms/step - loss: 0.1029 - accuracy: 0.9681 - val_loss: 0.2306 - val_accuracy: 0.9171 - lr: 1.7973e-06\n",
            "learning rate: 1.15e-06, weight decay: 1.15e-06\n",
            "Epoch 6/10\n",
            "1131/1131 [==============================] - ETA: 0s - loss: 0.1026 - accuracy: 0.9674\n",
            "Epoch 6: val_accuracy improved from 0.91711 to 0.91778, saving model to /content/latest_model_stats-06-0.92.hdf5\n",
            "1131/1131 [==============================] - 260s 230ms/step - loss: 0.1026 - accuracy: 0.9674 - val_loss: 0.2292 - val_accuracy: 0.9178 - lr: 1.1460e-06\n",
            "learning rate: 6.61e-07, weight decay: 6.61e-07\n",
            "Epoch 7/10\n",
            "1131/1131 [==============================] - ETA: 0s - loss: 0.1023 - accuracy: 0.9686\n",
            "Epoch 7: val_accuracy did not improve from 0.91778\n",
            "1131/1131 [==============================] - 258s 228ms/step - loss: 0.1023 - accuracy: 0.9686 - val_loss: 0.2286 - val_accuracy: 0.9178 - lr: 6.6120e-07\n",
            "learning rate: 3.45e-07, weight decay: 3.45e-07\n",
            "Epoch 8/10\n",
            "  49/1131 [>.............................] - ETA: 4:00 - loss: 0.0959 - accuracy: 0.9684"
          ]
        },
        {
          "output_type": "error",
          "ename": "KeyboardInterrupt",
          "evalue": "ignored",
          "traceback": [
            "\u001b[0;31m---------------------------------------------------------------------------\u001b[0m",
            "\u001b[0;31mKeyboardInterrupt\u001b[0m                         Traceback (most recent call last)",
            "\u001b[0;32m<ipython-input-39-8f6c7f346044>\u001b[0m in \u001b[0;36m<cell line: 1>\u001b[0;34m()\u001b[0m\n\u001b[0;32m----> 1\u001b[0;31m \u001b[0mnew_model\u001b[0m\u001b[0;34m.\u001b[0m\u001b[0mfit\u001b[0m\u001b[0;34m(\u001b[0m\u001b[0mtrain_ds\u001b[0m\u001b[0;34m,\u001b[0m \u001b[0mvalidation_data\u001b[0m \u001b[0;34m=\u001b[0m \u001b[0mvalidation_ds\u001b[0m\u001b[0;34m,\u001b[0m \u001b[0mepochs\u001b[0m \u001b[0;34m=\u001b[0m \u001b[0mN_EPOCHS\u001b[0m\u001b[0;34m,\u001b[0m \u001b[0mverbose\u001b[0m \u001b[0;34m=\u001b[0m \u001b[0;36m1\u001b[0m\u001b[0;34m,\u001b[0m \u001b[0mcallbacks\u001b[0m \u001b[0;34m=\u001b[0m \u001b[0mcallbacks_list\u001b[0m\u001b[0;34m)\u001b[0m\u001b[0;34m\u001b[0m\u001b[0;34m\u001b[0m\u001b[0m\n\u001b[0m",
            "\u001b[0;32m/usr/local/lib/python3.9/dist-packages/keras/utils/traceback_utils.py\u001b[0m in \u001b[0;36merror_handler\u001b[0;34m(*args, **kwargs)\u001b[0m\n\u001b[1;32m     63\u001b[0m         \u001b[0mfiltered_tb\u001b[0m \u001b[0;34m=\u001b[0m \u001b[0;32mNone\u001b[0m\u001b[0;34m\u001b[0m\u001b[0;34m\u001b[0m\u001b[0m\n\u001b[1;32m     64\u001b[0m         \u001b[0;32mtry\u001b[0m\u001b[0;34m:\u001b[0m\u001b[0;34m\u001b[0m\u001b[0;34m\u001b[0m\u001b[0m\n\u001b[0;32m---> 65\u001b[0;31m             \u001b[0;32mreturn\u001b[0m \u001b[0mfn\u001b[0m\u001b[0;34m(\u001b[0m\u001b[0;34m*\u001b[0m\u001b[0margs\u001b[0m\u001b[0;34m,\u001b[0m \u001b[0;34m**\u001b[0m\u001b[0mkwargs\u001b[0m\u001b[0;34m)\u001b[0m\u001b[0;34m\u001b[0m\u001b[0;34m\u001b[0m\u001b[0m\n\u001b[0m\u001b[1;32m     66\u001b[0m         \u001b[0;32mexcept\u001b[0m \u001b[0mException\u001b[0m \u001b[0;32mas\u001b[0m \u001b[0me\u001b[0m\u001b[0;34m:\u001b[0m\u001b[0;34m\u001b[0m\u001b[0;34m\u001b[0m\u001b[0m\n\u001b[1;32m     67\u001b[0m             \u001b[0mfiltered_tb\u001b[0m \u001b[0;34m=\u001b[0m \u001b[0m_process_traceback_frames\u001b[0m\u001b[0;34m(\u001b[0m\u001b[0me\u001b[0m\u001b[0;34m.\u001b[0m\u001b[0m__traceback__\u001b[0m\u001b[0;34m)\u001b[0m\u001b[0;34m\u001b[0m\u001b[0;34m\u001b[0m\u001b[0m\n",
            "\u001b[0;32m/usr/local/lib/python3.9/dist-packages/keras/engine/training.py\u001b[0m in \u001b[0;36mfit\u001b[0;34m(self, x, y, batch_size, epochs, verbose, callbacks, validation_split, validation_data, shuffle, class_weight, sample_weight, initial_epoch, steps_per_epoch, validation_steps, validation_batch_size, validation_freq, max_queue_size, workers, use_multiprocessing)\u001b[0m\n\u001b[1;32m   1683\u001b[0m                         ):\n\u001b[1;32m   1684\u001b[0m                             \u001b[0mcallbacks\u001b[0m\u001b[0;34m.\u001b[0m\u001b[0mon_train_batch_begin\u001b[0m\u001b[0;34m(\u001b[0m\u001b[0mstep\u001b[0m\u001b[0;34m)\u001b[0m\u001b[0;34m\u001b[0m\u001b[0;34m\u001b[0m\u001b[0m\n\u001b[0;32m-> 1685\u001b[0;31m                             \u001b[0mtmp_logs\u001b[0m \u001b[0;34m=\u001b[0m \u001b[0mself\u001b[0m\u001b[0;34m.\u001b[0m\u001b[0mtrain_function\u001b[0m\u001b[0;34m(\u001b[0m\u001b[0miterator\u001b[0m\u001b[0;34m)\u001b[0m\u001b[0;34m\u001b[0m\u001b[0;34m\u001b[0m\u001b[0m\n\u001b[0m\u001b[1;32m   1686\u001b[0m                             \u001b[0;32mif\u001b[0m \u001b[0mdata_handler\u001b[0m\u001b[0;34m.\u001b[0m\u001b[0mshould_sync\u001b[0m\u001b[0;34m:\u001b[0m\u001b[0;34m\u001b[0m\u001b[0;34m\u001b[0m\u001b[0m\n\u001b[1;32m   1687\u001b[0m                                 \u001b[0mcontext\u001b[0m\u001b[0;34m.\u001b[0m\u001b[0masync_wait\u001b[0m\u001b[0;34m(\u001b[0m\u001b[0;34m)\u001b[0m\u001b[0;34m\u001b[0m\u001b[0;34m\u001b[0m\u001b[0m\n",
            "\u001b[0;32m/usr/local/lib/python3.9/dist-packages/tensorflow/python/util/traceback_utils.py\u001b[0m in \u001b[0;36merror_handler\u001b[0;34m(*args, **kwargs)\u001b[0m\n\u001b[1;32m    148\u001b[0m     \u001b[0mfiltered_tb\u001b[0m \u001b[0;34m=\u001b[0m \u001b[0;32mNone\u001b[0m\u001b[0;34m\u001b[0m\u001b[0;34m\u001b[0m\u001b[0m\n\u001b[1;32m    149\u001b[0m     \u001b[0;32mtry\u001b[0m\u001b[0;34m:\u001b[0m\u001b[0;34m\u001b[0m\u001b[0;34m\u001b[0m\u001b[0m\n\u001b[0;32m--> 150\u001b[0;31m       \u001b[0;32mreturn\u001b[0m \u001b[0mfn\u001b[0m\u001b[0;34m(\u001b[0m\u001b[0;34m*\u001b[0m\u001b[0margs\u001b[0m\u001b[0;34m,\u001b[0m \u001b[0;34m**\u001b[0m\u001b[0mkwargs\u001b[0m\u001b[0;34m)\u001b[0m\u001b[0;34m\u001b[0m\u001b[0;34m\u001b[0m\u001b[0m\n\u001b[0m\u001b[1;32m    151\u001b[0m     \u001b[0;32mexcept\u001b[0m \u001b[0mException\u001b[0m \u001b[0;32mas\u001b[0m \u001b[0me\u001b[0m\u001b[0;34m:\u001b[0m\u001b[0;34m\u001b[0m\u001b[0;34m\u001b[0m\u001b[0m\n\u001b[1;32m    152\u001b[0m       \u001b[0mfiltered_tb\u001b[0m \u001b[0;34m=\u001b[0m \u001b[0m_process_traceback_frames\u001b[0m\u001b[0;34m(\u001b[0m\u001b[0me\u001b[0m\u001b[0;34m.\u001b[0m\u001b[0m__traceback__\u001b[0m\u001b[0;34m)\u001b[0m\u001b[0;34m\u001b[0m\u001b[0;34m\u001b[0m\u001b[0m\n",
            "\u001b[0;32m/usr/local/lib/python3.9/dist-packages/tensorflow/python/eager/polymorphic_function/polymorphic_function.py\u001b[0m in \u001b[0;36m__call__\u001b[0;34m(self, *args, **kwds)\u001b[0m\n\u001b[1;32m    892\u001b[0m \u001b[0;34m\u001b[0m\u001b[0m\n\u001b[1;32m    893\u001b[0m       \u001b[0;32mwith\u001b[0m \u001b[0mOptionalXlaContext\u001b[0m\u001b[0;34m(\u001b[0m\u001b[0mself\u001b[0m\u001b[0;34m.\u001b[0m\u001b[0m_jit_compile\u001b[0m\u001b[0;34m)\u001b[0m\u001b[0;34m:\u001b[0m\u001b[0;34m\u001b[0m\u001b[0;34m\u001b[0m\u001b[0m\n\u001b[0;32m--> 894\u001b[0;31m         \u001b[0mresult\u001b[0m \u001b[0;34m=\u001b[0m \u001b[0mself\u001b[0m\u001b[0;34m.\u001b[0m\u001b[0m_call\u001b[0m\u001b[0;34m(\u001b[0m\u001b[0;34m*\u001b[0m\u001b[0margs\u001b[0m\u001b[0;34m,\u001b[0m \u001b[0;34m**\u001b[0m\u001b[0mkwds\u001b[0m\u001b[0;34m)\u001b[0m\u001b[0;34m\u001b[0m\u001b[0;34m\u001b[0m\u001b[0m\n\u001b[0m\u001b[1;32m    895\u001b[0m \u001b[0;34m\u001b[0m\u001b[0m\n\u001b[1;32m    896\u001b[0m       \u001b[0mnew_tracing_count\u001b[0m \u001b[0;34m=\u001b[0m \u001b[0mself\u001b[0m\u001b[0;34m.\u001b[0m\u001b[0mexperimental_get_tracing_count\u001b[0m\u001b[0;34m(\u001b[0m\u001b[0;34m)\u001b[0m\u001b[0;34m\u001b[0m\u001b[0;34m\u001b[0m\u001b[0m\n",
            "\u001b[0;32m/usr/local/lib/python3.9/dist-packages/tensorflow/python/eager/polymorphic_function/polymorphic_function.py\u001b[0m in \u001b[0;36m_call\u001b[0;34m(self, *args, **kwds)\u001b[0m\n\u001b[1;32m    924\u001b[0m       \u001b[0;31m# In this case we have created variables on the first call, so we run the\u001b[0m\u001b[0;34m\u001b[0m\u001b[0;34m\u001b[0m\u001b[0m\n\u001b[1;32m    925\u001b[0m       \u001b[0;31m# defunned version which is guaranteed to never create variables.\u001b[0m\u001b[0;34m\u001b[0m\u001b[0;34m\u001b[0m\u001b[0m\n\u001b[0;32m--> 926\u001b[0;31m       \u001b[0;32mreturn\u001b[0m \u001b[0mself\u001b[0m\u001b[0;34m.\u001b[0m\u001b[0m_no_variable_creation_fn\u001b[0m\u001b[0;34m(\u001b[0m\u001b[0;34m*\u001b[0m\u001b[0margs\u001b[0m\u001b[0;34m,\u001b[0m \u001b[0;34m**\u001b[0m\u001b[0mkwds\u001b[0m\u001b[0;34m)\u001b[0m  \u001b[0;31m# pylint: disable=not-callable\u001b[0m\u001b[0;34m\u001b[0m\u001b[0;34m\u001b[0m\u001b[0m\n\u001b[0m\u001b[1;32m    927\u001b[0m     \u001b[0;32melif\u001b[0m \u001b[0mself\u001b[0m\u001b[0;34m.\u001b[0m\u001b[0m_variable_creation_fn\u001b[0m \u001b[0;32mis\u001b[0m \u001b[0;32mnot\u001b[0m \u001b[0;32mNone\u001b[0m\u001b[0;34m:\u001b[0m\u001b[0;34m\u001b[0m\u001b[0;34m\u001b[0m\u001b[0m\n\u001b[1;32m    928\u001b[0m       \u001b[0;31m# Release the lock early so that multiple threads can perform the call\u001b[0m\u001b[0;34m\u001b[0m\u001b[0;34m\u001b[0m\u001b[0m\n",
            "\u001b[0;32m/usr/local/lib/python3.9/dist-packages/tensorflow/python/eager/polymorphic_function/tracing_compiler.py\u001b[0m in \u001b[0;36m__call__\u001b[0;34m(self, *args, **kwargs)\u001b[0m\n\u001b[1;32m    141\u001b[0m       (concrete_function,\n\u001b[1;32m    142\u001b[0m        filtered_flat_args) = self._maybe_define_function(args, kwargs)\n\u001b[0;32m--> 143\u001b[0;31m     return concrete_function._call_flat(\n\u001b[0m\u001b[1;32m    144\u001b[0m         filtered_flat_args, captured_inputs=concrete_function.captured_inputs)  # pylint: disable=protected-access\n\u001b[1;32m    145\u001b[0m \u001b[0;34m\u001b[0m\u001b[0m\n",
            "\u001b[0;32m/usr/local/lib/python3.9/dist-packages/tensorflow/python/eager/polymorphic_function/monomorphic_function.py\u001b[0m in \u001b[0;36m_call_flat\u001b[0;34m(self, args, captured_inputs, cancellation_manager)\u001b[0m\n\u001b[1;32m   1755\u001b[0m         and executing_eagerly):\n\u001b[1;32m   1756\u001b[0m       \u001b[0;31m# No tape is watching; skip to running the function.\u001b[0m\u001b[0;34m\u001b[0m\u001b[0;34m\u001b[0m\u001b[0m\n\u001b[0;32m-> 1757\u001b[0;31m       return self._build_call_outputs(self._inference_function.call(\n\u001b[0m\u001b[1;32m   1758\u001b[0m           ctx, args, cancellation_manager=cancellation_manager))\n\u001b[1;32m   1759\u001b[0m     forward_backward = self._select_forward_and_backward_functions(\n",
            "\u001b[0;32m/usr/local/lib/python3.9/dist-packages/tensorflow/python/eager/polymorphic_function/monomorphic_function.py\u001b[0m in \u001b[0;36mcall\u001b[0;34m(self, ctx, args, cancellation_manager)\u001b[0m\n\u001b[1;32m    379\u001b[0m       \u001b[0;32mwith\u001b[0m \u001b[0m_InterpolateFunctionError\u001b[0m\u001b[0;34m(\u001b[0m\u001b[0mself\u001b[0m\u001b[0;34m)\u001b[0m\u001b[0;34m:\u001b[0m\u001b[0;34m\u001b[0m\u001b[0;34m\u001b[0m\u001b[0m\n\u001b[1;32m    380\u001b[0m         \u001b[0;32mif\u001b[0m \u001b[0mcancellation_manager\u001b[0m \u001b[0;32mis\u001b[0m \u001b[0;32mNone\u001b[0m\u001b[0;34m:\u001b[0m\u001b[0;34m\u001b[0m\u001b[0;34m\u001b[0m\u001b[0m\n\u001b[0;32m--> 381\u001b[0;31m           outputs = execute.execute(\n\u001b[0m\u001b[1;32m    382\u001b[0m               \u001b[0mstr\u001b[0m\u001b[0;34m(\u001b[0m\u001b[0mself\u001b[0m\u001b[0;34m.\u001b[0m\u001b[0msignature\u001b[0m\u001b[0;34m.\u001b[0m\u001b[0mname\u001b[0m\u001b[0;34m)\u001b[0m\u001b[0;34m,\u001b[0m\u001b[0;34m\u001b[0m\u001b[0;34m\u001b[0m\u001b[0m\n\u001b[1;32m    383\u001b[0m               \u001b[0mnum_outputs\u001b[0m\u001b[0;34m=\u001b[0m\u001b[0mself\u001b[0m\u001b[0;34m.\u001b[0m\u001b[0m_num_outputs\u001b[0m\u001b[0;34m,\u001b[0m\u001b[0;34m\u001b[0m\u001b[0;34m\u001b[0m\u001b[0m\n",
            "\u001b[0;32m/usr/local/lib/python3.9/dist-packages/tensorflow/python/eager/execute.py\u001b[0m in \u001b[0;36mquick_execute\u001b[0;34m(op_name, num_outputs, inputs, attrs, ctx, name)\u001b[0m\n\u001b[1;32m     50\u001b[0m   \u001b[0;32mtry\u001b[0m\u001b[0;34m:\u001b[0m\u001b[0;34m\u001b[0m\u001b[0;34m\u001b[0m\u001b[0m\n\u001b[1;32m     51\u001b[0m     \u001b[0mctx\u001b[0m\u001b[0;34m.\u001b[0m\u001b[0mensure_initialized\u001b[0m\u001b[0;34m(\u001b[0m\u001b[0;34m)\u001b[0m\u001b[0;34m\u001b[0m\u001b[0;34m\u001b[0m\u001b[0m\n\u001b[0;32m---> 52\u001b[0;31m     tensors = pywrap_tfe.TFE_Py_Execute(ctx._handle, device_name, op_name,\n\u001b[0m\u001b[1;32m     53\u001b[0m                                         inputs, attrs, num_outputs)\n\u001b[1;32m     54\u001b[0m   \u001b[0;32mexcept\u001b[0m \u001b[0mcore\u001b[0m\u001b[0;34m.\u001b[0m\u001b[0m_NotOkStatusException\u001b[0m \u001b[0;32mas\u001b[0m \u001b[0me\u001b[0m\u001b[0;34m:\u001b[0m\u001b[0;34m\u001b[0m\u001b[0;34m\u001b[0m\u001b[0m\n",
            "\u001b[0;31mKeyboardInterrupt\u001b[0m: "
          ]
        }
      ],
      "source": [
        "new_model.fit(train_ds, validation_data = validation_ds, epochs = N_EPOCHS, verbose = 1, callbacks = callbacks_list)"
      ]
    },
    {
      "cell_type": "code",
      "execution_count": null,
      "metadata": {
        "colab": {
          "base_uri": "https://localhost:8080/"
        },
        "id": "MECqF1FxBoWb",
        "outputId": "e0f4f618-4dee-45ec-a54c-b385a1b9c36a"
      },
      "outputs": [
        {
          "output_type": "stream",
          "name": "stdout",
          "text": [
            "94/94 [==============================] - 20s 96ms/step - loss: 58.9725 - accuracy: 0.9246\n"
          ]
        },
        {
          "output_type": "execute_result",
          "data": {
            "text/plain": [
              "[58.972530364990234, 0.9246163964271545]"
            ]
          },
          "metadata": {},
          "execution_count": 38
        }
      ],
      "source": [
        "new_model.evaluate(validation_ds)"
      ]
    },
    {
      "cell_type": "markdown",
      "metadata": {
        "id": "SE2VWytqcW4B"
      },
      "source": [
        "# Adding ML classifier"
      ]
    },
    {
      "cell_type": "code",
      "execution_count": null,
      "metadata": {
        "id": "K6hRiG7R82LS"
      },
      "outputs": [],
      "source": [
        "def get_intermediate_model(model, last_layer_name: str):\n",
        "  layer_output = model.get_layer(last_layer_name).output\n",
        "  intermediate_model = tf.keras.models.Model(inputs=model.input,outputs=layer_output)\n",
        "  return intermediate_model"
      ]
    },
    {
      "cell_type": "code",
      "execution_count": null,
      "metadata": {
        "id": "A-ad0EHpcexq"
      },
      "outputs": [],
      "source": [
        "new_model.summary()"
      ]
    },
    {
      "cell_type": "code",
      "execution_count": null,
      "metadata": {
        "id": "hoK5gxpica__"
      },
      "outputs": [],
      "source": [
        "intermediate_model = get_intermediate_model(new_model, \"flatten_4\")  #change"
      ]
    },
    {
      "cell_type": "code",
      "execution_count": null,
      "metadata": {
        "id": "5BIi8lDIO986"
      },
      "outputs": [],
      "source": [
        "new_inp = intermediate_model.input\n",
        "x = Dropout(0.6)(intermediate_model.output)\n",
        "x = Dense(1000, activation = \"relu\")(x)\n",
        "x = Dropout(0.6)(x)\n",
        "x = Dense(1, activation = \"sigmoid\")(x)\n",
        "new_out = x\n",
        "new_model = tf.keras.models.Model(inputs=new_inp,outputs=x)"
      ]
    },
    {
      "cell_type": "code",
      "execution_count": null,
      "metadata": {
        "id": "WHpW0n5PO9_0"
      },
      "outputs": [],
      "source": [
        "new_model.summary()"
      ]
    },
    {
      "cell_type": "code",
      "execution_count": null,
      "metadata": {
        "colab": {
          "base_uri": "https://localhost:8080/"
        },
        "id": "6CjbBz2MO-C0",
        "outputId": "27cb8408-f129-45bf-aa3d-001f8e097def"
      },
      "outputs": [
        {
          "name": "stdout",
          "output_type": "stream",
          "text": [
            "learning rate: 1.00e-04, weight decay: 1.00e-04\n",
            "Epoch 1/10\n",
            "1131/1131 [==============================] - ETA: 0s - loss: 0.1757 - accuracy: 0.9289\n",
            "Epoch 1: val_accuracy improved from -inf to 0.90460, saving model to /content/model_stats-01-0.90.hdf5\n",
            "1131/1131 [==============================] - 271s 218ms/step - loss: 0.1757 - accuracy: 0.9289 - val_loss: 0.2191 - val_accuracy: 0.9046 - lr: 1.0000e-04\n",
            "learning rate: 9.75e-05, weight decay: 9.75e-05\n",
            "Epoch 2/10\n",
            "1131/1131 [==============================] - ETA: 0s - loss: 0.1379 - accuracy: 0.9446\n",
            "Epoch 2: val_accuracy did not improve from 0.90460\n",
            "1131/1131 [==============================] - 244s 215ms/step - loss: 0.1379 - accuracy: 0.9446 - val_loss: 0.2306 - val_accuracy: 0.9029 - lr: 9.7531e-05\n",
            "learning rate: 9.51e-05, weight decay: 9.51e-05\n",
            "Epoch 3/10\n",
            "1131/1131 [==============================] - ETA: 0s - loss: 0.1196 - accuracy: 0.9529\n",
            "Epoch 3: val_accuracy improved from 0.90460 to 0.90994, saving model to /content/model_stats-03-0.91.hdf5\n",
            "1131/1131 [==============================] - 244s 216ms/step - loss: 0.1196 - accuracy: 0.9529 - val_loss: 0.2276 - val_accuracy: 0.9099 - lr: 9.5123e-05\n",
            "learning rate: 9.28e-05, weight decay: 9.28e-05\n",
            "Epoch 4/10\n",
            "1131/1131 [==============================] - ETA: 0s - loss: 0.1018 - accuracy: 0.9595\n",
            "Epoch 4: val_accuracy improved from 0.90994 to 0.91578, saving model to /content/model_stats-04-0.92.hdf5\n",
            "1131/1131 [==============================] - 239s 211ms/step - loss: 0.1018 - accuracy: 0.9595 - val_loss: 0.2226 - val_accuracy: 0.9158 - lr: 9.2774e-05\n",
            "learning rate: 9.05e-05, weight decay: 9.05e-05\n",
            "Epoch 5/10\n",
            "1131/1131 [==============================] - ETA: 0s - loss: 0.0863 - accuracy: 0.9664\n",
            "Epoch 5: val_accuracy improved from 0.91578 to 0.92128, saving model to /content/model_stats-05-0.92.hdf5\n",
            "1131/1131 [==============================] - 243s 215ms/step - loss: 0.0863 - accuracy: 0.9664 - val_loss: 0.2335 - val_accuracy: 0.9213 - lr: 9.0484e-05\n",
            "learning rate: 8.82e-05, weight decay: 8.82e-05\n",
            "Epoch 6/10\n",
            "1131/1131 [==============================] - ETA: 0s - loss: 0.0691 - accuracy: 0.9739\n",
            "Epoch 6: val_accuracy did not improve from 0.92128\n",
            "1131/1131 [==============================] - 243s 214ms/step - loss: 0.0691 - accuracy: 0.9739 - val_loss: 0.2840 - val_accuracy: 0.9111 - lr: 8.8250e-05\n",
            "learning rate: 8.61e-05, weight decay: 8.61e-05\n",
            "Epoch 7/10\n",
            "1131/1131 [==============================] - ETA: 0s - loss: 0.0552 - accuracy: 0.9789\n",
            "Epoch 7: val_accuracy did not improve from 0.92128\n",
            "1131/1131 [==============================] - 238s 210ms/step - loss: 0.0552 - accuracy: 0.9789 - val_loss: 0.2996 - val_accuracy: 0.9159 - lr: 8.6071e-05\n",
            "learning rate: 8.39e-05, weight decay: 8.39e-05\n",
            "Epoch 8/10\n",
            "1131/1131 [==============================] - ETA: 0s - loss: 0.0433 - accuracy: 0.9841\n",
            "Epoch 8: val_accuracy did not improve from 0.92128\n",
            "1131/1131 [==============================] - 243s 214ms/step - loss: 0.0433 - accuracy: 0.9841 - val_loss: 0.3956 - val_accuracy: 0.9039 - lr: 8.3946e-05\n",
            "Epoch 8: early stopping\n"
          ]
        },
        {
          "data": {
            "text/plain": [
              "<keras.callbacks.History at 0x7fc48e38b1c0>"
            ]
          },
          "execution_count": 62,
          "metadata": {},
          "output_type": "execute_result"
        }
      ],
      "source": [
        "new_model.fit(train_ds, validation_data = validation_ds, epochs = N_EPOCHS, verbose = 1, callbacks = callbacks_list)"
      ]
    },
    {
      "cell_type": "markdown",
      "metadata": {
        "id": "Y72FPa1JV8xo"
      },
      "source": [
        "#### Training a SGDClassifier which is by default linear SVM"
      ]
    },
    {
      "cell_type": "code",
      "execution_count": null,
      "metadata": {
        "id": "QMLE3Q3rEMnN"
      },
      "outputs": [],
      "source": [
        "new_model.load_weights(\"/content/drive/MyDrive/DFD/1000_layer_model_stats-05-0.92.hdf5\")"
      ]
    },
    {
      "cell_type": "code",
      "execution_count": null,
      "metadata": {
        "id": "4pVaxPRXFFUk"
      },
      "outputs": [],
      "source": []
    },
    {
      "cell_type": "code",
      "execution_count": null,
      "metadata": {
        "id": "8B36T1LjFFrW"
      },
      "outputs": [],
      "source": [
        "intermediate_model = get_intermediate_model(new_model, \"dense_11\")  #change"
      ]
    },
    {
      "cell_type": "code",
      "execution_count": null,
      "metadata": {
        "id": "8vR7PwJKwWRd"
      },
      "outputs": [],
      "source": [
        "from sklearn.linear_model import SGDClassifier\n",
        "import random\n",
        "from sklearn.preprocessing import StandardScaler\n",
        "scaler = StandardScaler()\n",
        "clf = SGDClassifier() # by default loss is hinge so it is an linear svm\n",
        "\n",
        "cur_features = []\n",
        "cur_y_train = []\n",
        "i=1\n",
        "for img_batch, label_batch in train_ds:\n",
        "  features = intermediate_model.predict(img_batch)\n",
        "  cur_features.append(features)\n",
        "  cur_y_train.append(label_batch)\n",
        "\n",
        "  if i%131==0:\n",
        "    cur_features = np.array(cur_features, dtype='float32')\n",
        "    cur_features = cur_features.reshape(-1, cur_features.shape[2])\n",
        "    cur_y_train = np.array(cur_y_train, dtype = 'int')\n",
        "    cur_y_train = np.concatenate([item for item in cur_y_train], axis = 0)\n",
        "    # cur_features = scaler.fit_transform(cur_features)\n",
        "    clf.partial_fit(cur_features, cur_y_train, classes = np.unique(cur_y_train))\n",
        "    cur_features = []\n",
        "    cur_y_train = []\n",
        "  \n",
        "  if i==1310:\n",
        "    break\n",
        "\n",
        "  i+=1"
      ]
    },
    {
      "cell_type": "code",
      "execution_count": null,
      "metadata": {
        "id": "PgzULoyqOVvw"
      },
      "outputs": [],
      "source": [
        "del cur_features\n",
        "del cur_y_train"
      ]
    },
    {
      "cell_type": "code",
      "execution_count": null,
      "metadata": {
        "id": "MlYyPpJPIGiO"
      },
      "outputs": [],
      "source": [
        "new_model.save(\"/content/1000_layer_output_model.h5\")"
      ]
    },
    {
      "cell_type": "code",
      "execution_count": null,
      "metadata": {
        "id": "sWdejoo80Lvc"
      },
      "outputs": [],
      "source": [
        "cur_features = []\n",
        "cur_y_test = []\n",
        "i = 1\n",
        "for img_batch, label_batch in validation_ds:\n",
        "  features = intermediate_model.predict(img_batch)\n",
        "  cur_features.append(features)\n",
        "  cur_y_test.append(label_batch)\n",
        "  if i==93:\n",
        "    break\n",
        "  i+=1\n",
        "\n",
        "cur_features = np.array(cur_features, dtype='float32')\n",
        "cur_features = cur_features.reshape(-1, cur_features.shape[2])\n",
        "cur_y_test = np.array(cur_y_test, dtype = 'int')\n",
        "cur_y_test = np.concatenate([item for item in cur_y_test], axis = 0)"
      ]
    },
    {
      "cell_type": "code",
      "execution_count": null,
      "metadata": {
        "id": "TxqolhkNOb09",
        "colab": {
          "base_uri": "https://localhost:8080/"
        },
        "outputId": "6b979c8e-ac6a-4a6f-9c12-6b6773a736d5"
      },
      "outputs": [
        {
          "output_type": "stream",
          "name": "stdout",
          "text": [
            "              precision    recall  f1-score   support\n",
            "\n",
            "           0       0.92      0.92      0.92      2973\n",
            "           1       0.92      0.92      0.92      2979\n",
            "\n",
            "    accuracy                           0.92      5952\n",
            "   macro avg       0.92      0.92      0.92      5952\n",
            "weighted avg       0.92      0.92      0.92      5952\n",
            "\n"
          ]
        }
      ],
      "source": [
        "# SVM\n",
        "pred_svm = clf.predict(cur_features)\n",
        "from sklearn.metrics import classification_report\n",
        "report_svm = classification_report(cur_y_test, pred_svm)\n",
        "print(report_svm)"
      ]
    },
    {
      "cell_type": "code",
      "execution_count": null,
      "metadata": {
        "colab": {
          "base_uri": "https://localhost:8080/",
          "height": 489
        },
        "id": "T_H7Yl6iVBDw",
        "outputId": "dd84ce7c-2400-4ff6-be05-3af54b104f75"
      },
      "outputs": [
        {
          "data": {
            "text/plain": [
              "<matplotlib.legend.Legend at 0x7f3946d830d0>"
            ]
          },
          "execution_count": 39,
          "metadata": {},
          "output_type": "execute_result"
        },
        {
          "data": {
            "image/png": "[encoded data removed]",
            "text/plain": [
              "<Figure size 640x480 with 1 Axes>"
            ]
          },
          "metadata": {},
          "output_type": "display_data"
        }
      ],
      "source": [
        "from sklearn.metrics import roc_curve, auc\n",
        "fpr, tpr, thresholds = roc_curve(cur_y_test, pred_svm)\n",
        "roc_auc = auc(fpr, tpr)\n",
        "plt.figure()\n",
        "plt.plot(fpr, tpr, color='darkorange', lw=2, label='ROC curve (area = %0.2f)' % roc_auc)\n",
        "plt.plot([0, 1], [0, 1], color='navy', lw=2, linestyle='--')\n",
        "plt.xlim([0.0, 1.0])\n",
        "plt.ylim([0.0, 1.05])\n",
        "plt.xlabel('False Positive Rate')\n",
        "plt.ylabel('True Positive Rate')\n",
        "plt.title('Receiver operating characteristic')\n",
        "plt.legend(loc=\"lower right\")"
      ]
    },
    {
      "cell_type": "code",
      "execution_count": null,
      "metadata": {
        "id": "Ekxo6fWcOb3X"
      },
      "outputs": [],
      "source": [
        "def f_importances(coef, names):\n",
        "    imp = coef\n",
        "    imp,names = zip(*sorted(zip(imp,names)))\n",
        "    plt.barh(range(len(names)), imp, align='center')\n",
        "    plt.yticks(range(len(names)), names)\n",
        "    plt.show()"
      ]
    },
    {
      "cell_type": "markdown",
      "metadata": {
        "id": "UbD4OwHDbiyP"
      },
      "source": [
        "#### Saving the SVM model"
      ]
    },
    {
      "cell_type": "code",
      "execution_count": null,
      "metadata": {
        "colab": {
          "base_uri": "https://localhost:8080/"
        },
        "id": "aQzK3LxrV6q-",
        "outputId": "6bdef94e-cec2-4575-8128-0b2915d33845"
      },
      "outputs": [
        {
          "data": {
            "text/plain": [
              "['/content/temp_svm_1000_output_model.sav']"
            ]
          },
          "execution_count": 73,
          "metadata": {},
          "output_type": "execute_result"
        }
      ],
      "source": [
        "import joblib\n",
        "filename = '/content/temp_svm_1000_output_model.sav'\n",
        "joblib.dump(clf, filename)"
      ]
    },
    {
      "cell_type": "code",
      "execution_count": null,
      "metadata": {
        "id": "Ne9eXVQPV6t3"
      },
      "outputs": [],
      "source": [
        "# load the model from disk\n",
        "import joblib\n",
        "clf = joblib.load(\"/content/drive/MyDrive/DFD/temp_svm_1000_output_model.sav\")  #change filename\n",
        "# result = loaded_model.score(X_test, Y_test) #change\n",
        "# print(result)"
      ]
    },
    {
      "cell_type": "markdown",
      "metadata": {
        "id": "GeB-dDyub1Fp"
      },
      "source": [
        "### Trying XGBoost model "
      ]
    },
    {
      "cell_type": "code",
      "execution_count": null,
      "metadata": {
        "id": "Jur9Suiub0Ov"
      },
      "outputs": [],
      "source": [
        "import xgboost as xgb\n",
        "\n",
        "cur_features = []\n",
        "cur_y_train = []\n",
        "i=1\n",
        "model = None\n",
        "params = {\n",
        "    \"eta\" : 0.1,\n",
        "    \"max_depth\" : 10,\n",
        "    \"tree_method\" : \"gpu_hist\",\n",
        "    \"predictor\" : \"gpu_predictor\"\n",
        "}\n",
        "for img_batch, label_batch in train_ds:\n",
        "  features = intermediate_model.predict(img_batch)\n",
        "  cur_features.append(features)\n",
        "  cur_y_train.append(label_batch)\n",
        "\n",
        "  if i%154==0: #154\n",
        "    cur_features = np.array(cur_features, dtype='float32')\n",
        "    cur_features = cur_features.reshape(-1, cur_features.shape[2])\n",
        "    cur_y_train = np.array(cur_y_train, dtype = 'int')\n",
        "    cur_y_train = np.concatenate([item for item in cur_y_train], axis = 0)\n",
        "    dtrain = xgb.DMatrix(cur_features, cur_y_train)\n",
        "    model = xgb.train(params, dtrain, xgb_model=model)\n",
        "    cur_features = []\n",
        "    cur_y_train = []\n",
        "  \n",
        "  if i==924:  #924\n",
        "    break\n",
        "\n",
        "  i+=1"
      ]
    },
    {
      "cell_type": "code",
      "execution_count": null,
      "metadata": {
        "id": "sd6jFkEck4ha"
      },
      "outputs": [],
      "source": [
        "cur_features = []\n",
        "cur_y_test = []\n",
        "i = 1\n",
        "for img_batch, label_batch in validation_ds:\n",
        "  features = intermediate_model.predict(img_batch)\n",
        "  cur_features.append(features)\n",
        "  cur_y_test.append(label_batch)\n",
        "  if i==140: #break\n",
        "    break\n",
        "  i+=1\n",
        "\n",
        "cur_features = np.array(cur_features, dtype='float32')\n",
        "cur_features = cur_features.reshape(-1, cur_features.shape[2])\n",
        "cur_y_test = np.array(cur_y_test, dtype = 'int')\n",
        "cur_y_test = np.concatenate([item for item in cur_y_test], axis = 0)"
      ]
    },
    {
      "cell_type": "code",
      "execution_count": null,
      "metadata": {
        "colab": {
          "base_uri": "https://localhost:8080/"
        },
        "id": "UZxQn6WMk4j4",
        "outputId": "002d4370-8295-4583-fab7-637a591a426b"
      },
      "outputs": [
        {
          "name": "stdout",
          "output_type": "stream",
          "text": [
            "              precision    recall  f1-score   support\n",
            "\n",
            "           0       0.94      0.92      0.93      3979\n",
            "           1       0.94      0.95      0.95      4981\n",
            "\n",
            "    accuracy                           0.94      8960\n",
            "   macro avg       0.94      0.94      0.94      8960\n",
            "weighted avg       0.94      0.94      0.94      8960\n",
            "\n"
          ]
        }
      ],
      "source": [
        "pred_xgb = model.predict(xgb.DMatrix(cur_features))\n",
        "pred_xgb = np.where(pred_xgb > 0.5, 1, 0)\n",
        "# pred_xgb = xgb.predict(cur_features)\n",
        "from sklearn.metrics import classification_report\n",
        "report_xgb = classification_report(cur_y_test, pred_xgb)\n",
        "print(report_xgb)"
      ]
    },
    {
      "cell_type": "code",
      "execution_count": null,
      "metadata": {
        "id": "Asn9OJ01b0aL"
      },
      "outputs": [],
      "source": []
    },
    {
      "cell_type": "code",
      "execution_count": null,
      "metadata": {
        "id": "Mc-wNKYwchb1"
      },
      "outputs": [],
      "source": [
        "final_features = []\n",
        "y_train = []\n",
        "\n",
        "for img_batch, label_batch in train_ds:\n",
        "  features = intermediate_model.predict(img_batch)\n",
        "  final_features.append(features)\n",
        "  y_train.append(label_batch)\n",
        "\n",
        "    \n",
        "final_features = np.array(final_features, dtype='float32') #total no. of images must be multiple of 32\n",
        "y_train = np.array(y_train, dtype = 'int')\n",
        "final_features = final_features.reshape(-1, final_features.shape[2])\n",
        "y_train = np.concatenate([item for item in y_train], axis = 0)\n",
        "final_features.shape"
      ]
    },
    {
      "cell_type": "code",
      "execution_count": null,
      "metadata": {
        "id": "Lz5g_HLkcj7F"
      },
      "outputs": [],
      "source": [
        "# Training XGBoost model\n",
        "import xgboost as xgb\n",
        "xgb_model = xgb.XGBClassifier()\n",
        "xgb_model.fit(final_features, y_train)"
      ]
    },
    {
      "cell_type": "code",
      "execution_count": null,
      "metadata": {
        "id": "0w0XKb85cq2B"
      },
      "outputs": [],
      "source": [
        "# Training a SVM model\n",
        "from sklearn.svm import SVC \n",
        "svm = SVC(kernel = 'linear', C=0.1)\n",
        "svm.fit(final_features, y_train)"
      ]
    },
    {
      "cell_type": "code",
      "execution_count": null,
      "metadata": {
        "id": "Nz55FcitctB-"
      },
      "outputs": [],
      "source": [
        "# Training Random Forest model\n",
        "from sklearn.ensemble import RandomForestClassifier\n",
        "rfc = RandomForestClassifier()\n",
        "rfc.fit(final_features, y_train)"
      ]
    },
    {
      "cell_type": "code",
      "execution_count": null,
      "metadata": {
        "id": "MInxkxxbcvYH"
      },
      "outputs": [],
      "source": [
        "# Training Logistic Regression model\n",
        "from sklearn.linear_model import LogisticRegression\n",
        "lr = LogisticRegression()\n",
        "lr.fit(final_features, y_train)"
      ]
    },
    {
      "cell_type": "code",
      "execution_count": null,
      "metadata": {
        "id": "SRSCGV7ocxnp"
      },
      "outputs": [],
      "source": [
        "del final_features\n",
        "del y_train"
      ]
    },
    {
      "cell_type": "code",
      "execution_count": null,
      "metadata": {
        "id": "ps3elfdtczdV"
      },
      "outputs": [],
      "source": [
        "test_final_features = []\n",
        "y_test = []\n",
        "\n",
        "for img_batch, label_batch in validation_ds:\n",
        "  features = intermediate_model.predict(img_batch)\n",
        "  test_final_features.append(features)\n",
        "  y_test.append(label_batch)\n",
        "\n",
        "test_final_features = np.array(test_final_features, dtype='float32')\n",
        "y_test = np.array(y_test, dtype = 'int')\n",
        "test_final_features = test_final_features.reshape(-1, test_final_features.shape[2])\n",
        "y_test = np.concatenate([item for item in y_test], axis = 0)\n",
        "test_final_features.shape"
      ]
    },
    {
      "cell_type": "code",
      "execution_count": null,
      "metadata": {
        "id": "bA8TUGPUc4ZK"
      },
      "outputs": [],
      "source": [
        "pred_xgb = xgb_model.predict(test_final_features)\n",
        "from sklearn.metrics import classification_report\n",
        "report_xgb = classification_report(y_test, pred_xgb)\n",
        "print(report_xgb)"
      ]
    },
    {
      "cell_type": "code",
      "execution_count": null,
      "metadata": {
        "id": "RLXwhB7Kc6UN"
      },
      "outputs": [],
      "source": [
        "from sklearn.metrics import confusion_matrix\n",
        "import seaborn as sns\n",
        "cm = confusion_matrix(y_test, pred_xgb)\n",
        "sns.heatmap(cm, annot=True)"
      ]
    },
    {
      "cell_type": "code",
      "execution_count": null,
      "metadata": {
        "id": "XbfnGaI4c8x3"
      },
      "outputs": [],
      "source": [
        "# SVM\n",
        "pred_svm = svm.predict(test_final_features)\n",
        "from sklearn.metrics import classification_report\n",
        "report_svm = classification_report(y_test, pred_svm)\n",
        "print(report_svm)"
      ]
    },
    {
      "cell_type": "code",
      "execution_count": null,
      "metadata": {
        "id": "KFlYQPmodB1l"
      },
      "outputs": [],
      "source": [
        "# Random Forest\n",
        "pred_rfc = rfc.predict(test_final_features)\n",
        "from sklearn.metrics import classification_report\n",
        "report_rfc = classification_report(y_test, pred_rfc)\n",
        "print(report_rfc)"
      ]
    },
    {
      "cell_type": "code",
      "execution_count": null,
      "metadata": {
        "id": "Qk9dG-O0dD0l"
      },
      "outputs": [],
      "source": [
        "# LR\n",
        "pred_lr = lr.predict(test_final_features)\n",
        "from sklearn.metrics import classification_report\n",
        "report_lr = classification_report(y_test, pred_lr)\n",
        "print(report_lr)"
      ]
    },
    {
      "cell_type": "markdown",
      "metadata": {
        "id": "SsZXdSvzdJ_v"
      },
      "source": [
        "### Trying out GridSearch CV"
      ]
    },
    {
      "cell_type": "code",
      "execution_count": null,
      "metadata": {
        "id": "RvIuZUildMp7"
      },
      "outputs": [],
      "source": [
        "# Training a SVM model\n",
        "from sklearn.model_selection import GridSearchCV\n",
        "from sklearn.svm import SVC \n",
        "svc= SVC()\n",
        "parameters = {\n",
        "    \"kernel\": [\"linear\",\"rbf\"],\n",
        "    \"C\":[0.1,1,10]\n",
        "}\n",
        "\n",
        "cv = GridSearchCV(svc,parameters,cv=5)\n",
        "cv.fit(final_features,y_train) "
      ]
    },
    {
      "cell_type": "code",
      "execution_count": null,
      "metadata": {
        "id": "SM-VT6QUdTUG"
      },
      "outputs": [],
      "source": [
        "print(cv.best_params_)\n",
        "print(cv.best_score_)\n",
        "print(cv.best_estimator_)"
      ]
    },
    {
      "cell_type": "code",
      "execution_count": null,
      "metadata": {
        "id": "M43103PzdTur"
      },
      "outputs": [],
      "source": []
    },
    {
      "cell_type": "markdown",
      "metadata": {
        "id": "g7iT4zoAd7b6"
      },
      "source": [
        "### Testing on \"Actual Test data\" provided by competition"
      ]
    },
    {
      "cell_type": "code",
      "execution_count": null,
      "metadata": {
        "id": "AF_c4gWIehzb"
      },
      "outputs": [],
      "source": [
        "os.makedirs(\"/content/Test Data/Deepfake\")\n",
        "os.makedirs(\"/content/Test Data/Real\")"
      ]
    },
    {
      "cell_type": "code",
      "source": [
        "root_dir = \"/content/drive/MyDrive/Omdena DeepFake Image Detection (preprocessed data)/Test_Dataset/test-task1\"\n",
        "test_real = \"/content/Test Data/Real\"\n",
        "test_deepfake = \"/content/Test Data/Deepfake\"\n",
        "i = 0\n",
        "with open(\"/content/labels.txt\", \"r\") as file:\n",
        "  label = file.readlines()\n",
        "  for path in os.listdir(root_dir):\n",
        "    if label[i][0] == '1':\n",
        "      shutil.copy(root_dir + \"/\" + path,test_deepfake)\n",
        "    else:\n",
        "      shutil.copy(root_dir + \"/\" + path, test_real)\n",
        "    i+=1\n",
        "\n",
        "print(len(os.listdir(test_real)), len(os.listdir(test_deepfake))) "
      ],
      "metadata": {
        "colab": {
          "base_uri": "https://localhost:8080/"
        },
        "id": "K7VKz92pHdUi",
        "outputId": "705c23aa-8741-42ef-83d0-ffbe6e44dcc1"
      },
      "execution_count": null,
      "outputs": [
        {
          "output_type": "stream",
          "name": "stdout",
          "text": [
            "2000 5000\n"
          ]
        }
      ]
    },
    {
      "cell_type": "code",
      "execution_count": null,
      "metadata": {
        "colab": {
          "base_uri": "https://localhost:8080/"
        },
        "id": "NST0jbUteMWx",
        "outputId": "bc423c24-a1bf-4487-8fc0-9211f22f75eb"
      },
      "outputs": [
        {
          "output_type": "stream",
          "name": "stdout",
          "text": [
            "Found 7000 files belonging to 2 classes.\n"
          ]
        }
      ],
      "source": [
        "test_ds = keras.utils.image_dataset_from_directory(\n",
        "    directory = '/content/Test Data',\n",
        "    labels='inferred',\n",
        "    label_mode = 'int',\n",
        "    batch_size=64,\n",
        "    image_size=(160,160),\n",
        "    shuffle = True,\n",
        "    seed = 0\n",
        ")\n",
        "\n",
        "def preprocess(image, label):\n",
        "  image = tf.cast(image, tf.float32)\n",
        "  image = image/255.0\n",
        "  return image, label\n",
        "\n",
        "test_ds = test_ds.map(preprocess)\n",
        "\n",
        "\n",
        "AUTOTUNE = tf.data.AUTOTUNE\n",
        "\n",
        "test_ds = test_ds.prefetch(buffer_size=AUTOTUNE)"
      ]
    },
    {
      "cell_type": "code",
      "source": [
        "new_model.evaluate(test_ds)"
      ],
      "metadata": {
        "colab": {
          "base_uri": "https://localhost:8080/"
        },
        "id": "eSSy2s_OHgDo",
        "outputId": "90d2f503-2bff-4321-8ced-fbb03d2ae2c5"
      },
      "execution_count": null,
      "outputs": [
        {
          "output_type": "stream",
          "name": "stdout",
          "text": [
            "110/110 [==============================] - 30s 149ms/step - loss: 1.4025 - accuracy: 0.6274\n"
          ]
        },
        {
          "output_type": "execute_result",
          "data": {
            "text/plain": [
              "[1.4024773836135864, 0.6274285912513733]"
            ]
          },
          "metadata": {},
          "execution_count": 27
        }
      ]
    },
    {
      "cell_type": "code",
      "execution_count": null,
      "metadata": {
        "id": "86yH40kQ4ATW"
      },
      "outputs": [],
      "source": [
        "cur_features = []\n",
        "cur_y_test = []\n",
        "i = 1\n",
        "for img_batch, label_batch in test_ds:\n",
        "  features = new_model.predict(img_batch)\n",
        "  features[features >=0.6] = 1\n",
        "  features[features < 0.6] = 0\n",
        "  cur_features.append(features)\n",
        "  cur_y_test.append(label_batch)\n",
        "  if i==109:\n",
        "    break\n",
        "  i+=1\n",
        "\n",
        "cur_features = np.array(cur_features, dtype='float32')\n",
        "cur_features = cur_features.reshape(-1, cur_features.shape[2])\n",
        "cur_y_test = np.array(cur_y_test, dtype = 'int')\n",
        "cur_y_test = np.concatenate([item for item in cur_y_test], axis = 0)"
      ]
    },
    {
      "cell_type": "code",
      "source": [
        "from sklearn.metrics import classification_report\n",
        "print(classification_report(cur_y_test, cur_features))"
      ],
      "metadata": {
        "colab": {
          "base_uri": "https://localhost:8080/"
        },
        "id": "0hNNEhr4_6r7",
        "outputId": "9c144e28-54da-4803-ab60-b15041dc471e"
      },
      "execution_count": null,
      "outputs": [
        {
          "output_type": "stream",
          "name": "stdout",
          "text": [
            "              precision    recall  f1-score   support\n",
            "\n",
            "           0       0.74      0.75      0.75      4985\n",
            "           1       0.35      0.34      0.35      1991\n",
            "\n",
            "    accuracy                           0.63      6976\n",
            "   macro avg       0.55      0.55      0.55      6976\n",
            "weighted avg       0.63      0.63      0.63      6976\n",
            "\n"
          ]
        }
      ]
    },
    {
      "cell_type": "code",
      "source": [
        "# SVM\n",
        "pred_svm = clf.predict(cur_features)\n",
        "from sklearn.metrics import classification_report\n",
        "report_svm = classification_report(cur_y_test, pred_svm)\n",
        "print(report_svm)"
      ],
      "metadata": {
        "colab": {
          "base_uri": "https://localhost:8080/"
        },
        "id": "M0lzen3RPAVc",
        "outputId": "0097bf00-eeae-43fe-8594-97d4c1a5f68e"
      },
      "execution_count": null,
      "outputs": [
        {
          "output_type": "stream",
          "name": "stdout",
          "text": [
            "              precision    recall  f1-score   support\n",
            "\n",
            "           0       0.74      0.73      0.74      4985\n",
            "           1       0.35      0.36      0.35      1991\n",
            "\n",
            "    accuracy                           0.63      6976\n",
            "   macro avg       0.55      0.55      0.55      6976\n",
            "weighted avg       0.63      0.63      0.63      6976\n",
            "\n"
          ]
        }
      ]
    },
    {
      "cell_type": "code",
      "source": [],
      "metadata": {
        "id": "mPmX2AgqOwJy"
      },
      "execution_count": null,
      "outputs": []
    },
    {
      "cell_type": "code",
      "source": [],
      "metadata": {
        "id": "dBEurmjSOwLW"
      },
      "execution_count": null,
      "outputs": []
    },
    {
      "cell_type": "markdown",
      "metadata": {
        "id": "M4Vxx9EaieXd"
      },
      "source": [
        "### Seeing which images it is misclassifying"
      ]
    },
    {
      "cell_type": "code",
      "execution_count": null,
      "metadata": {
        "id": "e6kzLrQOjXiY"
      },
      "outputs": [],
      "source": [
        "model = Model(inputs = input, outputs = x)\n",
        "model.load_weights(\"/content/drive/MyDrive/DFD/lil_model_stats-01-0.95.hdf5\")\n",
        "# model.compile(optimizer=optimizer, loss=loss, metrics=metrics)"
      ]
    }
  ],
  "metadata": {
    "colab": {
      "provenance": []
    },
    "gpuClass": "standard",
    "kernelspec": {
      "display_name": "Python 3",
      "name": "python3"
    },
    "language_info": {
      "name": "python"
    },
    "accelerator": "GPU"
  },
  "nbformat": 4,
  "nbformat_minor": 0
}